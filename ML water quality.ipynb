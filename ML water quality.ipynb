{
 "cells": [
  {
   "cell_type": "code",
   "execution_count": 1,
   "id": "054c7b2b",
   "metadata": {},
   "outputs": [],
   "source": [
    "import pandas as pd\n",
    "import numpy as np\n",
    "import matplotlib.pyplot as plt\n",
    "import seaborn as sns\n",
    "pd.set_option('display.max_column',None)\n",
    "from scipy import stats\n",
    "import statsmodels.api as sm\n",
    "from statsmodels.formula.api import ols\n",
    "import statsmodels.formula.api as smf\n"
   ]
  },
  {
   "cell_type": "code",
   "execution_count": 2,
   "id": "8da95235",
   "metadata": {},
   "outputs": [],
   "source": [
    "df=pd.read_csv('waterQuality1.csv')"
   ]
  },
  {
   "cell_type": "code",
   "execution_count": 3,
   "id": "e59b51a6",
   "metadata": {},
   "outputs": [
    {
     "data": {
      "text/html": [
       "<div>\n",
       "<style scoped>\n",
       "    .dataframe tbody tr th:only-of-type {\n",
       "        vertical-align: middle;\n",
       "    }\n",
       "\n",
       "    .dataframe tbody tr th {\n",
       "        vertical-align: top;\n",
       "    }\n",
       "\n",
       "    .dataframe thead th {\n",
       "        text-align: right;\n",
       "    }\n",
       "</style>\n",
       "<table border=\"1\" class=\"dataframe\">\n",
       "  <thead>\n",
       "    <tr style=\"text-align: right;\">\n",
       "      <th></th>\n",
       "      <th>aluminium</th>\n",
       "      <th>ammonia</th>\n",
       "      <th>arsenic</th>\n",
       "      <th>barium</th>\n",
       "      <th>cadmium</th>\n",
       "      <th>chloramine</th>\n",
       "      <th>chromium</th>\n",
       "      <th>copper</th>\n",
       "      <th>flouride</th>\n",
       "      <th>bacteria</th>\n",
       "      <th>viruses</th>\n",
       "      <th>lead</th>\n",
       "      <th>nitrates</th>\n",
       "      <th>nitrites</th>\n",
       "      <th>mercury</th>\n",
       "      <th>perchlorate</th>\n",
       "      <th>radium</th>\n",
       "      <th>selenium</th>\n",
       "      <th>silver</th>\n",
       "      <th>uranium</th>\n",
       "      <th>is_safe</th>\n",
       "    </tr>\n",
       "  </thead>\n",
       "  <tbody>\n",
       "    <tr>\n",
       "      <th>0</th>\n",
       "      <td>1.65</td>\n",
       "      <td>9.08</td>\n",
       "      <td>0.04</td>\n",
       "      <td>2.85</td>\n",
       "      <td>0.007</td>\n",
       "      <td>0.35</td>\n",
       "      <td>0.83</td>\n",
       "      <td>0.17</td>\n",
       "      <td>0.05</td>\n",
       "      <td>0.20</td>\n",
       "      <td>0.000</td>\n",
       "      <td>0.054</td>\n",
       "      <td>16.08</td>\n",
       "      <td>1.13</td>\n",
       "      <td>0.007</td>\n",
       "      <td>37.75</td>\n",
       "      <td>6.78</td>\n",
       "      <td>0.08</td>\n",
       "      <td>0.34</td>\n",
       "      <td>0.02</td>\n",
       "      <td>1</td>\n",
       "    </tr>\n",
       "    <tr>\n",
       "      <th>1</th>\n",
       "      <td>2.32</td>\n",
       "      <td>21.16</td>\n",
       "      <td>0.01</td>\n",
       "      <td>3.31</td>\n",
       "      <td>0.002</td>\n",
       "      <td>5.28</td>\n",
       "      <td>0.68</td>\n",
       "      <td>0.66</td>\n",
       "      <td>0.90</td>\n",
       "      <td>0.65</td>\n",
       "      <td>0.650</td>\n",
       "      <td>0.100</td>\n",
       "      <td>2.01</td>\n",
       "      <td>1.93</td>\n",
       "      <td>0.003</td>\n",
       "      <td>32.26</td>\n",
       "      <td>3.21</td>\n",
       "      <td>0.08</td>\n",
       "      <td>0.27</td>\n",
       "      <td>0.05</td>\n",
       "      <td>1</td>\n",
       "    </tr>\n",
       "    <tr>\n",
       "      <th>2</th>\n",
       "      <td>1.01</td>\n",
       "      <td>14.02</td>\n",
       "      <td>0.04</td>\n",
       "      <td>0.58</td>\n",
       "      <td>0.008</td>\n",
       "      <td>4.24</td>\n",
       "      <td>0.53</td>\n",
       "      <td>0.02</td>\n",
       "      <td>0.99</td>\n",
       "      <td>0.05</td>\n",
       "      <td>0.003</td>\n",
       "      <td>0.078</td>\n",
       "      <td>14.16</td>\n",
       "      <td>1.11</td>\n",
       "      <td>0.006</td>\n",
       "      <td>50.28</td>\n",
       "      <td>7.07</td>\n",
       "      <td>0.07</td>\n",
       "      <td>0.44</td>\n",
       "      <td>0.01</td>\n",
       "      <td>0</td>\n",
       "    </tr>\n",
       "    <tr>\n",
       "      <th>3</th>\n",
       "      <td>1.36</td>\n",
       "      <td>11.33</td>\n",
       "      <td>0.04</td>\n",
       "      <td>2.96</td>\n",
       "      <td>0.001</td>\n",
       "      <td>7.23</td>\n",
       "      <td>0.03</td>\n",
       "      <td>1.66</td>\n",
       "      <td>1.08</td>\n",
       "      <td>0.71</td>\n",
       "      <td>0.710</td>\n",
       "      <td>0.016</td>\n",
       "      <td>1.41</td>\n",
       "      <td>1.29</td>\n",
       "      <td>0.004</td>\n",
       "      <td>9.12</td>\n",
       "      <td>1.72</td>\n",
       "      <td>0.02</td>\n",
       "      <td>0.45</td>\n",
       "      <td>0.05</td>\n",
       "      <td>1</td>\n",
       "    </tr>\n",
       "    <tr>\n",
       "      <th>4</th>\n",
       "      <td>0.92</td>\n",
       "      <td>24.33</td>\n",
       "      <td>0.03</td>\n",
       "      <td>0.20</td>\n",
       "      <td>0.006</td>\n",
       "      <td>2.67</td>\n",
       "      <td>0.69</td>\n",
       "      <td>0.57</td>\n",
       "      <td>0.61</td>\n",
       "      <td>0.13</td>\n",
       "      <td>0.001</td>\n",
       "      <td>0.117</td>\n",
       "      <td>6.74</td>\n",
       "      <td>1.11</td>\n",
       "      <td>0.003</td>\n",
       "      <td>16.90</td>\n",
       "      <td>2.41</td>\n",
       "      <td>0.02</td>\n",
       "      <td>0.06</td>\n",
       "      <td>0.02</td>\n",
       "      <td>1</td>\n",
       "    </tr>\n",
       "    <tr>\n",
       "      <th>...</th>\n",
       "      <td>...</td>\n",
       "      <td>...</td>\n",
       "      <td>...</td>\n",
       "      <td>...</td>\n",
       "      <td>...</td>\n",
       "      <td>...</td>\n",
       "      <td>...</td>\n",
       "      <td>...</td>\n",
       "      <td>...</td>\n",
       "      <td>...</td>\n",
       "      <td>...</td>\n",
       "      <td>...</td>\n",
       "      <td>...</td>\n",
       "      <td>...</td>\n",
       "      <td>...</td>\n",
       "      <td>...</td>\n",
       "      <td>...</td>\n",
       "      <td>...</td>\n",
       "      <td>...</td>\n",
       "      <td>...</td>\n",
       "      <td>...</td>\n",
       "    </tr>\n",
       "    <tr>\n",
       "      <th>7994</th>\n",
       "      <td>0.05</td>\n",
       "      <td>7.78</td>\n",
       "      <td>0.00</td>\n",
       "      <td>1.95</td>\n",
       "      <td>0.040</td>\n",
       "      <td>0.10</td>\n",
       "      <td>0.03</td>\n",
       "      <td>0.03</td>\n",
       "      <td>1.37</td>\n",
       "      <td>0.00</td>\n",
       "      <td>0.000</td>\n",
       "      <td>0.197</td>\n",
       "      <td>14.29</td>\n",
       "      <td>1.00</td>\n",
       "      <td>0.005</td>\n",
       "      <td>3.57</td>\n",
       "      <td>2.13</td>\n",
       "      <td>0.09</td>\n",
       "      <td>0.06</td>\n",
       "      <td>0.03</td>\n",
       "      <td>1</td>\n",
       "    </tr>\n",
       "    <tr>\n",
       "      <th>7995</th>\n",
       "      <td>0.05</td>\n",
       "      <td>24.22</td>\n",
       "      <td>0.02</td>\n",
       "      <td>0.59</td>\n",
       "      <td>0.010</td>\n",
       "      <td>0.45</td>\n",
       "      <td>0.02</td>\n",
       "      <td>0.02</td>\n",
       "      <td>1.48</td>\n",
       "      <td>0.00</td>\n",
       "      <td>0.000</td>\n",
       "      <td>0.031</td>\n",
       "      <td>10.27</td>\n",
       "      <td>1.00</td>\n",
       "      <td>0.001</td>\n",
       "      <td>1.48</td>\n",
       "      <td>1.11</td>\n",
       "      <td>0.09</td>\n",
       "      <td>0.10</td>\n",
       "      <td>0.08</td>\n",
       "      <td>1</td>\n",
       "    </tr>\n",
       "    <tr>\n",
       "      <th>7996</th>\n",
       "      <td>0.09</td>\n",
       "      <td>6.85</td>\n",
       "      <td>0.00</td>\n",
       "      <td>0.61</td>\n",
       "      <td>0.030</td>\n",
       "      <td>0.05</td>\n",
       "      <td>0.05</td>\n",
       "      <td>0.02</td>\n",
       "      <td>0.91</td>\n",
       "      <td>0.00</td>\n",
       "      <td>0.000</td>\n",
       "      <td>0.182</td>\n",
       "      <td>15.92</td>\n",
       "      <td>1.00</td>\n",
       "      <td>0.000</td>\n",
       "      <td>1.35</td>\n",
       "      <td>4.84</td>\n",
       "      <td>0.00</td>\n",
       "      <td>0.04</td>\n",
       "      <td>0.05</td>\n",
       "      <td>1</td>\n",
       "    </tr>\n",
       "    <tr>\n",
       "      <th>7997</th>\n",
       "      <td>0.01</td>\n",
       "      <td>10</td>\n",
       "      <td>0.01</td>\n",
       "      <td>2.00</td>\n",
       "      <td>0.000</td>\n",
       "      <td>2.00</td>\n",
       "      <td>0.00</td>\n",
       "      <td>0.09</td>\n",
       "      <td>0.00</td>\n",
       "      <td>0.00</td>\n",
       "      <td>0.000</td>\n",
       "      <td>0.000</td>\n",
       "      <td>0.00</td>\n",
       "      <td>0.00</td>\n",
       "      <td>0.000</td>\n",
       "      <td>0.00</td>\n",
       "      <td>0.00</td>\n",
       "      <td>0.00</td>\n",
       "      <td>0.00</td>\n",
       "      <td>0.00</td>\n",
       "      <td>1</td>\n",
       "    </tr>\n",
       "    <tr>\n",
       "      <th>7998</th>\n",
       "      <td>0.04</td>\n",
       "      <td>6.85</td>\n",
       "      <td>0.01</td>\n",
       "      <td>0.70</td>\n",
       "      <td>0.030</td>\n",
       "      <td>0.05</td>\n",
       "      <td>0.01</td>\n",
       "      <td>0.03</td>\n",
       "      <td>1.00</td>\n",
       "      <td>0.00</td>\n",
       "      <td>0.000</td>\n",
       "      <td>0.182</td>\n",
       "      <td>15.92</td>\n",
       "      <td>1.00</td>\n",
       "      <td>0.000</td>\n",
       "      <td>1.35</td>\n",
       "      <td>4.84</td>\n",
       "      <td>0.00</td>\n",
       "      <td>0.04</td>\n",
       "      <td>0.05</td>\n",
       "      <td>1</td>\n",
       "    </tr>\n",
       "  </tbody>\n",
       "</table>\n",
       "<p>7999 rows × 21 columns</p>\n",
       "</div>"
      ],
      "text/plain": [
       "      aluminium ammonia  arsenic  barium  cadmium  chloramine  chromium  \\\n",
       "0          1.65    9.08     0.04    2.85    0.007        0.35      0.83   \n",
       "1          2.32   21.16     0.01    3.31    0.002        5.28      0.68   \n",
       "2          1.01   14.02     0.04    0.58    0.008        4.24      0.53   \n",
       "3          1.36   11.33     0.04    2.96    0.001        7.23      0.03   \n",
       "4          0.92   24.33     0.03    0.20    0.006        2.67      0.69   \n",
       "...         ...     ...      ...     ...      ...         ...       ...   \n",
       "7994       0.05    7.78     0.00    1.95    0.040        0.10      0.03   \n",
       "7995       0.05   24.22     0.02    0.59    0.010        0.45      0.02   \n",
       "7996       0.09    6.85     0.00    0.61    0.030        0.05      0.05   \n",
       "7997       0.01      10     0.01    2.00    0.000        2.00      0.00   \n",
       "7998       0.04    6.85     0.01    0.70    0.030        0.05      0.01   \n",
       "\n",
       "      copper  flouride  bacteria  viruses   lead  nitrates  nitrites  mercury  \\\n",
       "0       0.17      0.05      0.20    0.000  0.054     16.08      1.13    0.007   \n",
       "1       0.66      0.90      0.65    0.650  0.100      2.01      1.93    0.003   \n",
       "2       0.02      0.99      0.05    0.003  0.078     14.16      1.11    0.006   \n",
       "3       1.66      1.08      0.71    0.710  0.016      1.41      1.29    0.004   \n",
       "4       0.57      0.61      0.13    0.001  0.117      6.74      1.11    0.003   \n",
       "...      ...       ...       ...      ...    ...       ...       ...      ...   \n",
       "7994    0.03      1.37      0.00    0.000  0.197     14.29      1.00    0.005   \n",
       "7995    0.02      1.48      0.00    0.000  0.031     10.27      1.00    0.001   \n",
       "7996    0.02      0.91      0.00    0.000  0.182     15.92      1.00    0.000   \n",
       "7997    0.09      0.00      0.00    0.000  0.000      0.00      0.00    0.000   \n",
       "7998    0.03      1.00      0.00    0.000  0.182     15.92      1.00    0.000   \n",
       "\n",
       "      perchlorate  radium  selenium  silver  uranium is_safe  \n",
       "0           37.75    6.78      0.08    0.34     0.02       1  \n",
       "1           32.26    3.21      0.08    0.27     0.05       1  \n",
       "2           50.28    7.07      0.07    0.44     0.01       0  \n",
       "3            9.12    1.72      0.02    0.45     0.05       1  \n",
       "4           16.90    2.41      0.02    0.06     0.02       1  \n",
       "...           ...     ...       ...     ...      ...     ...  \n",
       "7994         3.57    2.13      0.09    0.06     0.03       1  \n",
       "7995         1.48    1.11      0.09    0.10     0.08       1  \n",
       "7996         1.35    4.84      0.00    0.04     0.05       1  \n",
       "7997         0.00    0.00      0.00    0.00     0.00       1  \n",
       "7998         1.35    4.84      0.00    0.04     0.05       1  \n",
       "\n",
       "[7999 rows x 21 columns]"
      ]
     },
     "execution_count": 3,
     "metadata": {},
     "output_type": "execute_result"
    }
   ],
   "source": [
    "df"
   ]
  },
  {
   "cell_type": "code",
   "execution_count": 4,
   "id": "338b69f7",
   "metadata": {},
   "outputs": [
    {
     "name": "stdout",
     "output_type": "stream",
     "text": [
      "<class 'pandas.core.frame.DataFrame'>\n",
      "RangeIndex: 7999 entries, 0 to 7998\n",
      "Data columns (total 21 columns):\n",
      " #   Column       Non-Null Count  Dtype  \n",
      "---  ------       --------------  -----  \n",
      " 0   aluminium    7999 non-null   float64\n",
      " 1   ammonia      7999 non-null   object \n",
      " 2   arsenic      7999 non-null   float64\n",
      " 3   barium       7999 non-null   float64\n",
      " 4   cadmium      7999 non-null   float64\n",
      " 5   chloramine   7999 non-null   float64\n",
      " 6   chromium     7999 non-null   float64\n",
      " 7   copper       7999 non-null   float64\n",
      " 8   flouride     7999 non-null   float64\n",
      " 9   bacteria     7999 non-null   float64\n",
      " 10  viruses      7999 non-null   float64\n",
      " 11  lead         7999 non-null   float64\n",
      " 12  nitrates     7999 non-null   float64\n",
      " 13  nitrites     7999 non-null   float64\n",
      " 14  mercury      7999 non-null   float64\n",
      " 15  perchlorate  7999 non-null   float64\n",
      " 16  radium       7999 non-null   float64\n",
      " 17  selenium     7999 non-null   float64\n",
      " 18  silver       7999 non-null   float64\n",
      " 19  uranium      7999 non-null   float64\n",
      " 20  is_safe      7999 non-null   object \n",
      "dtypes: float64(19), object(2)\n",
      "memory usage: 1.3+ MB\n"
     ]
    }
   ],
   "source": [
    "df.info()"
   ]
  },
  {
   "cell_type": "code",
   "execution_count": 5,
   "id": "3edaa28d",
   "metadata": {},
   "outputs": [
    {
     "data": {
      "text/html": [
       "<div>\n",
       "<style scoped>\n",
       "    .dataframe tbody tr th:only-of-type {\n",
       "        vertical-align: middle;\n",
       "    }\n",
       "\n",
       "    .dataframe tbody tr th {\n",
       "        vertical-align: top;\n",
       "    }\n",
       "\n",
       "    .dataframe thead th {\n",
       "        text-align: right;\n",
       "    }\n",
       "</style>\n",
       "<table border=\"1\" class=\"dataframe\">\n",
       "  <thead>\n",
       "    <tr style=\"text-align: right;\">\n",
       "      <th></th>\n",
       "      <th>aluminium</th>\n",
       "      <th>arsenic</th>\n",
       "      <th>barium</th>\n",
       "      <th>cadmium</th>\n",
       "      <th>chloramine</th>\n",
       "      <th>chromium</th>\n",
       "      <th>copper</th>\n",
       "      <th>flouride</th>\n",
       "      <th>bacteria</th>\n",
       "      <th>viruses</th>\n",
       "      <th>lead</th>\n",
       "      <th>nitrates</th>\n",
       "      <th>nitrites</th>\n",
       "      <th>mercury</th>\n",
       "      <th>perchlorate</th>\n",
       "      <th>radium</th>\n",
       "      <th>selenium</th>\n",
       "      <th>silver</th>\n",
       "      <th>uranium</th>\n",
       "    </tr>\n",
       "  </thead>\n",
       "  <tbody>\n",
       "    <tr>\n",
       "      <th>count</th>\n",
       "      <td>7999.000000</td>\n",
       "      <td>7999.000000</td>\n",
       "      <td>7999.000000</td>\n",
       "      <td>7999.000000</td>\n",
       "      <td>7999.000000</td>\n",
       "      <td>7999.000000</td>\n",
       "      <td>7999.000000</td>\n",
       "      <td>7999.000000</td>\n",
       "      <td>7999.000000</td>\n",
       "      <td>7999.000000</td>\n",
       "      <td>7999.000000</td>\n",
       "      <td>7999.000000</td>\n",
       "      <td>7999.000000</td>\n",
       "      <td>7999.000000</td>\n",
       "      <td>7999.000000</td>\n",
       "      <td>7999.000000</td>\n",
       "      <td>7999.000000</td>\n",
       "      <td>7999.000000</td>\n",
       "      <td>7999.000000</td>\n",
       "    </tr>\n",
       "    <tr>\n",
       "      <th>mean</th>\n",
       "      <td>0.666158</td>\n",
       "      <td>0.161445</td>\n",
       "      <td>1.567715</td>\n",
       "      <td>0.042806</td>\n",
       "      <td>2.176831</td>\n",
       "      <td>0.247226</td>\n",
       "      <td>0.805857</td>\n",
       "      <td>0.771565</td>\n",
       "      <td>0.319665</td>\n",
       "      <td>0.328583</td>\n",
       "      <td>0.099450</td>\n",
       "      <td>9.818822</td>\n",
       "      <td>1.329961</td>\n",
       "      <td>0.005194</td>\n",
       "      <td>16.460299</td>\n",
       "      <td>2.920548</td>\n",
       "      <td>0.049685</td>\n",
       "      <td>0.147781</td>\n",
       "      <td>0.044673</td>\n",
       "    </tr>\n",
       "    <tr>\n",
       "      <th>std</th>\n",
       "      <td>1.265145</td>\n",
       "      <td>0.252590</td>\n",
       "      <td>1.216091</td>\n",
       "      <td>0.036049</td>\n",
       "      <td>2.567027</td>\n",
       "      <td>0.270640</td>\n",
       "      <td>0.653539</td>\n",
       "      <td>0.435373</td>\n",
       "      <td>0.329485</td>\n",
       "      <td>0.378096</td>\n",
       "      <td>0.058172</td>\n",
       "      <td>5.541331</td>\n",
       "      <td>0.573219</td>\n",
       "      <td>0.002967</td>\n",
       "      <td>17.687474</td>\n",
       "      <td>2.323009</td>\n",
       "      <td>0.028770</td>\n",
       "      <td>0.143551</td>\n",
       "      <td>0.026904</td>\n",
       "    </tr>\n",
       "    <tr>\n",
       "      <th>min</th>\n",
       "      <td>0.000000</td>\n",
       "      <td>0.000000</td>\n",
       "      <td>0.000000</td>\n",
       "      <td>0.000000</td>\n",
       "      <td>0.000000</td>\n",
       "      <td>0.000000</td>\n",
       "      <td>0.000000</td>\n",
       "      <td>0.000000</td>\n",
       "      <td>0.000000</td>\n",
       "      <td>0.000000</td>\n",
       "      <td>0.000000</td>\n",
       "      <td>0.000000</td>\n",
       "      <td>0.000000</td>\n",
       "      <td>0.000000</td>\n",
       "      <td>0.000000</td>\n",
       "      <td>0.000000</td>\n",
       "      <td>0.000000</td>\n",
       "      <td>0.000000</td>\n",
       "      <td>0.000000</td>\n",
       "    </tr>\n",
       "    <tr>\n",
       "      <th>25%</th>\n",
       "      <td>0.040000</td>\n",
       "      <td>0.030000</td>\n",
       "      <td>0.560000</td>\n",
       "      <td>0.008000</td>\n",
       "      <td>0.100000</td>\n",
       "      <td>0.050000</td>\n",
       "      <td>0.090000</td>\n",
       "      <td>0.405000</td>\n",
       "      <td>0.000000</td>\n",
       "      <td>0.002000</td>\n",
       "      <td>0.048000</td>\n",
       "      <td>5.000000</td>\n",
       "      <td>1.000000</td>\n",
       "      <td>0.003000</td>\n",
       "      <td>2.170000</td>\n",
       "      <td>0.820000</td>\n",
       "      <td>0.020000</td>\n",
       "      <td>0.040000</td>\n",
       "      <td>0.020000</td>\n",
       "    </tr>\n",
       "    <tr>\n",
       "      <th>50%</th>\n",
       "      <td>0.070000</td>\n",
       "      <td>0.050000</td>\n",
       "      <td>1.190000</td>\n",
       "      <td>0.040000</td>\n",
       "      <td>0.530000</td>\n",
       "      <td>0.090000</td>\n",
       "      <td>0.750000</td>\n",
       "      <td>0.770000</td>\n",
       "      <td>0.220000</td>\n",
       "      <td>0.008000</td>\n",
       "      <td>0.102000</td>\n",
       "      <td>9.930000</td>\n",
       "      <td>1.420000</td>\n",
       "      <td>0.005000</td>\n",
       "      <td>7.740000</td>\n",
       "      <td>2.410000</td>\n",
       "      <td>0.050000</td>\n",
       "      <td>0.080000</td>\n",
       "      <td>0.050000</td>\n",
       "    </tr>\n",
       "    <tr>\n",
       "      <th>75%</th>\n",
       "      <td>0.280000</td>\n",
       "      <td>0.100000</td>\n",
       "      <td>2.480000</td>\n",
       "      <td>0.070000</td>\n",
       "      <td>4.240000</td>\n",
       "      <td>0.440000</td>\n",
       "      <td>1.390000</td>\n",
       "      <td>1.160000</td>\n",
       "      <td>0.610000</td>\n",
       "      <td>0.700000</td>\n",
       "      <td>0.151000</td>\n",
       "      <td>14.610000</td>\n",
       "      <td>1.760000</td>\n",
       "      <td>0.008000</td>\n",
       "      <td>29.480000</td>\n",
       "      <td>4.670000</td>\n",
       "      <td>0.070000</td>\n",
       "      <td>0.240000</td>\n",
       "      <td>0.070000</td>\n",
       "    </tr>\n",
       "    <tr>\n",
       "      <th>max</th>\n",
       "      <td>5.050000</td>\n",
       "      <td>1.050000</td>\n",
       "      <td>4.940000</td>\n",
       "      <td>0.130000</td>\n",
       "      <td>8.680000</td>\n",
       "      <td>0.900000</td>\n",
       "      <td>2.000000</td>\n",
       "      <td>1.500000</td>\n",
       "      <td>1.000000</td>\n",
       "      <td>1.000000</td>\n",
       "      <td>0.200000</td>\n",
       "      <td>19.830000</td>\n",
       "      <td>2.930000</td>\n",
       "      <td>0.010000</td>\n",
       "      <td>60.010000</td>\n",
       "      <td>7.990000</td>\n",
       "      <td>0.100000</td>\n",
       "      <td>0.500000</td>\n",
       "      <td>0.090000</td>\n",
       "    </tr>\n",
       "  </tbody>\n",
       "</table>\n",
       "</div>"
      ],
      "text/plain": [
       "         aluminium      arsenic       barium      cadmium   chloramine  \\\n",
       "count  7999.000000  7999.000000  7999.000000  7999.000000  7999.000000   \n",
       "mean      0.666158     0.161445     1.567715     0.042806     2.176831   \n",
       "std       1.265145     0.252590     1.216091     0.036049     2.567027   \n",
       "min       0.000000     0.000000     0.000000     0.000000     0.000000   \n",
       "25%       0.040000     0.030000     0.560000     0.008000     0.100000   \n",
       "50%       0.070000     0.050000     1.190000     0.040000     0.530000   \n",
       "75%       0.280000     0.100000     2.480000     0.070000     4.240000   \n",
       "max       5.050000     1.050000     4.940000     0.130000     8.680000   \n",
       "\n",
       "          chromium       copper     flouride     bacteria      viruses  \\\n",
       "count  7999.000000  7999.000000  7999.000000  7999.000000  7999.000000   \n",
       "mean      0.247226     0.805857     0.771565     0.319665     0.328583   \n",
       "std       0.270640     0.653539     0.435373     0.329485     0.378096   \n",
       "min       0.000000     0.000000     0.000000     0.000000     0.000000   \n",
       "25%       0.050000     0.090000     0.405000     0.000000     0.002000   \n",
       "50%       0.090000     0.750000     0.770000     0.220000     0.008000   \n",
       "75%       0.440000     1.390000     1.160000     0.610000     0.700000   \n",
       "max       0.900000     2.000000     1.500000     1.000000     1.000000   \n",
       "\n",
       "              lead     nitrates     nitrites      mercury  perchlorate  \\\n",
       "count  7999.000000  7999.000000  7999.000000  7999.000000  7999.000000   \n",
       "mean      0.099450     9.818822     1.329961     0.005194    16.460299   \n",
       "std       0.058172     5.541331     0.573219     0.002967    17.687474   \n",
       "min       0.000000     0.000000     0.000000     0.000000     0.000000   \n",
       "25%       0.048000     5.000000     1.000000     0.003000     2.170000   \n",
       "50%       0.102000     9.930000     1.420000     0.005000     7.740000   \n",
       "75%       0.151000    14.610000     1.760000     0.008000    29.480000   \n",
       "max       0.200000    19.830000     2.930000     0.010000    60.010000   \n",
       "\n",
       "            radium     selenium       silver      uranium  \n",
       "count  7999.000000  7999.000000  7999.000000  7999.000000  \n",
       "mean      2.920548     0.049685     0.147781     0.044673  \n",
       "std       2.323009     0.028770     0.143551     0.026904  \n",
       "min       0.000000     0.000000     0.000000     0.000000  \n",
       "25%       0.820000     0.020000     0.040000     0.020000  \n",
       "50%       2.410000     0.050000     0.080000     0.050000  \n",
       "75%       4.670000     0.070000     0.240000     0.070000  \n",
       "max       7.990000     0.100000     0.500000     0.090000  "
      ]
     },
     "execution_count": 5,
     "metadata": {},
     "output_type": "execute_result"
    }
   ],
   "source": [
    "df.describe()"
   ]
  },
  {
   "cell_type": "code",
   "execution_count": 6,
   "id": "17e170a5",
   "metadata": {},
   "outputs": [
    {
     "data": {
      "text/plain": [
       "aluminium      0\n",
       "ammonia        0\n",
       "arsenic        0\n",
       "barium         0\n",
       "cadmium        0\n",
       "chloramine     0\n",
       "chromium       0\n",
       "copper         0\n",
       "flouride       0\n",
       "bacteria       0\n",
       "viruses        0\n",
       "lead           0\n",
       "nitrates       0\n",
       "nitrites       0\n",
       "mercury        0\n",
       "perchlorate    0\n",
       "radium         0\n",
       "selenium       0\n",
       "silver         0\n",
       "uranium        0\n",
       "is_safe        0\n",
       "dtype: int64"
      ]
     },
     "execution_count": 6,
     "metadata": {},
     "output_type": "execute_result"
    }
   ],
   "source": [
    "df.isnull().sum()"
   ]
  },
  {
   "cell_type": "code",
   "execution_count": 7,
   "id": "760c424e",
   "metadata": {},
   "outputs": [
    {
     "data": {
      "text/html": [
       "<div>\n",
       "<style scoped>\n",
       "    .dataframe tbody tr th:only-of-type {\n",
       "        vertical-align: middle;\n",
       "    }\n",
       "\n",
       "    .dataframe tbody tr th {\n",
       "        vertical-align: top;\n",
       "    }\n",
       "\n",
       "    .dataframe thead th {\n",
       "        text-align: right;\n",
       "    }\n",
       "</style>\n",
       "<table border=\"1\" class=\"dataframe\">\n",
       "  <thead>\n",
       "    <tr style=\"text-align: right;\">\n",
       "      <th></th>\n",
       "      <th>aluminium</th>\n",
       "      <th>ammonia</th>\n",
       "      <th>arsenic</th>\n",
       "      <th>barium</th>\n",
       "      <th>cadmium</th>\n",
       "      <th>chloramine</th>\n",
       "      <th>chromium</th>\n",
       "      <th>copper</th>\n",
       "      <th>flouride</th>\n",
       "      <th>bacteria</th>\n",
       "      <th>viruses</th>\n",
       "      <th>lead</th>\n",
       "      <th>nitrates</th>\n",
       "      <th>nitrites</th>\n",
       "      <th>mercury</th>\n",
       "      <th>perchlorate</th>\n",
       "      <th>radium</th>\n",
       "      <th>selenium</th>\n",
       "      <th>silver</th>\n",
       "      <th>uranium</th>\n",
       "      <th>is_safe</th>\n",
       "    </tr>\n",
       "  </thead>\n",
       "  <tbody>\n",
       "    <tr>\n",
       "      <th>0</th>\n",
       "      <td>1.65</td>\n",
       "      <td>9.08</td>\n",
       "      <td>0.04</td>\n",
       "      <td>2.85</td>\n",
       "      <td>0.007</td>\n",
       "      <td>0.35</td>\n",
       "      <td>0.83</td>\n",
       "      <td>0.17</td>\n",
       "      <td>0.05</td>\n",
       "      <td>0.20</td>\n",
       "      <td>0.000</td>\n",
       "      <td>0.054</td>\n",
       "      <td>16.08</td>\n",
       "      <td>1.13</td>\n",
       "      <td>0.007</td>\n",
       "      <td>37.75</td>\n",
       "      <td>6.78</td>\n",
       "      <td>0.08</td>\n",
       "      <td>0.34</td>\n",
       "      <td>0.02</td>\n",
       "      <td>1</td>\n",
       "    </tr>\n",
       "    <tr>\n",
       "      <th>1</th>\n",
       "      <td>2.32</td>\n",
       "      <td>21.16</td>\n",
       "      <td>0.01</td>\n",
       "      <td>3.31</td>\n",
       "      <td>0.002</td>\n",
       "      <td>5.28</td>\n",
       "      <td>0.68</td>\n",
       "      <td>0.66</td>\n",
       "      <td>0.90</td>\n",
       "      <td>0.65</td>\n",
       "      <td>0.650</td>\n",
       "      <td>0.100</td>\n",
       "      <td>2.01</td>\n",
       "      <td>1.93</td>\n",
       "      <td>0.003</td>\n",
       "      <td>32.26</td>\n",
       "      <td>3.21</td>\n",
       "      <td>0.08</td>\n",
       "      <td>0.27</td>\n",
       "      <td>0.05</td>\n",
       "      <td>1</td>\n",
       "    </tr>\n",
       "    <tr>\n",
       "      <th>2</th>\n",
       "      <td>1.01</td>\n",
       "      <td>14.02</td>\n",
       "      <td>0.04</td>\n",
       "      <td>0.58</td>\n",
       "      <td>0.008</td>\n",
       "      <td>4.24</td>\n",
       "      <td>0.53</td>\n",
       "      <td>0.02</td>\n",
       "      <td>0.99</td>\n",
       "      <td>0.05</td>\n",
       "      <td>0.003</td>\n",
       "      <td>0.078</td>\n",
       "      <td>14.16</td>\n",
       "      <td>1.11</td>\n",
       "      <td>0.006</td>\n",
       "      <td>50.28</td>\n",
       "      <td>7.07</td>\n",
       "      <td>0.07</td>\n",
       "      <td>0.44</td>\n",
       "      <td>0.01</td>\n",
       "      <td>0</td>\n",
       "    </tr>\n",
       "    <tr>\n",
       "      <th>3</th>\n",
       "      <td>1.36</td>\n",
       "      <td>11.33</td>\n",
       "      <td>0.04</td>\n",
       "      <td>2.96</td>\n",
       "      <td>0.001</td>\n",
       "      <td>7.23</td>\n",
       "      <td>0.03</td>\n",
       "      <td>1.66</td>\n",
       "      <td>1.08</td>\n",
       "      <td>0.71</td>\n",
       "      <td>0.710</td>\n",
       "      <td>0.016</td>\n",
       "      <td>1.41</td>\n",
       "      <td>1.29</td>\n",
       "      <td>0.004</td>\n",
       "      <td>9.12</td>\n",
       "      <td>1.72</td>\n",
       "      <td>0.02</td>\n",
       "      <td>0.45</td>\n",
       "      <td>0.05</td>\n",
       "      <td>1</td>\n",
       "    </tr>\n",
       "    <tr>\n",
       "      <th>4</th>\n",
       "      <td>0.92</td>\n",
       "      <td>24.33</td>\n",
       "      <td>0.03</td>\n",
       "      <td>0.20</td>\n",
       "      <td>0.006</td>\n",
       "      <td>2.67</td>\n",
       "      <td>0.69</td>\n",
       "      <td>0.57</td>\n",
       "      <td>0.61</td>\n",
       "      <td>0.13</td>\n",
       "      <td>0.001</td>\n",
       "      <td>0.117</td>\n",
       "      <td>6.74</td>\n",
       "      <td>1.11</td>\n",
       "      <td>0.003</td>\n",
       "      <td>16.90</td>\n",
       "      <td>2.41</td>\n",
       "      <td>0.02</td>\n",
       "      <td>0.06</td>\n",
       "      <td>0.02</td>\n",
       "      <td>1</td>\n",
       "    </tr>\n",
       "  </tbody>\n",
       "</table>\n",
       "</div>"
      ],
      "text/plain": [
       "   aluminium ammonia  arsenic  barium  cadmium  chloramine  chromium  copper  \\\n",
       "0       1.65    9.08     0.04    2.85    0.007        0.35      0.83    0.17   \n",
       "1       2.32   21.16     0.01    3.31    0.002        5.28      0.68    0.66   \n",
       "2       1.01   14.02     0.04    0.58    0.008        4.24      0.53    0.02   \n",
       "3       1.36   11.33     0.04    2.96    0.001        7.23      0.03    1.66   \n",
       "4       0.92   24.33     0.03    0.20    0.006        2.67      0.69    0.57   \n",
       "\n",
       "   flouride  bacteria  viruses   lead  nitrates  nitrites  mercury  \\\n",
       "0      0.05      0.20    0.000  0.054     16.08      1.13    0.007   \n",
       "1      0.90      0.65    0.650  0.100      2.01      1.93    0.003   \n",
       "2      0.99      0.05    0.003  0.078     14.16      1.11    0.006   \n",
       "3      1.08      0.71    0.710  0.016      1.41      1.29    0.004   \n",
       "4      0.61      0.13    0.001  0.117      6.74      1.11    0.003   \n",
       "\n",
       "   perchlorate  radium  selenium  silver  uranium is_safe  \n",
       "0        37.75    6.78      0.08    0.34     0.02       1  \n",
       "1        32.26    3.21      0.08    0.27     0.05       1  \n",
       "2        50.28    7.07      0.07    0.44     0.01       0  \n",
       "3         9.12    1.72      0.02    0.45     0.05       1  \n",
       "4        16.90    2.41      0.02    0.06     0.02       1  "
      ]
     },
     "execution_count": 7,
     "metadata": {},
     "output_type": "execute_result"
    }
   ],
   "source": [
    "df.head()"
   ]
  },
  {
   "cell_type": "code",
   "execution_count": 8,
   "id": "6b27f113",
   "metadata": {},
   "outputs": [
    {
     "data": {
      "text/html": [
       "<div>\n",
       "<style scoped>\n",
       "    .dataframe tbody tr th:only-of-type {\n",
       "        vertical-align: middle;\n",
       "    }\n",
       "\n",
       "    .dataframe tbody tr th {\n",
       "        vertical-align: top;\n",
       "    }\n",
       "\n",
       "    .dataframe thead th {\n",
       "        text-align: right;\n",
       "    }\n",
       "</style>\n",
       "<table border=\"1\" class=\"dataframe\">\n",
       "  <thead>\n",
       "    <tr style=\"text-align: right;\">\n",
       "      <th></th>\n",
       "      <th>aluminium</th>\n",
       "      <th>ammonia</th>\n",
       "      <th>arsenic</th>\n",
       "      <th>barium</th>\n",
       "      <th>cadmium</th>\n",
       "      <th>chloramine</th>\n",
       "      <th>chromium</th>\n",
       "      <th>copper</th>\n",
       "      <th>flouride</th>\n",
       "      <th>bacteria</th>\n",
       "      <th>viruses</th>\n",
       "      <th>lead</th>\n",
       "      <th>nitrates</th>\n",
       "      <th>nitrites</th>\n",
       "      <th>mercury</th>\n",
       "      <th>perchlorate</th>\n",
       "      <th>radium</th>\n",
       "      <th>selenium</th>\n",
       "      <th>silver</th>\n",
       "      <th>uranium</th>\n",
       "      <th>is_safe</th>\n",
       "    </tr>\n",
       "  </thead>\n",
       "  <tbody>\n",
       "    <tr>\n",
       "      <th>2351</th>\n",
       "      <td>0.09</td>\n",
       "      <td>28.92</td>\n",
       "      <td>0.03</td>\n",
       "      <td>1.25</td>\n",
       "      <td>0.002</td>\n",
       "      <td>6.29</td>\n",
       "      <td>0.35</td>\n",
       "      <td>1.02</td>\n",
       "      <td>1.24</td>\n",
       "      <td>0.44</td>\n",
       "      <td>0.001</td>\n",
       "      <td>0.197</td>\n",
       "      <td>10.49</td>\n",
       "      <td>1.54</td>\n",
       "      <td>0.002</td>\n",
       "      <td>46.36</td>\n",
       "      <td>7.37</td>\n",
       "      <td>0.08</td>\n",
       "      <td>0.36</td>\n",
       "      <td>0.09</td>\n",
       "      <td>0</td>\n",
       "    </tr>\n",
       "  </tbody>\n",
       "</table>\n",
       "</div>"
      ],
      "text/plain": [
       "      aluminium ammonia  arsenic  barium  cadmium  chloramine  chromium  \\\n",
       "2351       0.09   28.92     0.03    1.25    0.002        6.29      0.35   \n",
       "\n",
       "      copper  flouride  bacteria  viruses   lead  nitrates  nitrites  mercury  \\\n",
       "2351    1.02      1.24      0.44    0.001  0.197     10.49      1.54    0.002   \n",
       "\n",
       "      perchlorate  radium  selenium  silver  uranium is_safe  \n",
       "2351        46.36    7.37      0.08    0.36     0.09       0  "
      ]
     },
     "execution_count": 8,
     "metadata": {},
     "output_type": "execute_result"
    }
   ],
   "source": [
    "df.sample()"
   ]
  },
  {
   "cell_type": "code",
   "execution_count": 9,
   "id": "b14b8a4c",
   "metadata": {},
   "outputs": [
    {
     "data": {
      "text/plain": [
       "0        7084\n",
       "1         912\n",
       "#NUM!       3\n",
       "Name: is_safe, dtype: int64"
      ]
     },
     "execution_count": 9,
     "metadata": {},
     "output_type": "execute_result"
    }
   ],
   "source": [
    "df.is_safe.value_counts()"
   ]
  },
  {
   "cell_type": "code",
   "execution_count": 10,
   "id": "2168f73c",
   "metadata": {},
   "outputs": [],
   "source": [
    "df.is_safe=df.is_safe.replace({'#NUM!':'1'})"
   ]
  },
  {
   "cell_type": "code",
   "execution_count": 11,
   "id": "78b82930",
   "metadata": {},
   "outputs": [],
   "source": [
    "#df.is_safe = df.is_safe.map({'#NUM!':3,0:1,1:2})"
   ]
  },
  {
   "cell_type": "code",
   "execution_count": 12,
   "id": "50e6ae81",
   "metadata": {},
   "outputs": [],
   "source": [
    "#df.ammonia=df.ammonia.replace({})"
   ]
  },
  {
   "cell_type": "code",
   "execution_count": 13,
   "id": "2e440aa8",
   "metadata": {},
   "outputs": [
    {
     "data": {
      "text/plain": [
       "array(['9.08', '21.16', '14.02', ..., '2.78', '27.12', '10'], dtype=object)"
      ]
     },
     "execution_count": 13,
     "metadata": {},
     "output_type": "execute_result"
    }
   ],
   "source": [
    "df.ammonia.unique()"
   ]
  },
  {
   "cell_type": "code",
   "execution_count": 14,
   "id": "6391ba97",
   "metadata": {},
   "outputs": [
    {
     "data": {
      "text/plain": [
       "7551    #NUM!\n",
       "7568    #NUM!\n",
       "7890    #NUM!\n",
       "Name: ammonia, dtype: object"
      ]
     },
     "execution_count": 14,
     "metadata": {},
     "output_type": "execute_result"
    }
   ],
   "source": [
    "df.loc[[7551,7568,7890],'ammonia']"
   ]
  },
  {
   "cell_type": "code",
   "execution_count": 15,
   "id": "bcb6fbcb",
   "metadata": {},
   "outputs": [],
   "source": [
    "df.drop([7551,7568,7890],axis=0,inplace=True)"
   ]
  },
  {
   "cell_type": "code",
   "execution_count": 16,
   "id": "342beb36",
   "metadata": {},
   "outputs": [
    {
     "data": {
      "text/plain": [
       "0.12     13\n",
       "0.17     13\n",
       "0.37     13\n",
       "13.74    12\n",
       "0.41     11\n",
       "         ..\n",
       "6.78      1\n",
       "16.4      1\n",
       "24.46     1\n",
       "20.49     1\n",
       "10        1\n",
       "Name: ammonia, Length: 2563, dtype: int64"
      ]
     },
     "execution_count": 16,
     "metadata": {},
     "output_type": "execute_result"
    }
   ],
   "source": [
    "df.ammonia.value_counts()"
   ]
  },
  {
   "cell_type": "markdown",
   "id": "cc6c2212",
   "metadata": {},
   "source": [
    "# EDA"
   ]
  },
  {
   "cell_type": "code",
   "execution_count": 17,
   "id": "f14fa6b0",
   "metadata": {},
   "outputs": [
    {
     "data": {
      "text/plain": [
       "0    7084\n",
       "1     912\n",
       "Name: is_safe, dtype: int64"
      ]
     },
     "execution_count": 17,
     "metadata": {},
     "output_type": "execute_result"
    }
   ],
   "source": [
    "df.is_safe.value_counts() "
   ]
  },
  {
   "cell_type": "code",
   "execution_count": 18,
   "id": "7bb8e0de",
   "metadata": {},
   "outputs": [
    {
     "name": "stderr",
     "output_type": "stream",
     "text": [
      "C:\\Users\\Bhuvaneshvaran k\\anaconda3\\lib\\site-packages\\seaborn\\_decorators.py:36: FutureWarning: Pass the following variable as a keyword arg: x. From version 0.12, the only valid positional argument will be `data`, and passing other arguments without an explicit keyword will result in an error or misinterpretation.\n",
      "  warnings.warn(\n"
     ]
    },
    {
     "data": {
      "text/plain": [
       "Text(0.5, 1.0, 'is safe')"
      ]
     },
     "execution_count": 18,
     "metadata": {},
     "output_type": "execute_result"
    },
    {
     "data": {
      "image/png": "[encoded data removed]",
      "text/plain": [
       "<Figure size 432x288 with 1 Axes>"
      ]
     },
     "metadata": {
      "needs_background": "light"
     },
     "output_type": "display_data"
    }
   ],
   "source": [
    "sns.countplot(df.is_safe)\n",
    "plt.title('is safe')"
   ]
  },
  {
   "cell_type": "code",
   "execution_count": 19,
   "id": "3539f2eb",
   "metadata": {},
   "outputs": [
    {
     "data": {
      "text/plain": [
       "array([1.65, 2.32, 1.01, 1.36, 0.92, 0.94, 2.36, 3.93, 0.6 , 0.22, 3.27,\n",
       "       1.35, 1.88, 4.93, 2.89, 0.61, 3.47, 2.11, 4.88, 4.12, 0.68, 1.15,\n",
       "       0.27, 4.32, 3.31, 1.82, 3.42, 4.41, 4.57, 1.69, 1.87, 2.71, 1.63,\n",
       "       0.01, 4.49, 3.52, 4.35, 2.51, 2.34, 1.71, 3.45, 3.37, 3.13, 0.29,\n",
       "       1.51, 1.09, 2.68, 0.3 , 0.23, 2.55, 0.86, 0.24, 3.63, 3.26, 0.42,\n",
       "       0.77, 0.58, 3.82, 2.78, 3.62, 3.88, 4.64, 2.25, 0.54, 4.62, 2.5 ,\n",
       "       3.08, 3.03, 2.85, 1.38, 2.73, 3.02, 1.96, 2.35, 2.45, 2.67, 1.12,\n",
       "       3.3 , 0.43, 1.19, 0.85, 0.5 , 4.75, 1.89, 3.75, 3.32, 1.75, 2.66,\n",
       "       2.76, 2.63, 0.04, 0.88, 2.22, 4.91, 4.8 , 0.47, 1.62, 0.09, 4.66,\n",
       "       2.74, 1.79, 4.15, 3.78, 2.91, 4.3 , 3.24, 3.53, 3.04, 2.21, 2.47,\n",
       "       1.92, 1.22, 2.12, 4.19, 4.21, 4.07, 2.56, 3.55, 3.94, 0.8 , 2.59,\n",
       "       3.9 , 3.15, 0.18, 3.86, 1.25, 2.29, 0.07, 4.18, 4.34, 2.39, 0.9 ,\n",
       "       0.89, 2.4 , 3.69, 4.71, 3.36, 4.46, 4.5 , 0.57, 2.69, 2.17, 1.32,\n",
       "       5.  , 2.6 , 0.35, 3.83, 2.9 , 1.56, 2.23, 3.81, 2.75, 0.81, 4.  ,\n",
       "       4.08, 1.55, 2.42, 2.99, 1.43, 1.66, 3.38, 4.42, 3.43, 3.65, 4.86,\n",
       "       2.82, 1.05, 0.73, 1.21, 2.15, 3.6 , 1.73, 3.35, 0.37, 0.79, 0.99,\n",
       "       1.86, 4.84, 3.09, 1.72, 3.29, 0.11, 4.04, 3.71, 3.79, 3.05, 0.84,\n",
       "       1.98, 0.59, 0.36, 1.4 , 1.46, 2.02, 0.  , 0.93, 0.78, 4.48, 0.71,\n",
       "       0.06, 0.87, 1.44, 4.36, 2.83, 2.58, 2.14, 0.15, 2.01, 2.18, 4.38,\n",
       "       3.73, 2.97, 3.85, 3.95, 2.06, 3.84, 3.97, 4.44, 2.96, 3.44, 2.2 ,\n",
       "       1.14, 2.37, 0.13, 3.89, 2.09, 4.79, 2.54, 0.19, 4.77, 0.76, 4.27,\n",
       "       1.9 , 4.26, 3.19, 1.24, 1.67, 2.94, 0.49, 4.1 , 4.68, 2.26, 1.2 ,\n",
       "       3.12, 3.67, 3.59, 3.46, 4.81, 2.79, 3.49, 1.77, 2.7 , 4.53, 0.39,\n",
       "       1.07, 0.62, 3.96, 0.14, 0.83, 0.72, 3.98, 4.39, 4.56, 3.06, 2.92,\n",
       "       0.95, 2.24, 3.18, 2.61, 2.33, 1.93, 4.52, 3.91, 4.58, 1.81, 3.01,\n",
       "       2.16, 3.39, 3.51, 1.08, 1.99, 1.53, 4.73, 2.13, 1.34, 3.68, 2.04,\n",
       "       1.45, 2.8 , 3.34, 2.52, 2.46, 3.92, 4.69, 0.63, 3.  , 4.31, 2.64,\n",
       "       0.65, 2.65, 4.29, 2.62, 4.13, 0.45, 0.33, 3.25, 3.72, 1.54, 4.76,\n",
       "       0.7 , 1.5 , 1.91, 0.05, 4.96, 4.7 , 3.57, 4.05, 4.98, 4.55, 2.77,\n",
       "       1.52, 4.95, 2.08, 1.37, 1.49, 4.11, 2.1 , 4.85, 0.48, 2.88, 0.17,\n",
       "       2.05, 0.41, 0.97, 4.25, 4.23, 2.28, 0.96, 4.6 , 4.65, 0.46, 4.03,\n",
       "       1.06, 0.82, 4.06, 1.39, 1.03, 4.87, 1.48, 3.61, 3.74, 4.82, 0.75,\n",
       "       2.38, 0.25, 0.53, 3.07, 3.99, 1.83, 0.21, 1.94, 0.55, 2.72, 2.48,\n",
       "       1.61, 4.33, 0.32, 4.72, 0.31, 1.76, 4.74, 4.61, 1.28, 3.48, 0.34,\n",
       "       2.41, 3.14, 3.54, 0.56, 3.76, 3.11, 0.69, 1.97, 4.59, 1.74, 0.26,\n",
       "       0.16, 3.2 , 1.27, 3.5 , 0.38, 4.78, 3.21, 1.16, 1.1 , 2.27, 4.94,\n",
       "       4.2 , 2.03, 1.95, 4.67, 2.93, 4.83, 0.12, 1.41, 1.68, 1.7 , 2.98,\n",
       "       4.24, 1.18, 0.03, 0.67, 1.57, 0.02, 0.52, 0.91, 3.64, 4.4 , 0.44,\n",
       "       3.56, 2.53, 1.85, 3.28, 3.77, 0.4 , 4.9 , 3.87, 0.74, 1.13, 0.28,\n",
       "       4.45, 4.51, 3.41, 2.84, 0.66, 4.17, 4.37, 4.54, 2.3 , 1.17, 3.8 ,\n",
       "       1.8 , 2.81, 1.84, 3.58, 1.3 , 2.44, 5.05, 2.95, 1.6 , 4.47, 3.7 ,\n",
       "       2.87, 1.26, 1.78, 3.4 , 1.04, 4.89, 4.09, 3.1 , 0.64, 2.07, 0.98,\n",
       "       2.19, 0.2 , 4.43, 4.02, 1.29, 2.31, 3.17, 4.01, 1.  , 3.23, 4.63,\n",
       "       1.58, 2.57, 1.59, 0.1 , 5.01, 5.03, 1.42, 4.16, 1.02, 4.28, 0.51,\n",
       "       1.11, 4.92, 3.66, 2.43, 1.33, 3.16, 4.99, 2.  , 1.23, 0.08, 3.33])"
      ]
     },
     "execution_count": 19,
     "metadata": {},
     "output_type": "execute_result"
    }
   ],
   "source": [
    "df.aluminium.unique()"
   ]
  },
  {
   "cell_type": "code",
   "execution_count": 20,
   "id": "e1a0f7d0",
   "metadata": {},
   "outputs": [
    {
     "name": "stderr",
     "output_type": "stream",
     "text": [
      "C:\\Users\\Bhuvaneshvaran k\\anaconda3\\lib\\site-packages\\seaborn\\distributions.py:2619: FutureWarning: `distplot` is a deprecated function and will be removed in a future version. Please adapt your code to use either `displot` (a figure-level function with similar flexibility) or `histplot` (an axes-level function for histograms).\n",
      "  warnings.warn(msg, FutureWarning)\n"
     ]
    },
    {
     "data": {
      "text/plain": [
       "Text(0.5, 1.0, 'aluminium')"
      ]
     },
     "execution_count": 20,
     "metadata": {},
     "output_type": "execute_result"
    },
    {
     "data": {
      "image/png": "[encoded data removed]",
      "text/plain": [
       "<Figure size 432x288 with 1 Axes>"
      ]
     },
     "metadata": {
      "needs_background": "light"
     },
     "output_type": "display_data"
    }
   ],
   "source": [
    "sns.distplot(df['aluminium'])\n",
    "plt.title('aluminium')"
   ]
  },
  {
   "cell_type": "code",
   "execution_count": 21,
   "id": "a8451212",
   "metadata": {},
   "outputs": [
    {
     "name": "stderr",
     "output_type": "stream",
     "text": [
      "C:\\Users\\Bhuvaneshvaran k\\anaconda3\\lib\\site-packages\\seaborn\\_decorators.py:36: FutureWarning: Pass the following variable as a keyword arg: x. From version 0.12, the only valid positional argument will be `data`, and passing other arguments without an explicit keyword will result in an error or misinterpretation.\n",
      "  warnings.warn(\n"
     ]
    },
    {
     "data": {
      "text/plain": [
       "Text(0.5, 1.0, 'aluminium')"
      ]
     },
     "execution_count": 21,
     "metadata": {},
     "output_type": "execute_result"
    },
    {
     "data": {
      "image/png": "[encoded data removed]",
      "text/plain": [
       "<Figure size 432x288 with 1 Axes>"
      ]
     },
     "metadata": {
      "needs_background": "light"
     },
     "output_type": "display_data"
    }
   ],
   "source": [
    "sns.boxplot(df.aluminium)\n",
    "plt.title('aluminium')"
   ]
  },
  {
   "cell_type": "code",
   "execution_count": 22,
   "id": "2d279857",
   "metadata": {},
   "outputs": [],
   "source": [
    "q1=df.aluminium.quantile(0.25)\n",
    "q3=df.aluminium.quantile(0.75)\n",
    "iqr=q3-q1\n",
    "upper_bond_aluminium=q3+(1.5*iqr)\n",
    "lower_bond_aluminium=q1-(1.5*iqr)\n",
    "df.aluminium=np.where(df.aluminium>upper_bond_aluminium,upper_bond_aluminium, np.where(df.aluminium <lower_bond_aluminium, lower_bond_aluminium, df.aluminium))"
   ]
  },
  {
   "cell_type": "code",
   "execution_count": 23,
   "id": "f5fd72ad",
   "metadata": {},
   "outputs": [
    {
     "name": "stderr",
     "output_type": "stream",
     "text": [
      "C:\\Users\\Bhuvaneshvaran k\\anaconda3\\lib\\site-packages\\seaborn\\_decorators.py:36: FutureWarning: Pass the following variable as a keyword arg: x. From version 0.12, the only valid positional argument will be `data`, and passing other arguments without an explicit keyword will result in an error or misinterpretation.\n",
      "  warnings.warn(\n"
     ]
    },
    {
     "data": {
      "text/plain": [
       "<AxesSubplot:xlabel='aluminium'>"
      ]
     },
     "execution_count": 23,
     "metadata": {},
     "output_type": "execute_result"
    },
    {
     "data": {
      "image/png": "[encoded data removed]",
      "text/plain": [
       "<Figure size 432x288 with 1 Axes>"
      ]
     },
     "metadata": {
      "needs_background": "light"
     },
     "output_type": "display_data"
    }
   ],
   "source": [
    "sns.boxplot(df.aluminium)"
   ]
  },
  {
   "cell_type": "code",
   "execution_count": 24,
   "id": "d3eefb21",
   "metadata": {},
   "outputs": [
    {
     "name": "stdout",
     "output_type": "stream",
     "text": [
      "              df     sum_sq   mean_sq           F  PR(>F)\n",
      "is_safe      1.0   77.16533  77.16533  1542.53114     0.0\n",
      "Residual  7994.0  399.90093   0.05003         NaN     NaN\n"
     ]
    }
   ],
   "source": [
    "annova=ols('aluminium ~is_safe',data=df).fit()\n",
    "an=sm.stats.anova_lm(annova)\n",
    "print(an.round(decimals=5))"
   ]
  },
  {
   "cell_type": "code",
   "execution_count": 25,
   "id": "9cb7013a",
   "metadata": {},
   "outputs": [
    {
     "data": {
      "text/plain": [
       "0.12     13\n",
       "0.17     13\n",
       "0.37     13\n",
       "13.74    12\n",
       "0.41     11\n",
       "         ..\n",
       "6.78      1\n",
       "16.4      1\n",
       "24.46     1\n",
       "20.49     1\n",
       "10        1\n",
       "Name: ammonia, Length: 2563, dtype: int64"
      ]
     },
     "execution_count": 25,
     "metadata": {},
     "output_type": "execute_result"
    }
   ],
   "source": [
    "df.ammonia.value_counts()"
   ]
  },
  {
   "cell_type": "code",
   "execution_count": 26,
   "id": "d0874e71",
   "metadata": {},
   "outputs": [
    {
     "name": "stderr",
     "output_type": "stream",
     "text": [
      "C:\\Users\\Bhuvaneshvaran k\\anaconda3\\lib\\site-packages\\seaborn\\distributions.py:2619: FutureWarning: `distplot` is a deprecated function and will be removed in a future version. Please adapt your code to use either `displot` (a figure-level function with similar flexibility) or `histplot` (an axes-level function for histograms).\n",
      "  warnings.warn(msg, FutureWarning)\n"
     ]
    },
    {
     "data": {
      "text/plain": [
       "Text(0.5, 1.0, 'ammonia')"
      ]
     },
     "execution_count": 26,
     "metadata": {},
     "output_type": "execute_result"
    },
    {
     "data": {
      "image/png": "[encoded data removed]",
      "text/plain": [
       "<Figure size 432x288 with 1 Axes>"
      ]
     },
     "metadata": {
      "needs_background": "light"
     },
     "output_type": "display_data"
    }
   ],
   "source": [
    "sns.distplot(df.ammonia)\n",
    "plt.title('ammonia')"
   ]
  },
  {
   "cell_type": "code",
   "execution_count": 27,
   "id": "77b04edd",
   "metadata": {},
   "outputs": [
    {
     "data": {
      "text/plain": [
       "Text(0.5, 1.0, 'ammonia')"
      ]
     },
     "execution_count": 27,
     "metadata": {},
     "output_type": "execute_result"
    },
    {
     "data": {
      "image/png": "[encoded data removed]",
      "text/plain": [
       "<Figure size 432x288 with 1 Axes>"
      ]
     },
     "metadata": {
      "needs_background": "light"
     },
     "output_type": "display_data"
    }
   ],
   "source": [
    "sns.countplot(x='ammonia',data=df)\n",
    "plt.title('ammonia')"
   ]
  },
  {
   "cell_type": "code",
   "execution_count": 28,
   "id": "0c38e4fa",
   "metadata": {},
   "outputs": [],
   "source": [
    "#df=df.drop(['ammonia'],axis=1,inplace=True)"
   ]
  },
  {
   "cell_type": "code",
   "execution_count": 29,
   "id": "427c7624",
   "metadata": {},
   "outputs": [],
   "source": [
    "#annova=ols('ammonia ~is_safe',data=df).fit()\n",
    "#an=sm.stats.anova_lm(annova)\n",
    "#print(an.round(decimals=5))"
   ]
  },
  {
   "cell_type": "code",
   "execution_count": 30,
   "id": "61721756",
   "metadata": {},
   "outputs": [
    {
     "data": {
      "text/plain": [
       "0.04    858\n",
       "0.03    797\n",
       "0.02    797\n",
       "0.01    788\n",
       "0.05    624\n",
       "       ... \n",
       "1.03     10\n",
       "0.55     10\n",
       "1.01      7\n",
       "1.04      2\n",
       "1.05      2\n",
       "Name: arsenic, Length: 107, dtype: int64"
      ]
     },
     "execution_count": 30,
     "metadata": {},
     "output_type": "execute_result"
    }
   ],
   "source": [
    "df.arsenic.value_counts()"
   ]
  },
  {
   "cell_type": "code",
   "execution_count": 31,
   "id": "8fe69aab",
   "metadata": {},
   "outputs": [
    {
     "name": "stderr",
     "output_type": "stream",
     "text": [
      "C:\\Users\\Bhuvaneshvaran k\\anaconda3\\lib\\site-packages\\seaborn\\distributions.py:2619: FutureWarning: `distplot` is a deprecated function and will be removed in a future version. Please adapt your code to use either `displot` (a figure-level function with similar flexibility) or `histplot` (an axes-level function for histograms).\n",
      "  warnings.warn(msg, FutureWarning)\n"
     ]
    },
    {
     "data": {
      "text/plain": [
       "Text(0.5, 1.0, 'arsenic')"
      ]
     },
     "execution_count": 31,
     "metadata": {},
     "output_type": "execute_result"
    },
    {
     "data": {
      "image/png": "[encoded data removed]",
      "text/plain": [
       "<Figure size 432x288 with 1 Axes>"
      ]
     },
     "metadata": {
      "needs_background": "light"
     },
     "output_type": "display_data"
    }
   ],
   "source": [
    "sns.distplot(df.arsenic)\n",
    "plt.title('arsenic')"
   ]
  },
  {
   "cell_type": "code",
   "execution_count": 32,
   "id": "fa848bfd",
   "metadata": {},
   "outputs": [
    {
     "name": "stderr",
     "output_type": "stream",
     "text": [
      "C:\\Users\\Bhuvaneshvaran k\\anaconda3\\lib\\site-packages\\seaborn\\_decorators.py:36: FutureWarning: Pass the following variable as a keyword arg: x. From version 0.12, the only valid positional argument will be `data`, and passing other arguments without an explicit keyword will result in an error or misinterpretation.\n",
      "  warnings.warn(\n"
     ]
    },
    {
     "data": {
      "text/plain": [
       "Text(0.5, 1.0, 'arsenic')"
      ]
     },
     "execution_count": 32,
     "metadata": {},
     "output_type": "execute_result"
    },
    {
     "data": {
      "image/png": "[encoded data removed]",
      "text/plain": [
       "<Figure size 432x288 with 1 Axes>"
      ]
     },
     "metadata": {
      "needs_background": "light"
     },
     "output_type": "display_data"
    }
   ],
   "source": [
    "sns.boxplot(df.arsenic)\n",
    "plt.title('arsenic')"
   ]
  },
  {
   "cell_type": "code",
   "execution_count": 33,
   "id": "c517c81c",
   "metadata": {},
   "outputs": [],
   "source": [
    "q1=df.arsenic.quantile(0.25)\n",
    "q3=df.arsenic.quantile(0.75)\n",
    "iqr=q3-q1\n",
    "upper_bond_arsenic=q3+(1.5*iqr)\n",
    "lower_bond_arsenic=q1-(1.5*iqr)\n",
    "df.arsenic=np.where(df.arsenic>upper_bond_arsenic,upper_bond_arsenic, np.where(df.arsenic <lower_bond_arsenic, lower_bond_arsenic, df.arsenic))"
   ]
  },
  {
   "cell_type": "code",
   "execution_count": 34,
   "id": "c973414f",
   "metadata": {},
   "outputs": [
    {
     "name": "stderr",
     "output_type": "stream",
     "text": [
      "C:\\Users\\Bhuvaneshvaran k\\anaconda3\\lib\\site-packages\\seaborn\\_decorators.py:36: FutureWarning: Pass the following variable as a keyword arg: x. From version 0.12, the only valid positional argument will be `data`, and passing other arguments without an explicit keyword will result in an error or misinterpretation.\n",
      "  warnings.warn(\n"
     ]
    },
    {
     "data": {
      "text/plain": [
       "<AxesSubplot:xlabel='arsenic'>"
      ]
     },
     "execution_count": 34,
     "metadata": {},
     "output_type": "execute_result"
    },
    {
     "data": {
      "image/png": "[encoded data removed]",
      "text/plain": [
       "<Figure size 432x288 with 1 Axes>"
      ]
     },
     "metadata": {
      "needs_background": "light"
     },
     "output_type": "display_data"
    }
   ],
   "source": [
    "sns.boxplot(df.arsenic)"
   ]
  },
  {
   "cell_type": "code",
   "execution_count": 35,
   "id": "0cc3bd5d",
   "metadata": {},
   "outputs": [
    {
     "name": "stdout",
     "output_type": "stream",
     "text": [
      "              df    sum_sq  mean_sq          F  PR(>F)\n",
      "is_safe      1.0   1.10276  1.10276  224.95385     0.0\n",
      "Residual  7994.0  39.18793  0.00490        NaN     NaN\n"
     ]
    }
   ],
   "source": [
    "annova=ols('arsenic ~is_safe ',data=df).fit()\n",
    "an=sm.stats.anova_lm(annova)\n",
    "print(an.round(decimals=5))"
   ]
  },
  {
   "cell_type": "code",
   "execution_count": 36,
   "id": "b25bf285",
   "metadata": {},
   "outputs": [
    {
     "data": {
      "text/plain": [
       "0.23    50\n",
       "0.38    50\n",
       "0.57    49\n",
       "0.77    49\n",
       "0.96    46\n",
       "        ..\n",
       "4.82     1\n",
       "4.83     1\n",
       "4.52     1\n",
       "4.01     1\n",
       "4.77     1\n",
       "Name: barium, Length: 480, dtype: int64"
      ]
     },
     "execution_count": 36,
     "metadata": {},
     "output_type": "execute_result"
    }
   ],
   "source": [
    "df.barium.value_counts()"
   ]
  },
  {
   "cell_type": "code",
   "execution_count": 37,
   "id": "26e4b940",
   "metadata": {},
   "outputs": [
    {
     "name": "stderr",
     "output_type": "stream",
     "text": [
      "C:\\Users\\Bhuvaneshvaran k\\anaconda3\\lib\\site-packages\\seaborn\\distributions.py:2619: FutureWarning: `distplot` is a deprecated function and will be removed in a future version. Please adapt your code to use either `displot` (a figure-level function with similar flexibility) or `histplot` (an axes-level function for histograms).\n",
      "  warnings.warn(msg, FutureWarning)\n"
     ]
    },
    {
     "data": {
      "text/plain": [
       "Text(0.5, 1.0, 'barium')"
      ]
     },
     "execution_count": 37,
     "metadata": {},
     "output_type": "execute_result"
    },
    {
     "data": {
      "image/png": "[encoded data removed]",
      "text/plain": [
       "<Figure size 432x288 with 1 Axes>"
      ]
     },
     "metadata": {
      "needs_background": "light"
     },
     "output_type": "display_data"
    }
   ],
   "source": [
    "sns.distplot(df.barium)\n",
    "plt.title('barium')"
   ]
  },
  {
   "cell_type": "code",
   "execution_count": 38,
   "id": "2d40d961",
   "metadata": {},
   "outputs": [
    {
     "name": "stderr",
     "output_type": "stream",
     "text": [
      "C:\\Users\\Bhuvaneshvaran k\\anaconda3\\lib\\site-packages\\seaborn\\_decorators.py:36: FutureWarning: Pass the following variable as a keyword arg: x. From version 0.12, the only valid positional argument will be `data`, and passing other arguments without an explicit keyword will result in an error or misinterpretation.\n",
      "  warnings.warn(\n"
     ]
    },
    {
     "data": {
      "text/plain": [
       "Text(0.5, 1.0, 'barium')"
      ]
     },
     "execution_count": 38,
     "metadata": {},
     "output_type": "execute_result"
    },
    {
     "data": {
      "image/png": "[encoded data removed]",
      "text/plain": [
       "<Figure size 432x288 with 1 Axes>"
      ]
     },
     "metadata": {
      "needs_background": "light"
     },
     "output_type": "display_data"
    }
   ],
   "source": [
    "sns.boxplot(df.barium)\n",
    "plt.title('barium')"
   ]
  },
  {
   "cell_type": "code",
   "execution_count": 39,
   "id": "3d908e0b",
   "metadata": {},
   "outputs": [
    {
     "name": "stdout",
     "output_type": "stream",
     "text": [
      "              df       sum_sq   mean_sq        F  PR(>F)\n",
      "is_safe      1.0     97.62902  97.62902  66.5419     0.0\n",
      "Residual  7994.0  11728.64594   1.46718      NaN     NaN\n"
     ]
    }
   ],
   "source": [
    "annova=ols('barium ~is_safe',data=df).fit()\n",
    "an=sm.stats.anova_lm(annova)\n",
    "print(an.round(decimals=5))"
   ]
  },
  {
   "cell_type": "code",
   "execution_count": 40,
   "id": "da0f8a78",
   "metadata": {},
   "outputs": [
    {
     "data": {
      "text/plain": [
       "0.090    588\n",
       "0.060    573\n",
       "0.040    562\n",
       "0.020    559\n",
       "0.050    558\n",
       "0.070    554\n",
       "0.010    553\n",
       "0.030    536\n",
       "0.080    532\n",
       "0.001    358\n",
       "0.100    347\n",
       "0.008    242\n",
       "0.005    240\n",
       "0.000    236\n",
       "0.002    226\n",
       "0.006    220\n",
       "0.003    214\n",
       "0.007    206\n",
       "0.004    204\n",
       "0.120    175\n",
       "0.110    161\n",
       "0.009     90\n",
       "0.130     62\n",
       "Name: cadmium, dtype: int64"
      ]
     },
     "execution_count": 40,
     "metadata": {},
     "output_type": "execute_result"
    }
   ],
   "source": [
    "df.cadmium.value_counts()"
   ]
  },
  {
   "cell_type": "code",
   "execution_count": 41,
   "id": "914e242d",
   "metadata": {},
   "outputs": [
    {
     "name": "stderr",
     "output_type": "stream",
     "text": [
      "C:\\Users\\Bhuvaneshvaran k\\anaconda3\\lib\\site-packages\\seaborn\\distributions.py:2619: FutureWarning: `distplot` is a deprecated function and will be removed in a future version. Please adapt your code to use either `displot` (a figure-level function with similar flexibility) or `histplot` (an axes-level function for histograms).\n",
      "  warnings.warn(msg, FutureWarning)\n"
     ]
    },
    {
     "data": {
      "text/plain": [
       "Text(0.5, 1.0, 'cadmium')"
      ]
     },
     "execution_count": 41,
     "metadata": {},
     "output_type": "execute_result"
    },
    {
     "data": {
      "image/png": "[encoded data removed]",
      "text/plain": [
       "<Figure size 432x288 with 1 Axes>"
      ]
     },
     "metadata": {
      "needs_background": "light"
     },
     "output_type": "display_data"
    }
   ],
   "source": [
    "sns.distplot(df.cadmium)\n",
    "plt.title('cadmium')"
   ]
  },
  {
   "cell_type": "code",
   "execution_count": 42,
   "id": "6d8b3b5f",
   "metadata": {},
   "outputs": [
    {
     "name": "stderr",
     "output_type": "stream",
     "text": [
      "C:\\Users\\Bhuvaneshvaran k\\anaconda3\\lib\\site-packages\\seaborn\\_decorators.py:36: FutureWarning: Pass the following variable as a keyword arg: x. From version 0.12, the only valid positional argument will be `data`, and passing other arguments without an explicit keyword will result in an error or misinterpretation.\n",
      "  warnings.warn(\n"
     ]
    },
    {
     "data": {
      "text/plain": [
       "Text(0.5, 1.0, 'cadmium')"
      ]
     },
     "execution_count": 42,
     "metadata": {},
     "output_type": "execute_result"
    },
    {
     "data": {
      "image/png": "[encoded data removed]",
      "text/plain": [
       "<Figure size 432x288 with 1 Axes>"
      ]
     },
     "metadata": {
      "needs_background": "light"
     },
     "output_type": "display_data"
    }
   ],
   "source": [
    "sns.boxplot(df.cadmium)\n",
    "plt.title('cadmium')"
   ]
  },
  {
   "cell_type": "code",
   "execution_count": 43,
   "id": "b730800c",
   "metadata": {},
   "outputs": [
    {
     "name": "stdout",
     "output_type": "stream",
     "text": [
      "              df   sum_sq  mean_sq          F  PR(>F)\n",
      "is_safe      1.0  0.68109  0.68109  560.79571     0.0\n",
      "Residual  7994.0  9.70883  0.00121        NaN     NaN\n"
     ]
    }
   ],
   "source": [
    "annova=ols('cadmium ~is_safe',data=df).fit()\n",
    "an=sm.stats.anova_lm(annova)\n",
    "print(an.round(decimals=5))"
   ]
  },
  {
   "cell_type": "code",
   "execution_count": 44,
   "id": "03fd11f6",
   "metadata": {},
   "outputs": [
    {
     "data": {
      "text/plain": [
       "0.09    223\n",
       "0.01    222\n",
       "0.02    218\n",
       "0.04    216\n",
       "0.05    215\n",
       "       ... \n",
       "5.91      1\n",
       "8.34      1\n",
       "5.77      1\n",
       "8.42      1\n",
       "3.94      1\n",
       "Name: chloramine, Length: 812, dtype: int64"
      ]
     },
     "execution_count": 44,
     "metadata": {},
     "output_type": "execute_result"
    }
   ],
   "source": [
    "df.chloramine.value_counts()"
   ]
  },
  {
   "cell_type": "code",
   "execution_count": 45,
   "id": "a02dcec6",
   "metadata": {},
   "outputs": [
    {
     "name": "stderr",
     "output_type": "stream",
     "text": [
      "C:\\Users\\Bhuvaneshvaran k\\anaconda3\\lib\\site-packages\\seaborn\\distributions.py:2619: FutureWarning: `distplot` is a deprecated function and will be removed in a future version. Please adapt your code to use either `displot` (a figure-level function with similar flexibility) or `histplot` (an axes-level function for histograms).\n",
      "  warnings.warn(msg, FutureWarning)\n"
     ]
    },
    {
     "data": {
      "text/plain": [
       "Text(0.5, 1.0, 'chloramine')"
      ]
     },
     "execution_count": 45,
     "metadata": {},
     "output_type": "execute_result"
    },
    {
     "data": {
      "image/png": "[encoded data removed]",
      "text/plain": [
       "<Figure size 432x288 with 1 Axes>"
      ]
     },
     "metadata": {
      "needs_background": "light"
     },
     "output_type": "display_data"
    }
   ],
   "source": [
    "sns.distplot(df.chloramine)\n",
    "plt.title('chloramine')"
   ]
  },
  {
   "cell_type": "code",
   "execution_count": 46,
   "id": "5e74e776",
   "metadata": {},
   "outputs": [
    {
     "name": "stderr",
     "output_type": "stream",
     "text": [
      "C:\\Users\\Bhuvaneshvaran k\\anaconda3\\lib\\site-packages\\seaborn\\_decorators.py:36: FutureWarning: Pass the following variable as a keyword arg: x. From version 0.12, the only valid positional argument will be `data`, and passing other arguments without an explicit keyword will result in an error or misinterpretation.\n",
      "  warnings.warn(\n"
     ]
    },
    {
     "data": {
      "text/plain": [
       "Text(0.5, 1.0, 'chloramine')"
      ]
     },
     "execution_count": 46,
     "metadata": {},
     "output_type": "execute_result"
    },
    {
     "data": {
      "image/png": "[encoded data removed]",
      "text/plain": [
       "<Figure size 432x288 with 1 Axes>"
      ]
     },
     "metadata": {
      "needs_background": "light"
     },
     "output_type": "display_data"
    }
   ],
   "source": [
    "sns.boxplot(df.chloramine)\n",
    "plt.title('chloramine')"
   ]
  },
  {
   "cell_type": "code",
   "execution_count": 47,
   "id": "1c73ac0b",
   "metadata": {},
   "outputs": [
    {
     "name": "stdout",
     "output_type": "stream",
     "text": [
      "              df       sum_sq     mean_sq          F  PR(>F)\n",
      "is_safe      1.0   1836.75041  1836.75041  288.72352     0.0\n",
      "Residual  7994.0  50854.81990     6.36162        NaN     NaN\n"
     ]
    }
   ],
   "source": [
    "annova=ols('chloramine ~is_safe',data=df).fit()\n",
    "an=sm.stats.anova_lm(annova)\n",
    "print(an.round(decimals=5))"
   ]
  },
  {
   "cell_type": "code",
   "execution_count": 48,
   "id": "04231c3a",
   "metadata": {},
   "outputs": [
    {
     "data": {
      "text/plain": [
       "0.04    495\n",
       "0.06    483\n",
       "0.08    480\n",
       "0.03    461\n",
       "0.07    457\n",
       "       ... \n",
       "0.44     24\n",
       "0.22     20\n",
       "0.81     20\n",
       "0.90     12\n",
       "0.75     12\n",
       "Name: chromium, Length: 91, dtype: int64"
      ]
     },
     "execution_count": 48,
     "metadata": {},
     "output_type": "execute_result"
    }
   ],
   "source": [
    "df.chromium.value_counts()"
   ]
  },
  {
   "cell_type": "code",
   "execution_count": 49,
   "id": "5e5e6e58",
   "metadata": {},
   "outputs": [
    {
     "name": "stderr",
     "output_type": "stream",
     "text": [
      "C:\\Users\\Bhuvaneshvaran k\\anaconda3\\lib\\site-packages\\seaborn\\distributions.py:2619: FutureWarning: `distplot` is a deprecated function and will be removed in a future version. Please adapt your code to use either `displot` (a figure-level function with similar flexibility) or `histplot` (an axes-level function for histograms).\n",
      "  warnings.warn(msg, FutureWarning)\n"
     ]
    },
    {
     "data": {
      "text/plain": [
       "Text(0.5, 1.0, 'chromium')"
      ]
     },
     "execution_count": 49,
     "metadata": {},
     "output_type": "execute_result"
    },
    {
     "data": {
      "image/png": "[encoded data removed]",
      "text/plain": [
       "<Figure size 432x288 with 1 Axes>"
      ]
     },
     "metadata": {
      "needs_background": "light"
     },
     "output_type": "display_data"
    }
   ],
   "source": [
    "sns.distplot(df.chromium)\n",
    "plt.title('chromium')"
   ]
  },
  {
   "cell_type": "code",
   "execution_count": 50,
   "id": "4c816f45",
   "metadata": {},
   "outputs": [
    {
     "name": "stderr",
     "output_type": "stream",
     "text": [
      "C:\\Users\\Bhuvaneshvaran k\\anaconda3\\lib\\site-packages\\seaborn\\_decorators.py:36: FutureWarning: Pass the following variable as a keyword arg: x. From version 0.12, the only valid positional argument will be `data`, and passing other arguments without an explicit keyword will result in an error or misinterpretation.\n",
      "  warnings.warn(\n"
     ]
    },
    {
     "data": {
      "text/plain": [
       "Text(0.5, 1.0, 'chromium')"
      ]
     },
     "execution_count": 50,
     "metadata": {},
     "output_type": "execute_result"
    },
    {
     "data": {
      "image/png": "[encoded data removed]",
      "text/plain": [
       "<Figure size 432x288 with 1 Axes>"
      ]
     },
     "metadata": {
      "needs_background": "light"
     },
     "output_type": "display_data"
    }
   ],
   "source": [
    "sns.boxplot(df.chromium)\n",
    "plt.title('chromium')"
   ]
  },
  {
   "cell_type": "code",
   "execution_count": 51,
   "id": "b6c2d0ff",
   "metadata": {},
   "outputs": [
    {
     "name": "stdout",
     "output_type": "stream",
     "text": [
      "              df     sum_sq   mean_sq          F  PR(>F)\n",
      "is_safe      1.0   19.46619  19.46619  274.81898     0.0\n",
      "Residual  7994.0  566.23721   0.07083        NaN     NaN\n"
     ]
    }
   ],
   "source": [
    "annova=ols('chromium ~is_safe',data=df).fit()\n",
    "an=sm.stats.anova_lm(annova)\n",
    "print(an.round(decimals=5))"
   ]
  },
  {
   "cell_type": "code",
   "execution_count": 52,
   "id": "c1eed724",
   "metadata": {},
   "outputs": [
    {
     "data": {
      "text/plain": [
       "0.05    241\n",
       "0.04    239\n",
       "0.08    228\n",
       "0.02    216\n",
       "0.07    206\n",
       "       ... \n",
       "1.70      7\n",
       "0.32      7\n",
       "2.00      6\n",
       "0.45      6\n",
       "0.64      5\n",
       "Name: copper, Length: 201, dtype: int64"
      ]
     },
     "execution_count": 52,
     "metadata": {},
     "output_type": "execute_result"
    }
   ],
   "source": [
    "df.copper.value_counts()"
   ]
  },
  {
   "cell_type": "code",
   "execution_count": 53,
   "id": "b4494236",
   "metadata": {},
   "outputs": [
    {
     "name": "stderr",
     "output_type": "stream",
     "text": [
      "C:\\Users\\Bhuvaneshvaran k\\anaconda3\\lib\\site-packages\\seaborn\\distributions.py:2619: FutureWarning: `distplot` is a deprecated function and will be removed in a future version. Please adapt your code to use either `displot` (a figure-level function with similar flexibility) or `histplot` (an axes-level function for histograms).\n",
      "  warnings.warn(msg, FutureWarning)\n"
     ]
    },
    {
     "data": {
      "text/plain": [
       "Text(0.5, 1.0, 'copper')"
      ]
     },
     "execution_count": 53,
     "metadata": {},
     "output_type": "execute_result"
    },
    {
     "data": {
      "image/png": "[encoded data removed]",
      "text/plain": [
       "<Figure size 432x288 with 1 Axes>"
      ]
     },
     "metadata": {
      "needs_background": "light"
     },
     "output_type": "display_data"
    }
   ],
   "source": [
    "sns.distplot(df.copper)\n",
    "plt.title('copper')"
   ]
  },
  {
   "cell_type": "code",
   "execution_count": 54,
   "id": "a6ca0a13",
   "metadata": {},
   "outputs": [
    {
     "name": "stderr",
     "output_type": "stream",
     "text": [
      "C:\\Users\\Bhuvaneshvaran k\\anaconda3\\lib\\site-packages\\seaborn\\_decorators.py:36: FutureWarning: Pass the following variable as a keyword arg: x. From version 0.12, the only valid positional argument will be `data`, and passing other arguments without an explicit keyword will result in an error or misinterpretation.\n",
      "  warnings.warn(\n"
     ]
    },
    {
     "data": {
      "text/plain": [
       "Text(0.5, 1.0, 'copper')"
      ]
     },
     "execution_count": 54,
     "metadata": {},
     "output_type": "execute_result"
    },
    {
     "data": {
      "image/png": "[encoded data removed]",
      "text/plain": [
       "<Figure size 432x288 with 1 Axes>"
      ]
     },
     "metadata": {
      "needs_background": "light"
     },
     "output_type": "display_data"
    }
   ],
   "source": [
    "sns.boxplot(df.copper)\n",
    "plt.title('copper')"
   ]
  },
  {
   "cell_type": "code",
   "execution_count": 55,
   "id": "0c66e17b",
   "metadata": {},
   "outputs": [
    {
     "name": "stdout",
     "output_type": "stream",
     "text": [
      "              df      sum_sq  mean_sq        F   PR(>F)\n",
      "is_safe      1.0     2.97189  2.97189  6.96208  0.00834\n",
      "Residual  7994.0  3412.38034  0.42687      NaN      NaN\n"
     ]
    }
   ],
   "source": [
    "annova=ols('copper ~is_safe',data=df).fit()\n",
    "an=sm.stats.anova_lm(annova)\n",
    "print(an.round(decimals=5))"
   ]
  },
  {
   "cell_type": "code",
   "execution_count": 56,
   "id": "b00571f0",
   "metadata": {},
   "outputs": [
    {
     "data": {
      "text/plain": [
       "1.43    128\n",
       "0.63    104\n",
       "0.33     96\n",
       "0.61     95\n",
       "1.39     88\n",
       "       ... \n",
       "0.18     16\n",
       "1.22     16\n",
       "1.11     16\n",
       "0.39     16\n",
       "0.60      8\n",
       "Name: flouride, Length: 151, dtype: int64"
      ]
     },
     "execution_count": 56,
     "metadata": {},
     "output_type": "execute_result"
    }
   ],
   "source": [
    "df.flouride.value_counts()"
   ]
  },
  {
   "cell_type": "code",
   "execution_count": 57,
   "id": "4efd5ed4",
   "metadata": {},
   "outputs": [
    {
     "name": "stderr",
     "output_type": "stream",
     "text": [
      "C:\\Users\\Bhuvaneshvaran k\\anaconda3\\lib\\site-packages\\seaborn\\distributions.py:2619: FutureWarning: `distplot` is a deprecated function and will be removed in a future version. Please adapt your code to use either `displot` (a figure-level function with similar flexibility) or `histplot` (an axes-level function for histograms).\n",
      "  warnings.warn(msg, FutureWarning)\n"
     ]
    },
    {
     "data": {
      "text/plain": [
       "Text(0.5, 1.0, 'flouride')"
      ]
     },
     "execution_count": 57,
     "metadata": {},
     "output_type": "execute_result"
    },
    {
     "data": {
      "image/png": "[encoded data removed]",
      "text/plain": [
       "<Figure size 432x288 with 1 Axes>"
      ]
     },
     "metadata": {
      "needs_background": "light"
     },
     "output_type": "display_data"
    }
   ],
   "source": [
    "sns.distplot(df.flouride)\n",
    "plt.title('flouride')"
   ]
  },
  {
   "cell_type": "code",
   "execution_count": 58,
   "id": "7d0c167a",
   "metadata": {},
   "outputs": [
    {
     "name": "stderr",
     "output_type": "stream",
     "text": [
      "C:\\Users\\Bhuvaneshvaran k\\anaconda3\\lib\\site-packages\\seaborn\\_decorators.py:36: FutureWarning: Pass the following variable as a keyword arg: x. From version 0.12, the only valid positional argument will be `data`, and passing other arguments without an explicit keyword will result in an error or misinterpretation.\n",
      "  warnings.warn(\n"
     ]
    },
    {
     "data": {
      "text/plain": [
       "Text(0.5, 1.0, 'flouride')"
      ]
     },
     "execution_count": 58,
     "metadata": {},
     "output_type": "execute_result"
    },
    {
     "data": {
      "image/png": "[encoded data removed]",
      "text/plain": [
       "<Figure size 432x288 with 1 Axes>"
      ]
     },
     "metadata": {
      "needs_background": "light"
     },
     "output_type": "display_data"
    }
   ],
   "source": [
    "sns.boxplot(df.flouride)\n",
    "plt.title('flouride')"
   ]
  },
  {
   "cell_type": "code",
   "execution_count": 59,
   "id": "6fba8ead",
   "metadata": {},
   "outputs": [
    {
     "name": "stdout",
     "output_type": "stream",
     "text": [
      "              df      sum_sq  mean_sq      F   PR(>F)\n",
      "is_safe      1.0     0.06504  0.06504  0.343  0.55812\n",
      "Residual  7994.0  1515.73530  0.18961    NaN      NaN\n"
     ]
    }
   ],
   "source": [
    "annova=ols('flouride ~is_safe',data=df).fit()\n",
    "an=sm.stats.anova_lm(annova)\n",
    "print(an.round(decimals=5))"
   ]
  },
  {
   "cell_type": "code",
   "execution_count": 60,
   "id": "2268bd39",
   "metadata": {},
   "outputs": [],
   "source": [
    "df.drop(['flouride'],axis=1,inplace=True)"
   ]
  },
  {
   "cell_type": "code",
   "execution_count": 61,
   "id": "f352c8a5",
   "metadata": {},
   "outputs": [
    {
     "data": {
      "text/plain": [
       "0.00    2793\n",
       "0.13      84\n",
       "0.75      84\n",
       "0.89      83\n",
       "0.74      80\n",
       "        ... \n",
       "0.90      26\n",
       "0.12      25\n",
       "0.47      21\n",
       "0.81      21\n",
       "0.88      21\n",
       "Name: bacteria, Length: 101, dtype: int64"
      ]
     },
     "execution_count": 61,
     "metadata": {},
     "output_type": "execute_result"
    }
   ],
   "source": [
    "df.bacteria.value_counts()"
   ]
  },
  {
   "cell_type": "code",
   "execution_count": 62,
   "id": "18b65373",
   "metadata": {},
   "outputs": [
    {
     "name": "stderr",
     "output_type": "stream",
     "text": [
      "C:\\Users\\Bhuvaneshvaran k\\anaconda3\\lib\\site-packages\\seaborn\\distributions.py:2619: FutureWarning: `distplot` is a deprecated function and will be removed in a future version. Please adapt your code to use either `displot` (a figure-level function with similar flexibility) or `histplot` (an axes-level function for histograms).\n",
      "  warnings.warn(msg, FutureWarning)\n"
     ]
    },
    {
     "data": {
      "text/plain": [
       "Text(0.5, 1.0, 'bacteria')"
      ]
     },
     "execution_count": 62,
     "metadata": {},
     "output_type": "execute_result"
    },
    {
     "data": {
      "image/png": "[encoded data removed]",
      "text/plain": [
       "<Figure size 432x288 with 1 Axes>"
      ]
     },
     "metadata": {
      "needs_background": "light"
     },
     "output_type": "display_data"
    }
   ],
   "source": [
    "sns.distplot(df.bacteria)\n",
    "plt.title('bacteria')"
   ]
  },
  {
   "cell_type": "code",
   "execution_count": 63,
   "id": "ca8c3a1f",
   "metadata": {},
   "outputs": [
    {
     "name": "stderr",
     "output_type": "stream",
     "text": [
      "C:\\Users\\Bhuvaneshvaran k\\anaconda3\\lib\\site-packages\\seaborn\\_decorators.py:36: FutureWarning: Pass the following variable as a keyword arg: x. From version 0.12, the only valid positional argument will be `data`, and passing other arguments without an explicit keyword will result in an error or misinterpretation.\n",
      "  warnings.warn(\n"
     ]
    },
    {
     "data": {
      "text/plain": [
       "Text(0.5, 1.0, 'bacteria')"
      ]
     },
     "execution_count": 63,
     "metadata": {},
     "output_type": "execute_result"
    },
    {
     "data": {
      "image/png": "[encoded data removed]",
      "text/plain": [
       "<Figure size 432x288 with 1 Axes>"
      ]
     },
     "metadata": {
      "needs_background": "light"
     },
     "output_type": "display_data"
    }
   ],
   "source": [
    "sns.boxplot(df.bacteria)\n",
    "plt.title('bacteria')"
   ]
  },
  {
   "cell_type": "code",
   "execution_count": 64,
   "id": "619a9586",
   "metadata": {},
   "outputs": [
    {
     "name": "stdout",
     "output_type": "stream",
     "text": [
      "              df     sum_sq  mean_sq        F   PR(>F)\n",
      "is_safe      1.0    0.42307  0.42307  3.89828  0.04837\n",
      "Residual  7994.0  867.57817  0.10853      NaN      NaN\n"
     ]
    }
   ],
   "source": [
    "annova=ols('bacteria ~is_safe',data=df).fit()\n",
    "an=sm.stats.anova_lm(annova)\n",
    "print(an.round(decimals=5))"
   ]
  },
  {
   "cell_type": "code",
   "execution_count": 65,
   "id": "c701bbf9",
   "metadata": {},
   "outputs": [
    {
     "data": {
      "text/plain": [
       "0.000    1303\n",
       "0.001     453\n",
       "0.008     420\n",
       "0.002     408\n",
       "0.005     383\n",
       "         ... \n",
       "0.860      42\n",
       "0.710      41\n",
       "0.900      34\n",
       "0.810      25\n",
       "0.880      25\n",
       "Name: viruses, Length: 61, dtype: int64"
      ]
     },
     "execution_count": 65,
     "metadata": {},
     "output_type": "execute_result"
    }
   ],
   "source": [
    "df.viruses.value_counts()"
   ]
  },
  {
   "cell_type": "code",
   "execution_count": 66,
   "id": "0f396328",
   "metadata": {},
   "outputs": [
    {
     "name": "stderr",
     "output_type": "stream",
     "text": [
      "C:\\Users\\Bhuvaneshvaran k\\anaconda3\\lib\\site-packages\\seaborn\\distributions.py:2619: FutureWarning: `distplot` is a deprecated function and will be removed in a future version. Please adapt your code to use either `displot` (a figure-level function with similar flexibility) or `histplot` (an axes-level function for histograms).\n",
      "  warnings.warn(msg, FutureWarning)\n"
     ]
    },
    {
     "data": {
      "text/plain": [
       "Text(0.5, 1.0, 'viruses')"
      ]
     },
     "execution_count": 66,
     "metadata": {},
     "output_type": "execute_result"
    },
    {
     "data": {
      "image/png": "[encoded data removed]",
      "text/plain": [
       "<Figure size 432x288 with 1 Axes>"
      ]
     },
     "metadata": {
      "needs_background": "light"
     },
     "output_type": "display_data"
    }
   ],
   "source": [
    "sns.distplot(df.viruses)\n",
    "plt.title('viruses')"
   ]
  },
  {
   "cell_type": "code",
   "execution_count": 67,
   "id": "2616f179",
   "metadata": {},
   "outputs": [
    {
     "name": "stderr",
     "output_type": "stream",
     "text": [
      "C:\\Users\\Bhuvaneshvaran k\\anaconda3\\lib\\site-packages\\seaborn\\_decorators.py:36: FutureWarning: Pass the following variable as a keyword arg: x. From version 0.12, the only valid positional argument will be `data`, and passing other arguments without an explicit keyword will result in an error or misinterpretation.\n",
      "  warnings.warn(\n"
     ]
    },
    {
     "data": {
      "text/plain": [
       "Text(0.5, 1.0, 'viruses')"
      ]
     },
     "execution_count": 67,
     "metadata": {},
     "output_type": "execute_result"
    },
    {
     "data": {
      "image/png": "[encoded data removed]",
      "text/plain": [
       "<Figure size 432x288 with 1 Axes>"
      ]
     },
     "metadata": {
      "needs_background": "light"
     },
     "output_type": "display_data"
    }
   ],
   "source": [
    "sns.boxplot(df.viruses)\n",
    "plt.title('viruses')"
   ]
  },
  {
   "cell_type": "code",
   "execution_count": 68,
   "id": "8aabf752",
   "metadata": {},
   "outputs": [
    {
     "name": "stdout",
     "output_type": "stream",
     "text": [
      "              df      sum_sq   mean_sq         F  PR(>F)\n",
      "is_safe      1.0    10.76371  10.76371  75.99284     0.0\n",
      "Residual  7994.0  1132.27897   0.14164       NaN     NaN\n"
     ]
    }
   ],
   "source": [
    "annova=ols('viruses ~is_safe',data=df).fit()\n",
    "an=sm.stats.anova_lm(annova)\n",
    "print(an.round(decimals=5))"
   ]
  },
  {
   "cell_type": "code",
   "execution_count": 69,
   "id": "a8151985",
   "metadata": {},
   "outputs": [
    {
     "data": {
      "text/plain": [
       "0.001    280\n",
       "0.105     83\n",
       "0.100     82\n",
       "0.166     77\n",
       "0.093     77\n",
       "        ... \n",
       "0.186      8\n",
       "0.173      8\n",
       "0.171      8\n",
       "0.094      7\n",
       "0.000      1\n",
       "Name: lead, Length: 200, dtype: int64"
      ]
     },
     "execution_count": 69,
     "metadata": {},
     "output_type": "execute_result"
    }
   ],
   "source": [
    "df.lead.value_counts()"
   ]
  },
  {
   "cell_type": "code",
   "execution_count": 70,
   "id": "7af2ab5c",
   "metadata": {},
   "outputs": [
    {
     "name": "stderr",
     "output_type": "stream",
     "text": [
      "C:\\Users\\Bhuvaneshvaran k\\anaconda3\\lib\\site-packages\\seaborn\\distributions.py:2619: FutureWarning: `distplot` is a deprecated function and will be removed in a future version. Please adapt your code to use either `displot` (a figure-level function with similar flexibility) or `histplot` (an axes-level function for histograms).\n",
      "  warnings.warn(msg, FutureWarning)\n"
     ]
    },
    {
     "data": {
      "text/plain": [
       "Text(0.5, 1.0, 'lead')"
      ]
     },
     "execution_count": 70,
     "metadata": {},
     "output_type": "execute_result"
    },
    {
     "data": {
      "image/png": "[encoded data removed]",
      "text/plain": [
       "<Figure size 432x288 with 1 Axes>"
      ]
     },
     "metadata": {
      "needs_background": "light"
     },
     "output_type": "display_data"
    }
   ],
   "source": [
    "sns.distplot(df.lead)\n",
    "plt.title('lead')"
   ]
  },
  {
   "cell_type": "code",
   "execution_count": 71,
   "id": "4be148b4",
   "metadata": {},
   "outputs": [
    {
     "name": "stderr",
     "output_type": "stream",
     "text": [
      "C:\\Users\\Bhuvaneshvaran k\\anaconda3\\lib\\site-packages\\seaborn\\_decorators.py:36: FutureWarning: Pass the following variable as a keyword arg: x. From version 0.12, the only valid positional argument will be `data`, and passing other arguments without an explicit keyword will result in an error or misinterpretation.\n",
      "  warnings.warn(\n"
     ]
    },
    {
     "data": {
      "text/plain": [
       "Text(0.5, 1.0, 'lead')"
      ]
     },
     "execution_count": 71,
     "metadata": {},
     "output_type": "execute_result"
    },
    {
     "data": {
      "image/png": "[encoded data removed]",
      "text/plain": [
       "<Figure size 432x288 with 1 Axes>"
      ]
     },
     "metadata": {
      "needs_background": "light"
     },
     "output_type": "display_data"
    }
   ],
   "source": [
    "sns.boxplot(df.lead)\n",
    "plt.title('lead')"
   ]
  },
  {
   "cell_type": "code",
   "execution_count": 72,
   "id": "cd809ca4",
   "metadata": {},
   "outputs": [
    {
     "name": "stdout",
     "output_type": "stream",
     "text": [
      "              df    sum_sq  mean_sq        F   PR(>F)\n",
      "is_safe      1.0   0.00269  0.00269  0.79463  0.37273\n",
      "Residual  7994.0  27.04899  0.00338      NaN      NaN\n"
     ]
    }
   ],
   "source": [
    "annova=ols('lead ~is_safe',data=df).fit()\n",
    "an=sm.stats.anova_lm(annova)\n",
    "print(an.round(decimals=5))"
   ]
  },
  {
   "cell_type": "code",
   "execution_count": 73,
   "id": "4a77d075",
   "metadata": {},
   "outputs": [],
   "source": [
    "df.drop(['lead'],axis=1,inplace=True)"
   ]
  },
  {
   "cell_type": "code",
   "execution_count": 74,
   "id": "56a84358",
   "metadata": {},
   "outputs": [
    {
     "data": {
      "text/plain": [
       "8.32     20\n",
       "10.90    19\n",
       "14.66    18\n",
       "4.94     17\n",
       "11.36    16\n",
       "         ..\n",
       "12.99     1\n",
       "7.95      1\n",
       "14.18     1\n",
       "18.56     1\n",
       "0.00      1\n",
       "Name: nitrates, Length: 1803, dtype: int64"
      ]
     },
     "execution_count": 74,
     "metadata": {},
     "output_type": "execute_result"
    }
   ],
   "source": [
    "df.nitrates.value_counts()"
   ]
  },
  {
   "cell_type": "code",
   "execution_count": 75,
   "id": "67031a1d",
   "metadata": {},
   "outputs": [
    {
     "name": "stderr",
     "output_type": "stream",
     "text": [
      "C:\\Users\\Bhuvaneshvaran k\\anaconda3\\lib\\site-packages\\seaborn\\distributions.py:2619: FutureWarning: `distplot` is a deprecated function and will be removed in a future version. Please adapt your code to use either `displot` (a figure-level function with similar flexibility) or `histplot` (an axes-level function for histograms).\n",
      "  warnings.warn(msg, FutureWarning)\n"
     ]
    },
    {
     "data": {
      "text/plain": [
       "Text(0.5, 1.0, 'nitrates')"
      ]
     },
     "execution_count": 75,
     "metadata": {},
     "output_type": "execute_result"
    },
    {
     "data": {
      "image/png": "[encoded data removed]",
      "text/plain": [
       "<Figure size 432x288 with 1 Axes>"
      ]
     },
     "metadata": {
      "needs_background": "light"
     },
     "output_type": "display_data"
    }
   ],
   "source": [
    "sns.distplot(df.nitrates)\n",
    "plt.title('nitrates')"
   ]
  },
  {
   "cell_type": "code",
   "execution_count": 76,
   "id": "370b5579",
   "metadata": {},
   "outputs": [
    {
     "name": "stderr",
     "output_type": "stream",
     "text": [
      "C:\\Users\\Bhuvaneshvaran k\\anaconda3\\lib\\site-packages\\seaborn\\_decorators.py:36: FutureWarning: Pass the following variable as a keyword arg: x. From version 0.12, the only valid positional argument will be `data`, and passing other arguments without an explicit keyword will result in an error or misinterpretation.\n",
      "  warnings.warn(\n"
     ]
    },
    {
     "data": {
      "text/plain": [
       "Text(0.5, 1.0, 'nitrates')"
      ]
     },
     "execution_count": 76,
     "metadata": {},
     "output_type": "execute_result"
    },
    {
     "data": {
      "image/png": "[encoded data removed]",
      "text/plain": [
       "<Figure size 432x288 with 1 Axes>"
      ]
     },
     "metadata": {
      "needs_background": "light"
     },
     "output_type": "display_data"
    }
   ],
   "source": [
    "sns.boxplot(df.nitrates)\n",
    "plt.title('nitrates')"
   ]
  },
  {
   "cell_type": "code",
   "execution_count": 77,
   "id": "837a4d7f",
   "metadata": {},
   "outputs": [
    {
     "name": "stdout",
     "output_type": "stream",
     "text": [
      "              df        sum_sq     mean_sq         F  PR(>F)\n",
      "is_safe      1.0    1276.50923  1276.50923  41.77378     0.0\n",
      "Residual  7994.0  244277.95887    30.55766       NaN     NaN\n"
     ]
    }
   ],
   "source": [
    "annova=ols('nitrates ~is_safe',data=df).fit()\n",
    "an=sm.stats.anova_lm(annova)\n",
    "print(an.round(decimals=5))"
   ]
  },
  {
   "cell_type": "code",
   "execution_count": 78,
   "id": "5046aab9",
   "metadata": {},
   "outputs": [
    {
     "data": {
      "text/plain": [
       "1.20    89\n",
       "1.27    78\n",
       "1.36    78\n",
       "1.37    74\n",
       "1.95    74\n",
       "        ..\n",
       "2.83     1\n",
       "2.62     1\n",
       "2.92     1\n",
       "2.64     1\n",
       "2.93     1\n",
       "Name: nitrites, Length: 280, dtype: int64"
      ]
     },
     "execution_count": 78,
     "metadata": {},
     "output_type": "execute_result"
    }
   ],
   "source": [
    "df.nitrites.value_counts()"
   ]
  },
  {
   "cell_type": "code",
   "execution_count": 79,
   "id": "a5cd201b",
   "metadata": {},
   "outputs": [
    {
     "name": "stderr",
     "output_type": "stream",
     "text": [
      "C:\\Users\\Bhuvaneshvaran k\\anaconda3\\lib\\site-packages\\seaborn\\distributions.py:2619: FutureWarning: `distplot` is a deprecated function and will be removed in a future version. Please adapt your code to use either `displot` (a figure-level function with similar flexibility) or `histplot` (an axes-level function for histograms).\n",
      "  warnings.warn(msg, FutureWarning)\n"
     ]
    },
    {
     "data": {
      "text/plain": [
       "Text(0.5, 1.0, 'nitrites')"
      ]
     },
     "execution_count": 79,
     "metadata": {},
     "output_type": "execute_result"
    },
    {
     "data": {
      "image/png": "[encoded data removed]",
      "text/plain": [
       "<Figure size 432x288 with 1 Axes>"
      ]
     },
     "metadata": {
      "needs_background": "light"
     },
     "output_type": "display_data"
    }
   ],
   "source": [
    "sns.distplot(df.nitrites)\n",
    "plt.title('nitrites')"
   ]
  },
  {
   "cell_type": "code",
   "execution_count": 80,
   "id": "6b927626",
   "metadata": {},
   "outputs": [
    {
     "name": "stderr",
     "output_type": "stream",
     "text": [
      "C:\\Users\\Bhuvaneshvaran k\\anaconda3\\lib\\site-packages\\seaborn\\_decorators.py:36: FutureWarning: Pass the following variable as a keyword arg: x. From version 0.12, the only valid positional argument will be `data`, and passing other arguments without an explicit keyword will result in an error or misinterpretation.\n",
      "  warnings.warn(\n"
     ]
    },
    {
     "data": {
      "text/plain": [
       "Text(0.5, 1.0, 'nitrites')"
      ]
     },
     "execution_count": 80,
     "metadata": {},
     "output_type": "execute_result"
    },
    {
     "data": {
      "image/png": "[encoded data removed]",
      "text/plain": [
       "<Figure size 432x288 with 1 Axes>"
      ]
     },
     "metadata": {
      "needs_background": "light"
     },
     "output_type": "display_data"
    }
   ],
   "source": [
    "sns.boxplot(df.nitrites)\n",
    "plt.title('nitrites')"
   ]
  },
  {
   "cell_type": "code",
   "execution_count": 81,
   "id": "2f8d6135",
   "metadata": {},
   "outputs": [
    {
     "name": "stdout",
     "output_type": "stream",
     "text": [
      "              df      sum_sq  mean_sq         F   PR(>F)\n",
      "is_safe      1.0     5.80065  5.80065  17.68735  0.00003\n",
      "Residual  7994.0  2621.67166  0.32795       NaN      NaN\n"
     ]
    }
   ],
   "source": [
    "annova=ols('nitrites ~is_safe',data=df).fit()\n",
    "an=sm.stats.anova_lm(annova)\n",
    "print(an.round(decimals=5))"
   ]
  },
  {
   "cell_type": "code",
   "execution_count": 82,
   "id": "8d64d437",
   "metadata": {},
   "outputs": [
    {
     "data": {
      "text/plain": [
       "0.006    919\n",
       "0.008    863\n",
       "0.001    824\n",
       "0.009    815\n",
       "0.007    799\n",
       "0.005    736\n",
       "0.003    734\n",
       "0.002    720\n",
       "0.004    687\n",
       "0.010    528\n",
       "0.000    371\n",
       "Name: mercury, dtype: int64"
      ]
     },
     "execution_count": 82,
     "metadata": {},
     "output_type": "execute_result"
    }
   ],
   "source": [
    "df.mercury.value_counts()"
   ]
  },
  {
   "cell_type": "code",
   "execution_count": 83,
   "id": "dcd6b6b7",
   "metadata": {},
   "outputs": [
    {
     "name": "stderr",
     "output_type": "stream",
     "text": [
      "C:\\Users\\Bhuvaneshvaran k\\anaconda3\\lib\\site-packages\\seaborn\\distributions.py:2619: FutureWarning: `distplot` is a deprecated function and will be removed in a future version. Please adapt your code to use either `displot` (a figure-level function with similar flexibility) or `histplot` (an axes-level function for histograms).\n",
      "  warnings.warn(msg, FutureWarning)\n"
     ]
    },
    {
     "data": {
      "text/plain": [
       "Text(0.5, 1.0, 'mercury')"
      ]
     },
     "execution_count": 83,
     "metadata": {},
     "output_type": "execute_result"
    },
    {
     "data": {
      "image/png": "[encoded data removed]",
      "text/plain": [
       "<Figure size 432x288 with 1 Axes>"
      ]
     },
     "metadata": {
      "needs_background": "light"
     },
     "output_type": "display_data"
    }
   ],
   "source": [
    "sns.distplot(df.mercury)\n",
    "plt.title('mercury')"
   ]
  },
  {
   "cell_type": "code",
   "execution_count": 84,
   "id": "734e8289",
   "metadata": {},
   "outputs": [
    {
     "name": "stderr",
     "output_type": "stream",
     "text": [
      "C:\\Users\\Bhuvaneshvaran k\\anaconda3\\lib\\site-packages\\seaborn\\_decorators.py:36: FutureWarning: Pass the following variable as a keyword arg: x. From version 0.12, the only valid positional argument will be `data`, and passing other arguments without an explicit keyword will result in an error or misinterpretation.\n",
      "  warnings.warn(\n"
     ]
    },
    {
     "data": {
      "text/plain": [
       "Text(0.5, 1.0, 'mercury')"
      ]
     },
     "execution_count": 84,
     "metadata": {},
     "output_type": "execute_result"
    },
    {
     "data": {
      "image/png": "[encoded data removed]",
      "text/plain": [
       "<Figure size 432x288 with 1 Axes>"
      ]
     },
     "metadata": {
      "needs_background": "light"
     },
     "output_type": "display_data"
    }
   ],
   "source": [
    "sns.boxplot(df.mercury)\n",
    "plt.title('mercury')"
   ]
  },
  {
   "cell_type": "code",
   "execution_count": 85,
   "id": "c9c73548",
   "metadata": {},
   "outputs": [
    {
     "name": "stdout",
     "output_type": "stream",
     "text": [
      "              df   sum_sq  mean_sq         F   PR(>F)\n",
      "is_safe      1.0  0.00010  0.00010  10.85041  0.00099\n",
      "Residual  7994.0  0.07029  0.00001       NaN      NaN\n"
     ]
    }
   ],
   "source": [
    "annova=ols('mercury ~is_safe',data=df).fit()\n",
    "an=sm.stats.anova_lm(annova)\n",
    "print(an.round(decimals=5))"
   ]
  },
  {
   "cell_type": "code",
   "execution_count": 86,
   "id": "14cc29d0",
   "metadata": {},
   "outputs": [
    {
     "data": {
      "text/plain": [
       "0.05     28\n",
       "0.24     27\n",
       "0.18     26\n",
       "0.11     26\n",
       "0.30     25\n",
       "         ..\n",
       "46.51     1\n",
       "19.04     1\n",
       "53.52     1\n",
       "51.04     1\n",
       "8.44      1\n",
       "Name: perchlorate, Length: 2999, dtype: int64"
      ]
     },
     "execution_count": 86,
     "metadata": {},
     "output_type": "execute_result"
    }
   ],
   "source": [
    "df.perchlorate.value_counts()"
   ]
  },
  {
   "cell_type": "code",
   "execution_count": 87,
   "id": "46751f8d",
   "metadata": {},
   "outputs": [
    {
     "name": "stderr",
     "output_type": "stream",
     "text": [
      "C:\\Users\\Bhuvaneshvaran k\\anaconda3\\lib\\site-packages\\seaborn\\distributions.py:2619: FutureWarning: `distplot` is a deprecated function and will be removed in a future version. Please adapt your code to use either `displot` (a figure-level function with similar flexibility) or `histplot` (an axes-level function for histograms).\n",
      "  warnings.warn(msg, FutureWarning)\n"
     ]
    },
    {
     "data": {
      "text/plain": [
       "Text(0.5, 1.0, 'perchlorate')"
      ]
     },
     "execution_count": 87,
     "metadata": {},
     "output_type": "execute_result"
    },
    {
     "data": {
      "image/png": "[encoded data removed]",
      "text/plain": [
       "<Figure size 432x288 with 1 Axes>"
      ]
     },
     "metadata": {
      "needs_background": "light"
     },
     "output_type": "display_data"
    }
   ],
   "source": [
    "sns.distplot(df.perchlorate)\n",
    "plt.title('perchlorate')"
   ]
  },
  {
   "cell_type": "code",
   "execution_count": 88,
   "id": "95c6fb90",
   "metadata": {},
   "outputs": [
    {
     "name": "stderr",
     "output_type": "stream",
     "text": [
      "C:\\Users\\Bhuvaneshvaran k\\anaconda3\\lib\\site-packages\\seaborn\\_decorators.py:36: FutureWarning: Pass the following variable as a keyword arg: x. From version 0.12, the only valid positional argument will be `data`, and passing other arguments without an explicit keyword will result in an error or misinterpretation.\n",
      "  warnings.warn(\n"
     ]
    },
    {
     "data": {
      "text/plain": [
       "Text(0.5, 1.0, 'perchlorate')"
      ]
     },
     "execution_count": 88,
     "metadata": {},
     "output_type": "execute_result"
    },
    {
     "data": {
      "image/png": "[encoded data removed]",
      "text/plain": [
       "<Figure size 432x288 with 1 Axes>"
      ]
     },
     "metadata": {
      "needs_background": "light"
     },
     "output_type": "display_data"
    }
   ],
   "source": [
    "sns.boxplot(df.perchlorate)\n",
    "plt.title('perchlorate')"
   ]
  },
  {
   "cell_type": "code",
   "execution_count": 89,
   "id": "3ff0cb81",
   "metadata": {},
   "outputs": [
    {
     "name": "stdout",
     "output_type": "stream",
     "text": [
      "              df        sum_sq      mean_sq         F  PR(>F)\n",
      "is_safe      1.0  1.434878e+04  14348.78143  46.11698     0.0\n",
      "Residual  7994.0  2.487243e+06    311.13878       NaN     NaN\n"
     ]
    }
   ],
   "source": [
    "annova=ols('perchlorate ~is_safe',data=df).fit()\n",
    "an=sm.stats.anova_lm(annova)\n",
    "print(an.round(decimals=5))"
   ]
  },
  {
   "cell_type": "code",
   "execution_count": 90,
   "id": "6460e667",
   "metadata": {},
   "outputs": [
    {
     "data": {
      "text/plain": [
       "0.06    41\n",
       "0.25    37\n",
       "0.15    36\n",
       "0.53    35\n",
       "0.74    35\n",
       "        ..\n",
       "6.73     1\n",
       "4.46     1\n",
       "5.74     1\n",
       "3.98     1\n",
       "6.22     1\n",
       "Name: radium, Length: 735, dtype: int64"
      ]
     },
     "execution_count": 90,
     "metadata": {},
     "output_type": "execute_result"
    }
   ],
   "source": [
    "df.radium.value_counts()"
   ]
  },
  {
   "cell_type": "code",
   "execution_count": 91,
   "id": "a841dee5",
   "metadata": {},
   "outputs": [
    {
     "name": "stderr",
     "output_type": "stream",
     "text": [
      "C:\\Users\\Bhuvaneshvaran k\\anaconda3\\lib\\site-packages\\seaborn\\distributions.py:2619: FutureWarning: `distplot` is a deprecated function and will be removed in a future version. Please adapt your code to use either `displot` (a figure-level function with similar flexibility) or `histplot` (an axes-level function for histograms).\n",
      "  warnings.warn(msg, FutureWarning)\n"
     ]
    },
    {
     "data": {
      "text/plain": [
       "Text(0.5, 1.0, 'radium')"
      ]
     },
     "execution_count": 91,
     "metadata": {},
     "output_type": "execute_result"
    },
    {
     "data": {
      "image/png": "[encoded data removed]",
      "text/plain": [
       "<Figure size 432x288 with 1 Axes>"
      ]
     },
     "metadata": {
      "needs_background": "light"
     },
     "output_type": "display_data"
    }
   ],
   "source": [
    "sns.distplot(df.radium)\n",
    "plt.title('radium')"
   ]
  },
  {
   "cell_type": "code",
   "execution_count": 92,
   "id": "4702bc31",
   "metadata": {},
   "outputs": [
    {
     "name": "stderr",
     "output_type": "stream",
     "text": [
      "C:\\Users\\Bhuvaneshvaran k\\anaconda3\\lib\\site-packages\\seaborn\\_decorators.py:36: FutureWarning: Pass the following variable as a keyword arg: x. From version 0.12, the only valid positional argument will be `data`, and passing other arguments without an explicit keyword will result in an error or misinterpretation.\n",
      "  warnings.warn(\n"
     ]
    },
    {
     "data": {
      "text/plain": [
       "Text(0.5, 1.0, 'radium')"
      ]
     },
     "execution_count": 92,
     "metadata": {},
     "output_type": "execute_result"
    },
    {
     "data": {
      "image/png": "[encoded data removed]",
      "text/plain": [
       "<Figure size 432x288 with 1 Axes>"
      ]
     },
     "metadata": {
      "needs_background": "light"
     },
     "output_type": "display_data"
    }
   ],
   "source": [
    "sns.boxplot(df.radium)\n",
    "plt.title('radium')"
   ]
  },
  {
   "cell_type": "code",
   "execution_count": 93,
   "id": "8f90dd6d",
   "metadata": {},
   "outputs": [
    {
     "name": "stdout",
     "output_type": "stream",
     "text": [
      "              df       sum_sq    mean_sq         F  PR(>F)\n",
      "is_safe      1.0    180.81445  180.81445  33.64942     0.0\n",
      "Residual  7994.0  42955.59776    5.37348       NaN     NaN\n"
     ]
    }
   ],
   "source": [
    "annova=ols('radium ~is_safe',data=df).fit()\n",
    "an=sm.stats.anova_lm(annova)\n",
    "print(an.round(decimals=5))"
   ]
  },
  {
   "cell_type": "code",
   "execution_count": 94,
   "id": "c0e83b15",
   "metadata": {},
   "outputs": [
    {
     "data": {
      "text/plain": [
       "0.06    927\n",
       "0.05    871\n",
       "0.02    838\n",
       "0.07    823\n",
       "0.03    799\n",
       "0.09    760\n",
       "0.01    760\n",
       "0.04    736\n",
       "0.08    679\n",
       "0.00    403\n",
       "0.10    400\n",
       "Name: selenium, dtype: int64"
      ]
     },
     "execution_count": 94,
     "metadata": {},
     "output_type": "execute_result"
    }
   ],
   "source": [
    "df.selenium.value_counts()"
   ]
  },
  {
   "cell_type": "code",
   "execution_count": 95,
   "id": "ca18a7c9",
   "metadata": {},
   "outputs": [
    {
     "name": "stderr",
     "output_type": "stream",
     "text": [
      "C:\\Users\\Bhuvaneshvaran k\\anaconda3\\lib\\site-packages\\seaborn\\distributions.py:2619: FutureWarning: `distplot` is a deprecated function and will be removed in a future version. Please adapt your code to use either `displot` (a figure-level function with similar flexibility) or `histplot` (an axes-level function for histograms).\n",
      "  warnings.warn(msg, FutureWarning)\n"
     ]
    },
    {
     "data": {
      "text/plain": [
       "Text(0.5, 1.0, 'selenium')"
      ]
     },
     "execution_count": 95,
     "metadata": {},
     "output_type": "execute_result"
    },
    {
     "data": {
      "image/png": "[encoded data removed]",
      "text/plain": [
       "<Figure size 432x288 with 1 Axes>"
      ]
     },
     "metadata": {
      "needs_background": "light"
     },
     "output_type": "display_data"
    }
   ],
   "source": [
    "sns.distplot(df.selenium)\n",
    "plt.title('selenium')"
   ]
  },
  {
   "cell_type": "code",
   "execution_count": 96,
   "id": "dc6138a8",
   "metadata": {},
   "outputs": [
    {
     "name": "stderr",
     "output_type": "stream",
     "text": [
      "C:\\Users\\Bhuvaneshvaran k\\anaconda3\\lib\\site-packages\\seaborn\\_decorators.py:36: FutureWarning: Pass the following variable as a keyword arg: x. From version 0.12, the only valid positional argument will be `data`, and passing other arguments without an explicit keyword will result in an error or misinterpretation.\n",
      "  warnings.warn(\n"
     ]
    },
    {
     "data": {
      "text/plain": [
       "Text(0.5, 1.0, 'selenium')"
      ]
     },
     "execution_count": 96,
     "metadata": {},
     "output_type": "execute_result"
    },
    {
     "data": {
      "image/png": "[encoded data removed]",
      "text/plain": [
       "<Figure size 432x288 with 1 Axes>"
      ]
     },
     "metadata": {
      "needs_background": "light"
     },
     "output_type": "display_data"
    }
   ],
   "source": [
    "sns.boxplot(df.selenium)\n",
    "plt.title('selenium')"
   ]
  },
  {
   "cell_type": "code",
   "execution_count": 97,
   "id": "1feacdb9",
   "metadata": {},
   "outputs": [
    {
     "name": "stdout",
     "output_type": "stream",
     "text": [
      "              df   sum_sq  mean_sq        F   PR(>F)\n",
      "is_safe      1.0  0.00633  0.00633  7.65154  0.00569\n",
      "Residual  7994.0  6.61277  0.00083      NaN      NaN\n"
     ]
    }
   ],
   "source": [
    "annova=ols('selenium ~is_safe',data=df).fit()\n",
    "an=sm.stats.anova_lm(annova)\n",
    "print(an.round(decimals=5))"
   ]
  },
  {
   "cell_type": "code",
   "execution_count": 98,
   "id": "d040885d",
   "metadata": {},
   "outputs": [
    {
     "data": {
      "text/plain": [
       "0.04    503\n",
       "0.03    501\n",
       "0.06    499\n",
       "0.01    498\n",
       "0.05    485\n",
       "0.09    482\n",
       "0.07    472\n",
       "0.02    457\n",
       "0.08    454\n",
       "0.10    248\n",
       "0.00    246\n",
       "0.42    124\n",
       "0.12    120\n",
       "0.18    112\n",
       "0.21    100\n",
       "0.20     96\n",
       "0.27     96\n",
       "0.11     96\n",
       "0.24     96\n",
       "0.33     92\n",
       "0.13     92\n",
       "0.37     92\n",
       "0.49     88\n",
       "0.16     84\n",
       "0.45     84\n",
       "0.35     84\n",
       "0.41     80\n",
       "0.44     80\n",
       "0.40     80\n",
       "0.28     76\n",
       "0.15     76\n",
       "0.23     76\n",
       "0.17     76\n",
       "0.31     76\n",
       "0.48     76\n",
       "0.47     76\n",
       "0.38     72\n",
       "0.36     72\n",
       "0.26     72\n",
       "0.34     71\n",
       "0.39     68\n",
       "0.19     68\n",
       "0.32     64\n",
       "0.29     64\n",
       "0.46     64\n",
       "0.22     60\n",
       "0.25     60\n",
       "0.30     56\n",
       "0.43     52\n",
       "0.14     44\n",
       "0.50     36\n",
       "Name: silver, dtype: int64"
      ]
     },
     "execution_count": 98,
     "metadata": {},
     "output_type": "execute_result"
    }
   ],
   "source": [
    "df.silver.value_counts()"
   ]
  },
  {
   "cell_type": "code",
   "execution_count": 99,
   "id": "d31136f2",
   "metadata": {},
   "outputs": [
    {
     "name": "stderr",
     "output_type": "stream",
     "text": [
      "C:\\Users\\Bhuvaneshvaran k\\anaconda3\\lib\\site-packages\\seaborn\\distributions.py:2619: FutureWarning: `distplot` is a deprecated function and will be removed in a future version. Please adapt your code to use either `displot` (a figure-level function with similar flexibility) or `histplot` (an axes-level function for histograms).\n",
      "  warnings.warn(msg, FutureWarning)\n"
     ]
    },
    {
     "data": {
      "text/plain": [
       "Text(0.5, 1.0, 'silver')"
      ]
     },
     "execution_count": 99,
     "metadata": {},
     "output_type": "execute_result"
    },
    {
     "data": {
      "image/png": "[encoded data removed]",
      "text/plain": [
       "<Figure size 432x288 with 1 Axes>"
      ]
     },
     "metadata": {
      "needs_background": "light"
     },
     "output_type": "display_data"
    }
   ],
   "source": [
    "sns.distplot(df.silver)\n",
    "plt.title('silver')"
   ]
  },
  {
   "cell_type": "code",
   "execution_count": 100,
   "id": "3d14a961",
   "metadata": {},
   "outputs": [
    {
     "name": "stderr",
     "output_type": "stream",
     "text": [
      "C:\\Users\\Bhuvaneshvaran k\\anaconda3\\lib\\site-packages\\seaborn\\_decorators.py:36: FutureWarning: Pass the following variable as a keyword arg: x. From version 0.12, the only valid positional argument will be `data`, and passing other arguments without an explicit keyword will result in an error or misinterpretation.\n",
      "  warnings.warn(\n"
     ]
    },
    {
     "data": {
      "text/plain": [
       "Text(0.5, 1.0, 'silver')"
      ]
     },
     "execution_count": 100,
     "metadata": {},
     "output_type": "execute_result"
    },
    {
     "data": {
      "image/png": "[encoded data removed]",
      "text/plain": [
       "<Figure size 432x288 with 1 Axes>"
      ]
     },
     "metadata": {
      "needs_background": "light"
     },
     "output_type": "display_data"
    }
   ],
   "source": [
    "sns.boxplot(df.silver)\n",
    "plt.title('silver')"
   ]
  },
  {
   "cell_type": "code",
   "execution_count": 101,
   "id": "f8d426bd",
   "metadata": {},
   "outputs": [
    {
     "name": "stdout",
     "output_type": "stream",
     "text": [
      "              df     sum_sq  mean_sq         F  PR(>F)\n",
      "is_safe      1.0    1.74194  1.74194  85.40312     0.0\n",
      "Residual  7994.0  163.05076  0.02040       NaN     NaN\n"
     ]
    }
   ],
   "source": [
    "annova=ols('silver ~is_safe',data=df).fit()\n",
    "an=sm.stats.anova_lm(annova)\n",
    "print(an.round(decimals=5))"
   ]
  },
  {
   "cell_type": "code",
   "execution_count": 102,
   "id": "4ef27af5",
   "metadata": {},
   "outputs": [
    {
     "data": {
      "text/plain": [
       "0.02    967\n",
       "0.05    928\n",
       "0.08    928\n",
       "0.06    920\n",
       "0.07    839\n",
       "0.04    815\n",
       "0.01    814\n",
       "0.03    744\n",
       "0.00    594\n",
       "0.09    447\n",
       "Name: uranium, dtype: int64"
      ]
     },
     "execution_count": 102,
     "metadata": {},
     "output_type": "execute_result"
    }
   ],
   "source": [
    "df.uranium.value_counts()"
   ]
  },
  {
   "cell_type": "code",
   "execution_count": 103,
   "id": "3ddfafd2",
   "metadata": {},
   "outputs": [
    {
     "name": "stderr",
     "output_type": "stream",
     "text": [
      "C:\\Users\\Bhuvaneshvaran k\\anaconda3\\lib\\site-packages\\seaborn\\distributions.py:2619: FutureWarning: `distplot` is a deprecated function and will be removed in a future version. Please adapt your code to use either `displot` (a figure-level function with similar flexibility) or `histplot` (an axes-level function for histograms).\n",
      "  warnings.warn(msg, FutureWarning)\n"
     ]
    },
    {
     "data": {
      "text/plain": [
       "Text(0.5, 1.0, 'uranium')"
      ]
     },
     "execution_count": 103,
     "metadata": {},
     "output_type": "execute_result"
    },
    {
     "data": {
      "image/png": "[encoded data removed]",
      "text/plain": [
       "<Figure size 432x288 with 1 Axes>"
      ]
     },
     "metadata": {
      "needs_background": "light"
     },
     "output_type": "display_data"
    }
   ],
   "source": [
    "sns.distplot(df.uranium)\n",
    "plt.title('uranium')"
   ]
  },
  {
   "cell_type": "code",
   "execution_count": 104,
   "id": "62ca5a37",
   "metadata": {},
   "outputs": [
    {
     "name": "stderr",
     "output_type": "stream",
     "text": [
      "C:\\Users\\Bhuvaneshvaran k\\anaconda3\\lib\\site-packages\\seaborn\\_decorators.py:36: FutureWarning: Pass the following variable as a keyword arg: x. From version 0.12, the only valid positional argument will be `data`, and passing other arguments without an explicit keyword will result in an error or misinterpretation.\n",
      "  warnings.warn(\n"
     ]
    },
    {
     "data": {
      "text/plain": [
       "Text(0.5, 1.0, 'uranium')"
      ]
     },
     "execution_count": 104,
     "metadata": {},
     "output_type": "execute_result"
    },
    {
     "data": {
      "image/png": "[encoded data removed]",
      "text/plain": [
       "<Figure size 432x288 with 1 Axes>"
      ]
     },
     "metadata": {
      "needs_background": "light"
     },
     "output_type": "display_data"
    }
   ],
   "source": [
    "sns.boxplot(df.uranium)\n",
    "plt.title('uranium')"
   ]
  },
  {
   "cell_type": "code",
   "execution_count": 105,
   "id": "12f755b6",
   "metadata": {},
   "outputs": [
    {
     "name": "stdout",
     "output_type": "stream",
     "text": [
      "              df   sum_sq  mean_sq        F  PR(>F)\n",
      "is_safe      1.0  0.03310  0.03310  45.9743     0.0\n",
      "Residual  7994.0  5.75475  0.00072      NaN     NaN\n"
     ]
    }
   ],
   "source": [
    "annova=ols('uranium ~is_safe',data=df).fit()\n",
    "an=sm.stats.anova_lm(annova)\n",
    "print(an.round(decimals=5))"
   ]
  },
  {
   "cell_type": "code",
   "execution_count": 106,
   "id": "629b16d9",
   "metadata": {},
   "outputs": [
    {
     "data": {
      "text/plain": [
       "0    7084\n",
       "1     912\n",
       "Name: is_safe, dtype: int64"
      ]
     },
     "execution_count": 106,
     "metadata": {},
     "output_type": "execute_result"
    }
   ],
   "source": [
    "df.is_safe.value_counts()"
   ]
  },
  {
   "cell_type": "code",
   "execution_count": 107,
   "id": "df6a9fa7",
   "metadata": {},
   "outputs": [
    {
     "name": "stdout",
     "output_type": "stream",
     "text": [
      "<class 'pandas.core.frame.DataFrame'>\n",
      "Int64Index: 7996 entries, 0 to 7998\n",
      "Data columns (total 19 columns):\n",
      " #   Column       Non-Null Count  Dtype  \n",
      "---  ------       --------------  -----  \n",
      " 0   aluminium    7996 non-null   float64\n",
      " 1   ammonia      7996 non-null   object \n",
      " 2   arsenic      7996 non-null   float64\n",
      " 3   barium       7996 non-null   float64\n",
      " 4   cadmium      7996 non-null   float64\n",
      " 5   chloramine   7996 non-null   float64\n",
      " 6   chromium     7996 non-null   float64\n",
      " 7   copper       7996 non-null   float64\n",
      " 8   bacteria     7996 non-null   float64\n",
      " 9   viruses      7996 non-null   float64\n",
      " 10  nitrates     7996 non-null   float64\n",
      " 11  nitrites     7996 non-null   float64\n",
      " 12  mercury      7996 non-null   float64\n",
      " 13  perchlorate  7996 non-null   float64\n",
      " 14  radium       7996 non-null   float64\n",
      " 15  selenium     7996 non-null   float64\n",
      " 16  silver       7996 non-null   float64\n",
      " 17  uranium      7996 non-null   float64\n",
      " 18  is_safe      7996 non-null   object \n",
      "dtypes: float64(17), object(2)\n",
      "memory usage: 1.2+ MB\n"
     ]
    }
   ],
   "source": [
    "df.info()"
   ]
  },
  {
   "cell_type": "code",
   "execution_count": 108,
   "id": "ae1d6179",
   "metadata": {},
   "outputs": [],
   "source": [
    "df['is_safe']=df['is_safe'].astype(int)"
   ]
  },
  {
   "cell_type": "code",
   "execution_count": 109,
   "id": "85a4a2a0",
   "metadata": {},
   "outputs": [
    {
     "name": "stdout",
     "output_type": "stream",
     "text": [
      "<class 'pandas.core.frame.DataFrame'>\n",
      "Int64Index: 7996 entries, 0 to 7998\n",
      "Data columns (total 19 columns):\n",
      " #   Column       Non-Null Count  Dtype  \n",
      "---  ------       --------------  -----  \n",
      " 0   aluminium    7996 non-null   float64\n",
      " 1   ammonia      7996 non-null   object \n",
      " 2   arsenic      7996 non-null   float64\n",
      " 3   barium       7996 non-null   float64\n",
      " 4   cadmium      7996 non-null   float64\n",
      " 5   chloramine   7996 non-null   float64\n",
      " 6   chromium     7996 non-null   float64\n",
      " 7   copper       7996 non-null   float64\n",
      " 8   bacteria     7996 non-null   float64\n",
      " 9   viruses      7996 non-null   float64\n",
      " 10  nitrates     7996 non-null   float64\n",
      " 11  nitrites     7996 non-null   float64\n",
      " 12  mercury      7996 non-null   float64\n",
      " 13  perchlorate  7996 non-null   float64\n",
      " 14  radium       7996 non-null   float64\n",
      " 15  selenium     7996 non-null   float64\n",
      " 16  silver       7996 non-null   float64\n",
      " 17  uranium      7996 non-null   float64\n",
      " 18  is_safe      7996 non-null   int32  \n",
      "dtypes: float64(17), int32(1), object(1)\n",
      "memory usage: 1.2+ MB\n"
     ]
    }
   ],
   "source": [
    "df.info()"
   ]
  },
  {
   "cell_type": "code",
   "execution_count": 110,
   "id": "7b049101",
   "metadata": {},
   "outputs": [
    {
     "data": {
      "image/png": "[encoded data removed]",
      "text/plain": [
       "<Figure size 1440x576 with 2 Axes>"
      ]
     },
     "metadata": {
      "needs_background": "light"
     },
     "output_type": "display_data"
    }
   ],
   "source": [
    "plt.figure(figsize=(20,8))\n",
    "sns.heatmap(df.corr(),cmap='cividis',annot=True)\n",
    "plt.tight_layout()"
   ]
  },
  {
   "cell_type": "code",
   "execution_count": 111,
   "id": "4df709f3",
   "metadata": {},
   "outputs": [],
   "source": [
    "x=df.iloc[:,[0,2,3,4,5,6,7,8,9,10,11,12,13,14,15,16,17]]\n",
    "#x=df.iloc[:,[:-1]]"
   ]
  },
  {
   "cell_type": "code",
   "execution_count": 112,
   "id": "61a0144b",
   "metadata": {},
   "outputs": [],
   "source": [
    "from statsmodels.stats.outliers_influence import variance_inflation_factor\n",
    "vif_data=pd.DataFrame()\n",
    "vif_data['feature']=x.columns"
   ]
  },
  {
   "cell_type": "code",
   "execution_count": 113,
   "id": "50b9e2e9",
   "metadata": {},
   "outputs": [],
   "source": [
    "vif_data['VIF']=[variance_inflation_factor(x.values,i) for i in range(len(x.columns))]\n"
   ]
  },
  {
   "cell_type": "code",
   "execution_count": 114,
   "id": "a86b924f",
   "metadata": {},
   "outputs": [
    {
     "name": "stdout",
     "output_type": "stream",
     "text": [
      "        feature       VIF\n",
      "0     aluminium  2.654909\n",
      "1       arsenic  3.829713\n",
      "2        barium  3.962613\n",
      "3       cadmium  3.243374\n",
      "4    chloramine  3.514319\n",
      "5      chromium  3.270963\n",
      "6        copper  2.680142\n",
      "7      bacteria  4.078452\n",
      "8       viruses  3.115750\n",
      "9      nitrates  3.611399\n",
      "10     nitrites  8.187447\n",
      "11      mercury  3.591854\n",
      "12  perchlorate  3.555082\n",
      "13       radium  3.255096\n",
      "14     selenium  3.574176\n",
      "15       silver  3.534637\n",
      "16      uranium  3.356238\n"
     ]
    }
   ],
   "source": [
    "print(vif_data)"
   ]
  },
  {
   "cell_type": "code",
   "execution_count": null,
   "id": "d5307a05",
   "metadata": {},
   "outputs": [],
   "source": []
  },
  {
   "cell_type": "markdown",
   "id": "8741742f",
   "metadata": {},
   "source": [
    "# MODELS"
   ]
  },
  {
   "cell_type": "markdown",
   "id": "dad54e85",
   "metadata": {},
   "source": [
    "# SPLIITING THE MODELS"
   ]
  },
  {
   "cell_type": "code",
   "execution_count": 115,
   "id": "006430fc",
   "metadata": {},
   "outputs": [],
   "source": [
    "x=df.loc[:,df.columns!='is_safe']\n",
    "y=df.loc[:,df.columns=='is_safe']"
   ]
  },
  {
   "cell_type": "code",
   "execution_count": 116,
   "id": "fc8508cc",
   "metadata": {},
   "outputs": [
    {
     "data": {
      "text/html": [
       "<div>\n",
       "<style scoped>\n",
       "    .dataframe tbody tr th:only-of-type {\n",
       "        vertical-align: middle;\n",
       "    }\n",
       "\n",
       "    .dataframe tbody tr th {\n",
       "        vertical-align: top;\n",
       "    }\n",
       "\n",
       "    .dataframe thead th {\n",
       "        text-align: right;\n",
       "    }\n",
       "</style>\n",
       "<table border=\"1\" class=\"dataframe\">\n",
       "  <thead>\n",
       "    <tr style=\"text-align: right;\">\n",
       "      <th></th>\n",
       "      <th>is_safe</th>\n",
       "    </tr>\n",
       "  </thead>\n",
       "  <tbody>\n",
       "    <tr>\n",
       "      <th>0</th>\n",
       "      <td>1</td>\n",
       "    </tr>\n",
       "    <tr>\n",
       "      <th>1</th>\n",
       "      <td>1</td>\n",
       "    </tr>\n",
       "    <tr>\n",
       "      <th>2</th>\n",
       "      <td>0</td>\n",
       "    </tr>\n",
       "    <tr>\n",
       "      <th>3</th>\n",
       "      <td>1</td>\n",
       "    </tr>\n",
       "    <tr>\n",
       "      <th>4</th>\n",
       "      <td>1</td>\n",
       "    </tr>\n",
       "    <tr>\n",
       "      <th>...</th>\n",
       "      <td>...</td>\n",
       "    </tr>\n",
       "    <tr>\n",
       "      <th>7994</th>\n",
       "      <td>1</td>\n",
       "    </tr>\n",
       "    <tr>\n",
       "      <th>7995</th>\n",
       "      <td>1</td>\n",
       "    </tr>\n",
       "    <tr>\n",
       "      <th>7996</th>\n",
       "      <td>1</td>\n",
       "    </tr>\n",
       "    <tr>\n",
       "      <th>7997</th>\n",
       "      <td>1</td>\n",
       "    </tr>\n",
       "    <tr>\n",
       "      <th>7998</th>\n",
       "      <td>1</td>\n",
       "    </tr>\n",
       "  </tbody>\n",
       "</table>\n",
       "<p>7996 rows × 1 columns</p>\n",
       "</div>"
      ],
      "text/plain": [
       "      is_safe\n",
       "0           1\n",
       "1           1\n",
       "2           0\n",
       "3           1\n",
       "4           1\n",
       "...       ...\n",
       "7994        1\n",
       "7995        1\n",
       "7996        1\n",
       "7997        1\n",
       "7998        1\n",
       "\n",
       "[7996 rows x 1 columns]"
      ]
     },
     "execution_count": 116,
     "metadata": {},
     "output_type": "execute_result"
    }
   ],
   "source": [
    "y"
   ]
  },
  {
   "cell_type": "code",
   "execution_count": 117,
   "id": "75f676de",
   "metadata": {},
   "outputs": [],
   "source": [
    "from sklearn.model_selection import train_test_split"
   ]
  },
  {
   "cell_type": "code",
   "execution_count": 118,
   "id": "d4fd0e6b",
   "metadata": {},
   "outputs": [],
   "source": [
    "x_train,x_test,y_train,y_test=train_test_split(x,y,test_size=0.20,random_state=44)"
   ]
  },
  {
   "cell_type": "code",
   "execution_count": 119,
   "id": "bc5658a4",
   "metadata": {},
   "outputs": [],
   "source": [
    "from sklearn.linear_model import LogisticRegression"
   ]
  },
  {
   "cell_type": "code",
   "execution_count": 120,
   "id": "5dc94d1b",
   "metadata": {},
   "outputs": [
    {
     "name": "stderr",
     "output_type": "stream",
     "text": [
      "C:\\Users\\Bhuvaneshvaran k\\anaconda3\\lib\\site-packages\\sklearn\\utils\\validation.py:993: DataConversionWarning: A column-vector y was passed when a 1d array was expected. Please change the shape of y to (n_samples, ), for example using ravel().\n",
      "  y = column_or_1d(y, warn=True)\n"
     ]
    },
    {
     "data": {
      "text/plain": [
       "array([[ 6.06602319, -0.02853976, -8.36912372,  0.03157977, -4.90569541,\n",
       "         0.1297039 ,  0.8292496 , -0.45069674,  1.18970975, -1.46866658,\n",
       "        -0.05279184, -0.47850365, -0.1259702 , -0.03282169, -0.07814189,\n",
       "        -1.32335073, -1.60588307, -2.89205647]])"
      ]
     },
     "execution_count": 120,
     "metadata": {},
     "output_type": "execute_result"
    }
   ],
   "source": [
    "log=LogisticRegression(solver='liblinear',random_state=0)\n",
    "log.fit(x_train,y_train)\n",
    "log.intercept_\n",
    "log.coef_"
   ]
  },
  {
   "cell_type": "code",
   "execution_count": 121,
   "id": "56dbb178",
   "metadata": {},
   "outputs": [
    {
     "name": "stdout",
     "output_type": "stream",
     "text": [
      "1600\n"
     ]
    }
   ],
   "source": [
    "# predictions\n",
    "y_pred=log.predict(x_test)\n",
    "print(len(y_pred))"
   ]
  },
  {
   "cell_type": "markdown",
   "id": "5890ab3d",
   "metadata": {},
   "source": [
    "# confusion matrix"
   ]
  },
  {
   "cell_type": "code",
   "execution_count": 122,
   "id": "e797d926",
   "metadata": {},
   "outputs": [
    {
     "name": "stdout",
     "output_type": "stream",
     "text": [
      "[[1423   13]\n",
      " [  85   79]]\n"
     ]
    }
   ],
   "source": [
    "from sklearn import metrics\n",
    "cm=metrics.confusion_matrix(y_test,y_pred)\n",
    "print(cm)"
   ]
  },
  {
   "cell_type": "markdown",
   "id": "830146a5",
   "metadata": {},
   "source": [
    "# accuracy score"
   ]
  },
  {
   "cell_type": "code",
   "execution_count": 123,
   "id": "d9e79219",
   "metadata": {},
   "outputs": [
    {
     "data": {
      "text/plain": [
       "0.93875"
      ]
     },
     "execution_count": 123,
     "metadata": {},
     "output_type": "execute_result"
    }
   ],
   "source": [
    "from sklearn.metrics import accuracy_score\n",
    "accuracy_score(y_test,y_pred)"
   ]
  },
  {
   "cell_type": "markdown",
   "id": "0855c811",
   "metadata": {},
   "source": [
    "# classification report"
   ]
  },
  {
   "cell_type": "code",
   "execution_count": 124,
   "id": "42429763",
   "metadata": {},
   "outputs": [],
   "source": [
    "from sklearn.metrics import classification_report"
   ]
  },
  {
   "cell_type": "code",
   "execution_count": 125,
   "id": "d39414a6",
   "metadata": {},
   "outputs": [
    {
     "name": "stdout",
     "output_type": "stream",
     "text": [
      "              precision    recall  f1-score   support\n",
      "\n",
      "           0       0.94      0.99      0.97      1436\n",
      "           1       0.86      0.48      0.62       164\n",
      "\n",
      "    accuracy                           0.94      1600\n",
      "   macro avg       0.90      0.74      0.79      1600\n",
      "weighted avg       0.93      0.94      0.93      1600\n",
      "\n"
     ]
    }
   ],
   "source": [
    "print(classification_report(y_test,y_pred))"
   ]
  },
  {
   "cell_type": "markdown",
   "id": "5290be8f",
   "metadata": {},
   "source": [
    "# ROC curve and AUC curve"
   ]
  },
  {
   "cell_type": "code",
   "execution_count": 126,
   "id": "7a1e3999",
   "metadata": {},
   "outputs": [],
   "source": [
    "from sklearn.metrics import roc_curve,auc,roc_auc_score"
   ]
  },
  {
   "cell_type": "code",
   "execution_count": 127,
   "id": "ef4790bf",
   "metadata": {},
   "outputs": [
    {
     "name": "stdout",
     "output_type": "stream",
     "text": [
      "0.8793368983228822\n"
     ]
    }
   ],
   "source": [
    "y_pred_prob=log.predict_proba(x)\n",
    "fpr,tpr,thresholds=roc_curve(df['is_safe'],y_pred_prob[:,1])\n",
    "roc_auc=auc(fpr,tpr)\n",
    "print(roc_auc)"
   ]
  },
  {
   "cell_type": "code",
   "execution_count": 128,
   "id": "9a2581cb",
   "metadata": {},
   "outputs": [
    {
     "data": {
      "image/png": "[encoded data removed]",
      "text/plain": [
       "<Figure size 432x288 with 1 Axes>"
      ]
     },
     "metadata": {
      "needs_background": "light"
     },
     "output_type": "display_data"
    }
   ],
   "source": [
    "# roc curve\n",
    "plt.title('roc curve for logreg:liblinear')\n",
    "plt.xlabel('false positive rate')\n",
    "plt.ylabel('true positive rate')\n",
    "plt.plot([0,1],[0,1],'r--')\n",
    "plt.xlim([0,1])\n",
    "plt.ylim([0,1])\n",
    "plt.plot(fpr,tpr,label='AUC='+str(roc_auc))\n",
    "plt.legend(loc=4)\n",
    "plt.show()"
   ]
  },
  {
   "cell_type": "markdown",
   "id": "63e6b358",
   "metadata": {},
   "source": [
    "# SMOTE"
   ]
  },
  {
   "cell_type": "code",
   "execution_count": 129,
   "id": "27b9d7ce",
   "metadata": {},
   "outputs": [
    {
     "data": {
      "text/plain": [
       "0    7084\n",
       "1     912\n",
       "Name: is_safe, dtype: int64"
      ]
     },
     "execution_count": 129,
     "metadata": {},
     "output_type": "execute_result"
    }
   ],
   "source": [
    "df.is_safe.value_counts()"
   ]
  },
  {
   "cell_type": "code",
   "execution_count": 130,
   "id": "d996ed7e",
   "metadata": {},
   "outputs": [],
   "source": [
    "nosafe=df[df.is_safe==0]\n",
    "safe=df[df.is_safe==1]"
   ]
  },
  {
   "cell_type": "code",
   "execution_count": 131,
   "id": "747fbfbd",
   "metadata": {},
   "outputs": [],
   "source": [
    "from sklearn.utils import resample"
   ]
  },
  {
   "cell_type": "code",
   "execution_count": 132,
   "id": "e0c077d7",
   "metadata": {},
   "outputs": [],
   "source": [
    "safe_oversample=resample(safe,\n",
    "                        replace=True,\n",
    "                        n_samples=len(nosafe),\n",
    "                        random_state=27)"
   ]
  },
  {
   "cell_type": "code",
   "execution_count": 133,
   "id": "15143bc7",
   "metadata": {},
   "outputs": [
    {
     "data": {
      "text/plain": [
       "0    7084\n",
       "1    7084\n",
       "Name: is_safe, dtype: int64"
      ]
     },
     "execution_count": 133,
     "metadata": {},
     "output_type": "execute_result"
    }
   ],
   "source": [
    "#combine majority and oversampled minority\n",
    "df=pd.concat([nosafe,safe_oversample])\n",
    "df.is_safe.value_counts()"
   ]
  },
  {
   "cell_type": "code",
   "execution_count": 134,
   "id": "938bab95",
   "metadata": {},
   "outputs": [],
   "source": [
    "x=df.loc[:,df.columns!='is_safe']\n",
    "y=df.loc[:,df.columns=='is_safe']"
   ]
  },
  {
   "cell_type": "code",
   "execution_count": 135,
   "id": "72f425be",
   "metadata": {},
   "outputs": [],
   "source": [
    "from sklearn.linear_model import LogisticRegression"
   ]
  },
  {
   "cell_type": "code",
   "execution_count": 136,
   "id": "9044a619",
   "metadata": {},
   "outputs": [
    {
     "name": "stderr",
     "output_type": "stream",
     "text": [
      "C:\\Users\\Bhuvaneshvaran k\\anaconda3\\lib\\site-packages\\sklearn\\utils\\validation.py:993: DataConversionWarning: A column-vector y was passed when a 1d array was expected. Please change the shape of y to (n_samples, ), for example using ravel().\n",
      "  y = column_or_1d(y, warn=True)\n"
     ]
    },
    {
     "data": {
      "text/plain": [
       "array([[ 6.06602319, -0.02853976, -8.36912372,  0.03157977, -4.90569541,\n",
       "         0.1297039 ,  0.8292496 , -0.45069674,  1.18970975, -1.46866658,\n",
       "        -0.05279184, -0.47850365, -0.1259702 , -0.03282169, -0.07814189,\n",
       "        -1.32335073, -1.60588307, -2.89205647]])"
      ]
     },
     "execution_count": 136,
     "metadata": {},
     "output_type": "execute_result"
    }
   ],
   "source": [
    "log1=LogisticRegression(solver='liblinear',random_state=0)\n",
    "log1.fit(x_train,y_train)\n",
    "log1.intercept_\n",
    "log1.coef_"
   ]
  },
  {
   "cell_type": "code",
   "execution_count": 137,
   "id": "c202791d",
   "metadata": {},
   "outputs": [
    {
     "data": {
      "text/plain": [
       "1600"
      ]
     },
     "execution_count": 137,
     "metadata": {},
     "output_type": "execute_result"
    }
   ],
   "source": [
    "# predictions\n",
    "y_pred2=log1.predict(x_test)\n",
    "len(y_pred2)"
   ]
  },
  {
   "cell_type": "code",
   "execution_count": 138,
   "id": "e58f3267",
   "metadata": {},
   "outputs": [
    {
     "name": "stdout",
     "output_type": "stream",
     "text": [
      "[[1423   13]\n",
      " [  85   79]]\n"
     ]
    }
   ],
   "source": [
    "from sklearn import metrics\n",
    "cm1=metrics.confusion_matrix(y_test, y_pred2)\n",
    "print(cm1)"
   ]
  },
  {
   "cell_type": "code",
   "execution_count": 139,
   "id": "ec511e9d",
   "metadata": {},
   "outputs": [],
   "source": [
    "# accuracy score"
   ]
  },
  {
   "cell_type": "code",
   "execution_count": 140,
   "id": "33a96866",
   "metadata": {},
   "outputs": [
    {
     "data": {
      "text/plain": [
       "0.93875"
      ]
     },
     "execution_count": 140,
     "metadata": {},
     "output_type": "execute_result"
    }
   ],
   "source": [
    "log1.score(x_test,y_test)"
   ]
  },
  {
   "cell_type": "markdown",
   "id": "02df832e",
   "metadata": {},
   "source": [
    "# classification report"
   ]
  },
  {
   "cell_type": "code",
   "execution_count": 141,
   "id": "96f75e3d",
   "metadata": {},
   "outputs": [
    {
     "name": "stdout",
     "output_type": "stream",
     "text": [
      "              precision    recall  f1-score   support\n",
      "\n",
      "           0       0.94      0.99      0.97      1436\n",
      "           1       0.86      0.48      0.62       164\n",
      "\n",
      "    accuracy                           0.94      1600\n",
      "   macro avg       0.90      0.74      0.79      1600\n",
      "weighted avg       0.93      0.94      0.93      1600\n",
      "\n"
     ]
    }
   ],
   "source": [
    "print(classification_report(y_test,y_pred2))"
   ]
  },
  {
   "cell_type": "markdown",
   "id": "7acdbcde",
   "metadata": {},
   "source": [
    "# roc curve and auc "
   ]
  },
  {
   "cell_type": "code",
   "execution_count": 142,
   "id": "85ad1558",
   "metadata": {},
   "outputs": [
    {
     "name": "stdout",
     "output_type": "stream",
     "text": [
      "0.8757782905847742\n"
     ]
    }
   ],
   "source": [
    "y_pred_prob=log1.predict_proba(x)\n",
    "fpr,tpr,thresholds=roc_curve(df['is_safe'],y_pred_prob[:,1])\n",
    "roc_auc=auc(fpr,tpr)\n",
    "print(roc_auc)"
   ]
  },
  {
   "cell_type": "code",
   "execution_count": 143,
   "id": "d2478e97",
   "metadata": {},
   "outputs": [
    {
     "data": {
      "image/png": "[encoded data removed]",
      "text/plain": [
       "<Figure size 432x288 with 1 Axes>"
      ]
     },
     "metadata": {
      "needs_background": "light"
     },
     "output_type": "display_data"
    }
   ],
   "source": [
    "plt.title('roc curve for logreg:liblinear')\n",
    "plt.xlabel('false positive rate')\n",
    "plt.ylabel('true positive rate')\n",
    "plt.plot([0,1],[0,1],'r--')\n",
    "plt.xlim([0,1])\n",
    "plt.ylim([0,1])\n",
    "plt.plot(fpr,tpr,label='AUC='+str(roc_auc))\n",
    "plt.legend(loc=4)\n",
    "plt.show()\n"
   ]
  },
  {
   "cell_type": "markdown",
   "id": "3b65f9e0",
   "metadata": {},
   "source": [
    "# standard scaling"
   ]
  },
  {
   "cell_type": "code",
   "execution_count": 144,
   "id": "c073e8aa",
   "metadata": {},
   "outputs": [],
   "source": [
    "from sklearn.preprocessing import StandardScaler"
   ]
  },
  {
   "cell_type": "code",
   "execution_count": 145,
   "id": "c8d1d867",
   "metadata": {},
   "outputs": [],
   "source": [
    "scaler = StandardScaler()\n",
    "x= scaler.fit_transform(x)"
   ]
  },
  {
   "cell_type": "markdown",
   "id": "4bd96de2",
   "metadata": {},
   "source": [
    "# DESCISON TREE CLASSIFIER "
   ]
  },
  {
   "cell_type": "code",
   "execution_count": 146,
   "id": "4b59cb81",
   "metadata": {},
   "outputs": [],
   "source": [
    "#fit tree"
   ]
  },
  {
   "cell_type": "code",
   "execution_count": 147,
   "id": "50f12289",
   "metadata": {},
   "outputs": [],
   "source": [
    "from sklearn.model_selection import train_test_split"
   ]
  },
  {
   "cell_type": "code",
   "execution_count": 148,
   "id": "c219178a",
   "metadata": {},
   "outputs": [],
   "source": [
    "x_train,x_test,y_train,y_test=train_test_split(x,y,test_size=0.20,random_state=44)"
   ]
  },
  {
   "cell_type": "code",
   "execution_count": 149,
   "id": "0867ca27",
   "metadata": {},
   "outputs": [],
   "source": [
    "from sklearn.tree import DecisionTreeClassifier\n",
    "from sklearn import tree\n",
    "\n"
   ]
  },
  {
   "cell_type": "code",
   "execution_count": 150,
   "id": "8a3121ff",
   "metadata": {},
   "outputs": [],
   "source": [
    "regr=DecisionTreeClassifier()"
   ]
  },
  {
   "cell_type": "code",
   "execution_count": 151,
   "id": "ded9c5d6",
   "metadata": {},
   "outputs": [
    {
     "data": {
      "text/plain": [
       "DecisionTreeClassifier()"
      ]
     },
     "execution_count": 151,
     "metadata": {},
     "output_type": "execute_result"
    }
   ],
   "source": [
    "regr.fit(x_train,y_train)"
   ]
  },
  {
   "cell_type": "code",
   "execution_count": 152,
   "id": "75af9232",
   "metadata": {},
   "outputs": [],
   "source": [
    "# predict/estimate train and xtrain \n",
    "test_train=regr.predict(x_train)"
   ]
  },
  {
   "cell_type": "code",
   "execution_count": 153,
   "id": "d6eafcbd",
   "metadata": {},
   "outputs": [],
   "source": [
    "# see train \n",
    "from sklearn import tree "
   ]
  },
  {
   "cell_type": "code",
   "execution_count": 154,
   "id": "f527c291",
   "metadata": {},
   "outputs": [
    {
     "data": {
      "text/plain": [
       "[Text(0.6361272673501577, 0.9821428571428571, 'X[4] <= -0.633\\ngini = 0.5\\nsamples = 11334\\nvalue = [5694, 5640]'),\n",
       " Text(0.35269617507886436, 0.9464285714285714, 'X[0] <= -0.578\\ngini = 0.345\\nsamples = 5561\\nvalue = [1230, 4331]'),\n",
       " Text(0.11514195583596215, 0.9107142857142857, 'X[17] <= -0.269\\ngini = 0.409\\nsamples = 1143\\nvalue = [815, 328]'),\n",
       " Text(0.06309148264984227, 0.875, 'X[16] <= -0.407\\ngini = 0.499\\nsamples = 579\\nvalue = [299, 280]'),\n",
       " Text(0.04100946372239748, 0.8392857142857143, 'X[5] <= -0.989\\ngini = 0.395\\nsamples = 321\\nvalue = [87, 234]'),\n",
       " Text(0.03470031545741325, 0.8035714285714286, 'gini = 0.0\\nsamples = 49\\nvalue = [49, 0]'),\n",
       " Text(0.0473186119873817, 0.8035714285714286, 'X[14] <= 0.801\\ngini = 0.24\\nsamples = 272\\nvalue = [38, 234]'),\n",
       " Text(0.04100946372239748, 0.7678571428571429, 'X[15] <= 0.915\\ngini = 0.174\\nsamples = 259\\nvalue = [25, 234]'),\n",
       " Text(0.025236593059936908, 0.7321428571428571, 'X[5] <= -0.869\\ngini = 0.095\\nsamples = 240\\nvalue = [12, 228]'),\n",
       " Text(0.012618296529968454, 0.6964285714285714, 'X[2] <= 0.23\\ngini = 0.492\\nsamples = 16\\nvalue = [9, 7]'),\n",
       " Text(0.006309148264984227, 0.6607142857142857, 'gini = 0.0\\nsamples = 9\\nvalue = [9, 0]'),\n",
       " Text(0.01892744479495268, 0.6607142857142857, 'gini = 0.0\\nsamples = 7\\nvalue = [0, 7]'),\n",
       " Text(0.03785488958990536, 0.6964285714285714, 'X[13] <= 2.341\\ngini = 0.026\\nsamples = 224\\nvalue = [3, 221]'),\n",
       " Text(0.031545741324921134, 0.6607142857142857, 'X[4] <= -0.887\\ngini = 0.009\\nsamples = 222\\nvalue = [1, 221]'),\n",
       " Text(0.025236593059936908, 0.625, 'X[9] <= -0.064\\ngini = 0.32\\nsamples = 5\\nvalue = [1, 4]'),\n",
       " Text(0.01892744479495268, 0.5892857142857143, 'gini = 0.0\\nsamples = 4\\nvalue = [0, 4]'),\n",
       " Text(0.031545741324921134, 0.5892857142857143, 'gini = 0.0\\nsamples = 1\\nvalue = [1, 0]'),\n",
       " Text(0.03785488958990536, 0.625, 'gini = 0.0\\nsamples = 217\\nvalue = [0, 217]'),\n",
       " Text(0.04416403785488959, 0.6607142857142857, 'gini = 0.0\\nsamples = 2\\nvalue = [2, 0]'),\n",
       " Text(0.056782334384858045, 0.7321428571428571, 'X[12] <= -1.191\\ngini = 0.432\\nsamples = 19\\nvalue = [13, 6]'),\n",
       " Text(0.050473186119873815, 0.6964285714285714, 'gini = 0.0\\nsamples = 6\\nvalue = [0, 6]'),\n",
       " Text(0.06309148264984227, 0.6964285714285714, 'gini = 0.0\\nsamples = 13\\nvalue = [13, 0]'),\n",
       " Text(0.05362776025236593, 0.7678571428571429, 'gini = 0.0\\nsamples = 13\\nvalue = [13, 0]'),\n",
       " Text(0.08517350157728706, 0.8392857142857143, 'X[8] <= -0.924\\ngini = 0.293\\nsamples = 258\\nvalue = [212, 46]'),\n",
       " Text(0.07255520504731862, 0.8035714285714286, 'X[1] <= 0.87\\ngini = 0.153\\nsamples = 24\\nvalue = [2, 22]'),\n",
       " Text(0.06624605678233439, 0.7678571428571429, 'gini = 0.0\\nsamples = 22\\nvalue = [0, 22]'),\n",
       " Text(0.07886435331230283, 0.7678571428571429, 'gini = 0.0\\nsamples = 2\\nvalue = [2, 0]'),\n",
       " Text(0.09779179810725552, 0.8035714285714286, 'X[0] <= -0.756\\ngini = 0.184\\nsamples = 234\\nvalue = [210, 24]'),\n",
       " Text(0.0914826498422713, 0.7678571428571429, 'gini = 0.0\\nsamples = 186\\nvalue = [186, 0]'),\n",
       " Text(0.10410094637223975, 0.7678571428571429, 'X[4] <= -0.83\\ngini = 0.5\\nsamples = 48\\nvalue = [24, 24]'),\n",
       " Text(0.09779179810725552, 0.7321428571428571, 'X[13] <= 1.256\\ngini = 0.32\\nsamples = 30\\nvalue = [6, 24]'),\n",
       " Text(0.0914826498422713, 0.6964285714285714, 'X[14] <= 0.724\\ngini = 0.142\\nsamples = 26\\nvalue = [2, 24]'),\n",
       " Text(0.08517350157728706, 0.6607142857142857, 'gini = 0.0\\nsamples = 24\\nvalue = [0, 24]'),\n",
       " Text(0.09779179810725552, 0.6607142857142857, 'gini = 0.0\\nsamples = 2\\nvalue = [2, 0]'),\n",
       " Text(0.10410094637223975, 0.6964285714285714, 'gini = 0.0\\nsamples = 4\\nvalue = [4, 0]'),\n",
       " Text(0.11041009463722397, 0.7321428571428571, 'gini = 0.0\\nsamples = 18\\nvalue = [18, 0]'),\n",
       " Text(0.167192429022082, 0.875, 'X[0] <= -1.076\\ngini = 0.156\\nsamples = 564\\nvalue = [516, 48]'),\n",
       " Text(0.13564668769716087, 0.8392857142857143, 'X[5] <= 0.303\\ngini = 0.402\\nsamples = 104\\nvalue = [75, 29]'),\n",
       " Text(0.12933753943217666, 0.8035714285714286, 'gini = 0.0\\nsamples = 41\\nvalue = [41, 0]'),\n",
       " Text(0.14195583596214512, 0.8035714285714286, 'X[17] <= 0.473\\ngini = 0.497\\nsamples = 63\\nvalue = [34, 29]'),\n",
       " Text(0.12933753943217666, 0.7678571428571429, 'X[12] <= -0.197\\ngini = 0.397\\nsamples = 33\\nvalue = [9, 24]'),\n",
       " Text(0.12302839116719243, 0.7321428571428571, 'gini = 0.0\\nsamples = 6\\nvalue = [6, 0]'),\n",
       " Text(0.13564668769716087, 0.7321428571428571, 'X[6] <= -0.02\\ngini = 0.198\\nsamples = 27\\nvalue = [3, 24]'),\n",
       " Text(0.12933753943217666, 0.6964285714285714, 'gini = 0.0\\nsamples = 3\\nvalue = [3, 0]'),\n",
       " Text(0.14195583596214512, 0.6964285714285714, 'gini = 0.0\\nsamples = 24\\nvalue = [0, 24]'),\n",
       " Text(0.15457413249211358, 0.7678571428571429, 'X[5] <= 0.364\\ngini = 0.278\\nsamples = 30\\nvalue = [25, 5]'),\n",
       " Text(0.14826498422712933, 0.7321428571428571, 'gini = 0.0\\nsamples = 5\\nvalue = [0, 5]'),\n",
       " Text(0.1608832807570978, 0.7321428571428571, 'gini = 0.0\\nsamples = 25\\nvalue = [25, 0]'),\n",
       " Text(0.19873817034700317, 0.8392857142857143, 'X[8] <= -0.939\\ngini = 0.079\\nsamples = 460\\nvalue = [441, 19]'),\n",
       " Text(0.1861198738170347, 0.8035714285714286, 'X[16] <= 1.363\\ngini = 0.278\\nsamples = 60\\nvalue = [50, 10]'),\n",
       " Text(0.17981072555205047, 0.7678571428571429, 'X[15] <= 1.263\\ngini = 0.137\\nsamples = 54\\nvalue = [50, 4]'),\n",
       " Text(0.17350157728706625, 0.7321428571428571, 'gini = 0.0\\nsamples = 45\\nvalue = [45, 0]'),\n",
       " Text(0.1861198738170347, 0.7321428571428571, 'X[14] <= -1.01\\ngini = 0.494\\nsamples = 9\\nvalue = [5, 4]'),\n",
       " Text(0.17981072555205047, 0.6964285714285714, 'gini = 0.0\\nsamples = 4\\nvalue = [0, 4]'),\n",
       " Text(0.19242902208201892, 0.6964285714285714, 'gini = 0.0\\nsamples = 5\\nvalue = [5, 0]'),\n",
       " Text(0.19242902208201892, 0.7678571428571429, 'gini = 0.0\\nsamples = 6\\nvalue = [0, 6]'),\n",
       " Text(0.2113564668769716, 0.8035714285714286, 'X[0] <= -0.827\\ngini = 0.044\\nsamples = 400\\nvalue = [391, 9]'),\n",
       " Text(0.20504731861198738, 0.7678571428571429, 'gini = 0.0\\nsamples = 270\\nvalue = [270, 0]'),\n",
       " Text(0.21766561514195584, 0.7678571428571429, 'X[8] <= 1.214\\ngini = 0.129\\nsamples = 130\\nvalue = [121, 9]'),\n",
       " Text(0.2113564668769716, 0.7321428571428571, 'gini = 0.0\\nsamples = 80\\nvalue = [80, 0]'),\n",
       " Text(0.22397476340694006, 0.7321428571428571, 'X[5] <= 0.795\\ngini = 0.295\\nsamples = 50\\nvalue = [41, 9]'),\n",
       " Text(0.2113564668769716, 0.6964285714285714, 'X[7] <= -1.071\\ngini = 0.108\\nsamples = 35\\nvalue = [33, 2]'),\n",
       " Text(0.20504731861198738, 0.6607142857142857, 'X[10] <= 0.322\\ngini = 0.5\\nsamples = 4\\nvalue = [2, 2]'),\n",
       " Text(0.19873817034700317, 0.625, 'gini = 0.0\\nsamples = 2\\nvalue = [2, 0]'),\n",
       " Text(0.2113564668769716, 0.625, 'gini = 0.0\\nsamples = 2\\nvalue = [0, 2]'),\n",
       " Text(0.21766561514195584, 0.6607142857142857, 'gini = 0.0\\nsamples = 31\\nvalue = [31, 0]'),\n",
       " Text(0.23659305993690852, 0.6964285714285714, 'X[4] <= -0.717\\ngini = 0.498\\nsamples = 15\\nvalue = [8, 7]'),\n",
       " Text(0.2302839116719243, 0.6607142857142857, 'gini = 0.0\\nsamples = 7\\nvalue = [7, 0]'),\n",
       " Text(0.24290220820189273, 0.6607142857142857, 'X[8] <= 1.721\\ngini = 0.219\\nsamples = 8\\nvalue = [1, 7]'),\n",
       " Text(0.23659305993690852, 0.625, 'gini = 0.0\\nsamples = 7\\nvalue = [0, 7]'),\n",
       " Text(0.24921135646687698, 0.625, 'gini = 0.0\\nsamples = 1\\nvalue = [1, 0]'),\n",
       " Text(0.5902503943217665, 0.9107142857142857, 'X[13] <= 1.622\\ngini = 0.17\\nsamples = 4418\\nvalue = [415, 4003]'),\n",
       " Text(0.42340299684542587, 0.875, 'X[0] <= 0.311\\ngini = 0.107\\nsamples = 4034\\nvalue = [228, 3806]'),\n",
       " Text(0.29574132492113564, 0.8392857142857143, 'X[8] <= -0.755\\ngini = 0.389\\nsamples = 420\\nvalue = [111, 309]'),\n",
       " Text(0.2555205047318612, 0.8035714285714286, 'X[0] <= 0.187\\ngini = 0.043\\nsamples = 136\\nvalue = [3, 133]'),\n",
       " Text(0.24921135646687698, 0.7678571428571429, 'X[14] <= -1.154\\ngini = 0.029\\nsamples = 135\\nvalue = [2, 133]'),\n",
       " Text(0.24290220820189273, 0.7321428571428571, 'gini = 0.0\\nsamples = 1\\nvalue = [1, 0]'),\n",
       " Text(0.2555205047318612, 0.7321428571428571, 'X[5] <= 1.675\\ngini = 0.015\\nsamples = 134\\nvalue = [1, 133]'),\n",
       " Text(0.24921135646687698, 0.6964285714285714, 'gini = 0.0\\nsamples = 123\\nvalue = [0, 123]'),\n",
       " Text(0.2618296529968454, 0.6964285714285714, 'X[15] <= -0.129\\ngini = 0.165\\nsamples = 11\\nvalue = [1, 10]'),\n",
       " Text(0.2555205047318612, 0.6607142857142857, 'gini = 0.0\\nsamples = 10\\nvalue = [0, 10]'),\n",
       " Text(0.26813880126182965, 0.6607142857142857, 'gini = 0.0\\nsamples = 1\\nvalue = [1, 0]'),\n",
       " Text(0.2618296529968454, 0.7678571428571429, 'gini = 0.0\\nsamples = 1\\nvalue = [1, 0]'),\n",
       " Text(0.3359621451104101, 0.8035714285714286, 'X[16] <= -0.007\\ngini = 0.471\\nsamples = 284\\nvalue = [108, 176]'),\n",
       " Text(0.29652996845425866, 0.7678571428571429, 'X[17] <= -0.269\\ngini = 0.286\\nsamples = 133\\nvalue = [23, 110]'),\n",
       " Text(0.2807570977917981, 0.7321428571428571, 'X[1] <= -1.205\\ngini = 0.095\\nsamples = 80\\nvalue = [4, 76]'),\n",
       " Text(0.2744479495268139, 0.6964285714285714, 'gini = 0.0\\nsamples = 2\\nvalue = [2, 0]'),\n",
       " Text(0.2870662460567823, 0.6964285714285714, 'X[10] <= 1.511\\ngini = 0.05\\nsamples = 78\\nvalue = [2, 76]'),\n",
       " Text(0.2807570977917981, 0.6607142857142857, 'X[14] <= 1.412\\ngini = 0.026\\nsamples = 77\\nvalue = [1, 76]'),\n",
       " Text(0.2744479495268139, 0.625, 'gini = 0.0\\nsamples = 76\\nvalue = [0, 76]'),\n",
       " Text(0.2870662460567823, 0.625, 'gini = 0.0\\nsamples = 1\\nvalue = [1, 0]'),\n",
       " Text(0.29337539432176657, 0.6607142857142857, 'gini = 0.0\\nsamples = 1\\nvalue = [1, 0]'),\n",
       " Text(0.31230283911671924, 0.7321428571428571, 'X[9] <= 1.324\\ngini = 0.46\\nsamples = 53\\nvalue = [19, 34]'),\n",
       " Text(0.305993690851735, 0.6964285714285714, 'gini = 0.0\\nsamples = 13\\nvalue = [13, 0]'),\n",
       " Text(0.3186119873817035, 0.6964285714285714, 'X[8] <= 1.552\\ngini = 0.255\\nsamples = 40\\nvalue = [6, 34]'),\n",
       " Text(0.305993690851735, 0.6607142857142857, 'X[10] <= 0.747\\ngini = 0.111\\nsamples = 34\\nvalue = [2, 32]'),\n",
       " Text(0.2996845425867508, 0.625, 'X[0] <= -0.133\\ngini = 0.059\\nsamples = 33\\nvalue = [1, 32]'),\n",
       " Text(0.29337539432176657, 0.5892857142857143, 'gini = 0.0\\nsamples = 24\\nvalue = [0, 24]'),\n",
       " Text(0.305993690851735, 0.5892857142857143, 'X[7] <= 0.968\\ngini = 0.198\\nsamples = 9\\nvalue = [1, 8]'),\n",
       " Text(0.2996845425867508, 0.5535714285714286, 'gini = 0.0\\nsamples = 8\\nvalue = [0, 8]'),\n",
       " Text(0.31230283911671924, 0.5535714285714286, 'gini = 0.0\\nsamples = 1\\nvalue = [1, 0]'),\n",
       " Text(0.31230283911671924, 0.625, 'gini = 0.0\\nsamples = 1\\nvalue = [1, 0]'),\n",
       " Text(0.3312302839116719, 0.6607142857142857, 'X[4] <= -0.859\\ngini = 0.444\\nsamples = 6\\nvalue = [4, 2]'),\n",
       " Text(0.3249211356466877, 0.625, 'gini = 0.0\\nsamples = 2\\nvalue = [0, 2]'),\n",
       " Text(0.33753943217665616, 0.625, 'gini = 0.0\\nsamples = 4\\nvalue = [4, 0]'),\n",
       " Text(0.3753943217665615, 0.7678571428571429, 'X[1] <= 0.901\\ngini = 0.492\\nsamples = 151\\nvalue = [85, 66]'),\n",
       " Text(0.36908517350157727, 0.7321428571428571, 'X[1] <= 0.813\\ngini = 0.499\\nsamples = 127\\nvalue = [61, 66]'),\n",
       " Text(0.35646687697160884, 0.6964285714285714, 'X[8] <= 0.137\\ngini = 0.48\\nsamples = 100\\nvalue = [60, 40]'),\n",
       " Text(0.3501577287066246, 0.6607142857142857, 'gini = 0.0\\nsamples = 25\\nvalue = [25, 0]'),\n",
       " Text(0.3627760252365931, 0.6607142857142857, 'X[1] <= -1.45\\ngini = 0.498\\nsamples = 75\\nvalue = [35, 40]'),\n",
       " Text(0.3501577287066246, 0.625, 'X[10] <= -1.011\\ngini = 0.117\\nsamples = 16\\nvalue = [1, 15]'),\n",
       " Text(0.3438485804416404, 0.5892857142857143, 'gini = 0.0\\nsamples = 1\\nvalue = [1, 0]'),\n",
       " Text(0.35646687697160884, 0.5892857142857143, 'gini = 0.0\\nsamples = 15\\nvalue = [0, 15]'),\n",
       " Text(0.3753943217665615, 0.625, 'X[6] <= 0.615\\ngini = 0.488\\nsamples = 59\\nvalue = [34, 25]'),\n",
       " Text(0.36908517350157727, 0.5892857142857143, 'gini = 0.0\\nsamples = 20\\nvalue = [20, 0]'),\n",
       " Text(0.38170347003154576, 0.5892857142857143, 'X[1] <= 0.321\\ngini = 0.46\\nsamples = 39\\nvalue = [14, 25]'),\n",
       " Text(0.3753943217665615, 0.5535714285714286, 'X[7] <= -0.503\\ngini = 0.342\\nsamples = 32\\nvalue = [7, 25]'),\n",
       " Text(0.36908517350157727, 0.5178571428571429, 'gini = 0.0\\nsamples = 3\\nvalue = [3, 0]'),\n",
       " Text(0.38170347003154576, 0.5178571428571429, 'X[4] <= -0.661\\ngini = 0.238\\nsamples = 29\\nvalue = [4, 25]'),\n",
       " Text(0.3753943217665615, 0.48214285714285715, 'X[0] <= -0.365\\ngini = 0.137\\nsamples = 27\\nvalue = [2, 25]'),\n",
       " Text(0.36908517350157727, 0.44642857142857145, 'X[0] <= -0.454\\ngini = 0.375\\nsamples = 8\\nvalue = [2, 6]'),\n",
       " Text(0.3627760252365931, 0.4107142857142857, 'gini = 0.0\\nsamples = 6\\nvalue = [0, 6]'),\n",
       " Text(0.3753943217665615, 0.4107142857142857, 'gini = 0.0\\nsamples = 2\\nvalue = [2, 0]'),\n",
       " Text(0.38170347003154576, 0.44642857142857145, 'gini = 0.0\\nsamples = 19\\nvalue = [0, 19]'),\n",
       " Text(0.38801261829652994, 0.48214285714285715, 'gini = 0.0\\nsamples = 2\\nvalue = [2, 0]'),\n",
       " Text(0.38801261829652994, 0.5535714285714286, 'gini = 0.0\\nsamples = 7\\nvalue = [7, 0]'),\n",
       " Text(0.38170347003154576, 0.6964285714285714, 'X[7] <= -0.09\\ngini = 0.071\\nsamples = 27\\nvalue = [1, 26]'),\n",
       " Text(0.3753943217665615, 0.6607142857142857, 'gini = 0.0\\nsamples = 26\\nvalue = [0, 26]'),\n",
       " Text(0.38801261829652994, 0.6607142857142857, 'gini = 0.0\\nsamples = 1\\nvalue = [1, 0]'),\n",
       " Text(0.38170347003154576, 0.7321428571428571, 'gini = 0.0\\nsamples = 24\\nvalue = [24, 0]'),\n",
       " Text(0.551064668769716, 0.8392857142857143, 'X[13] <= 1.028\\ngini = 0.063\\nsamples = 3614\\nvalue = [117, 3497]'),\n",
       " Text(0.4633280757097792, 0.8035714285714286, 'X[4] <= -0.887\\ngini = 0.029\\nsamples = 3170\\nvalue = [46, 3124]'),\n",
       " Text(0.45701892744479494, 0.7678571428571429, 'gini = 0.0\\nsamples = 3\\nvalue = [3, 0]'),\n",
       " Text(0.46963722397476343, 0.7678571428571429, 'X[13] <= 0.331\\ngini = 0.027\\nsamples = 3167\\nvalue = [43, 3124]'),\n",
       " Text(0.41324921135646686, 0.7321428571428571, 'X[1] <= 1.788\\ngini = 0.003\\nsamples = 2179\\nvalue = [3, 2176]'),\n",
       " Text(0.4069400630914827, 0.6964285714285714, 'X[3] <= -1.38\\ngini = 0.002\\nsamples = 2178\\nvalue = [2, 2176]'),\n",
       " Text(0.40063091482649843, 0.6607142857142857, 'gini = 0.0\\nsamples = 1\\nvalue = [1, 0]'),\n",
       " Text(0.41324921135646686, 0.6607142857142857, 'X[6] <= 2.028\\ngini = 0.001\\nsamples = 2177\\nvalue = [1, 2176]'),\n",
       " Text(0.4069400630914827, 0.625, 'gini = 0.0\\nsamples = 2147\\nvalue = [0, 2147]'),\n",
       " Text(0.4195583596214511, 0.625, 'X[13] <= 0.115\\ngini = 0.064\\nsamples = 30\\nvalue = [1, 29]'),\n",
       " Text(0.41324921135646686, 0.5892857142857143, 'gini = 0.0\\nsamples = 29\\nvalue = [0, 29]'),\n",
       " Text(0.42586750788643535, 0.5892857142857143, 'gini = 0.0\\nsamples = 1\\nvalue = [1, 0]'),\n",
       " Text(0.4195583596214511, 0.6964285714285714, 'gini = 0.0\\nsamples = 1\\nvalue = [1, 0]'),\n",
       " Text(0.5260252365930599, 0.7321428571428571, 'X[1] <= 1.145\\ngini = 0.078\\nsamples = 988\\nvalue = [40, 948]'),\n",
       " Text(0.48738170347003157, 0.6964285714285714, 'X[13] <= 0.345\\ngini = 0.043\\nsamples = 910\\nvalue = [20, 890]'),\n",
       " Text(0.4810725552050473, 0.6607142857142857, 'gini = 0.0\\nsamples = 2\\nvalue = [2, 0]'),\n",
       " Text(0.49369085173501576, 0.6607142857142857, 'X[10] <= 1.116\\ngini = 0.039\\nsamples = 908\\nvalue = [18, 890]'),\n",
       " Text(0.4605678233438486, 0.625, 'X[1] <= 0.913\\ngini = 0.019\\nsamples = 814\\nvalue = [8, 806]'),\n",
       " Text(0.4384858044164038, 0.5892857142857143, 'X[5] <= 2.017\\ngini = 0.006\\nsamples = 722\\nvalue = [2, 720]'),\n",
       " Text(0.42586750788643535, 0.5535714285714286, 'X[10] <= 1.027\\ngini = 0.003\\nsamples = 718\\nvalue = [1, 717]'),\n",
       " Text(0.4195583596214511, 0.5178571428571429, 'gini = 0.0\\nsamples = 686\\nvalue = [0, 686]'),\n",
       " Text(0.43217665615141954, 0.5178571428571429, 'X[10] <= 1.039\\ngini = 0.061\\nsamples = 32\\nvalue = [1, 31]'),\n",
       " Text(0.42586750788643535, 0.48214285714285715, 'gini = 0.0\\nsamples = 1\\nvalue = [1, 0]'),\n",
       " Text(0.4384858044164038, 0.48214285714285715, 'gini = 0.0\\nsamples = 31\\nvalue = [0, 31]'),\n",
       " Text(0.45110410094637227, 0.5535714285714286, 'X[13] <= 0.763\\ngini = 0.375\\nsamples = 4\\nvalue = [1, 3]'),\n",
       " Text(0.444794952681388, 0.5178571428571429, 'gini = 0.0\\nsamples = 3\\nvalue = [0, 3]'),\n",
       " Text(0.45741324921135645, 0.5178571428571429, 'gini = 0.0\\nsamples = 1\\nvalue = [1, 0]'),\n",
       " Text(0.48264984227129337, 0.5892857142857143, 'X[10] <= 0.095\\ngini = 0.122\\nsamples = 92\\nvalue = [6, 86]'),\n",
       " Text(0.47634069400630913, 0.5535714285714286, 'X[6] <= -0.409\\ngini = 0.044\\nsamples = 88\\nvalue = [2, 86]'),\n",
       " Text(0.47003154574132494, 0.5178571428571429, 'gini = 0.0\\nsamples = 1\\nvalue = [1, 0]'),\n",
       " Text(0.48264984227129337, 0.5178571428571429, 'X[13] <= 0.806\\ngini = 0.023\\nsamples = 87\\nvalue = [1, 86]'),\n",
       " Text(0.47634069400630913, 0.48214285714285715, 'gini = 0.0\\nsamples = 86\\nvalue = [0, 86]'),\n",
       " Text(0.4889589905362776, 0.48214285714285715, 'gini = 0.0\\nsamples = 1\\nvalue = [1, 0]'),\n",
       " Text(0.4889589905362776, 0.5535714285714286, 'gini = 0.0\\nsamples = 4\\nvalue = [4, 0]'),\n",
       " Text(0.526813880126183, 0.625, 'X[1] <= 0.534\\ngini = 0.19\\nsamples = 94\\nvalue = [10, 84]'),\n",
       " Text(0.5205047318611987, 0.5892857142857143, 'X[3] <= 1.621\\ngini = 0.106\\nsamples = 89\\nvalue = [5, 84]'),\n",
       " Text(0.5141955835962145, 0.5535714285714286, 'X[15] <= 0.915\\ngini = 0.067\\nsamples = 87\\nvalue = [3, 84]'),\n",
       " Text(0.5078864353312302, 0.5178571428571429, 'X[6] <= 1.392\\ngini = 0.023\\nsamples = 85\\nvalue = [1, 84]'),\n",
       " Text(0.501577287066246, 0.48214285714285715, 'gini = 0.0\\nsamples = 84\\nvalue = [0, 84]'),\n",
       " Text(0.5141955835962145, 0.48214285714285715, 'gini = 0.0\\nsamples = 1\\nvalue = [1, 0]'),\n",
       " Text(0.5205047318611987, 0.5178571428571429, 'gini = 0.0\\nsamples = 2\\nvalue = [2, 0]'),\n",
       " Text(0.526813880126183, 0.5535714285714286, 'gini = 0.0\\nsamples = 2\\nvalue = [2, 0]'),\n",
       " Text(0.5331230283911672, 0.5892857142857143, 'gini = 0.0\\nsamples = 5\\nvalue = [5, 0]'),\n",
       " Text(0.5646687697160884, 0.6964285714285714, 'X[10] <= 0.077\\ngini = 0.381\\nsamples = 78\\nvalue = [20, 58]'),\n",
       " Text(0.5583596214511041, 0.6607142857142857, 'X[14] <= 0.974\\ngini = 0.146\\nsamples = 63\\nvalue = [5, 58]'),\n",
       " Text(0.5520504731861199, 0.625, 'X[16] <= 2.131\\ngini = 0.064\\nsamples = 60\\nvalue = [2, 58]'),\n",
       " Text(0.5457413249211357, 0.5892857142857143, 'X[13] <= 0.846\\ngini = 0.033\\nsamples = 59\\nvalue = [1, 58]'),\n",
       " Text(0.5394321766561514, 0.5535714285714286, 'gini = 0.0\\nsamples = 54\\nvalue = [0, 54]'),\n",
       " Text(0.5520504731861199, 0.5535714285714286, 'X[14] <= -0.058\\ngini = 0.32\\nsamples = 5\\nvalue = [1, 4]'),\n",
       " Text(0.5457413249211357, 0.5178571428571429, 'gini = 0.0\\nsamples = 4\\nvalue = [0, 4]'),\n",
       " Text(0.5583596214511041, 0.5178571428571429, 'gini = 0.0\\nsamples = 1\\nvalue = [1, 0]'),\n",
       " Text(0.5583596214511041, 0.5892857142857143, 'gini = 0.0\\nsamples = 1\\nvalue = [1, 0]'),\n",
       " Text(0.5646687697160884, 0.625, 'gini = 0.0\\nsamples = 3\\nvalue = [3, 0]'),\n",
       " Text(0.5709779179810726, 0.6607142857142857, 'gini = 0.0\\nsamples = 15\\nvalue = [15, 0]'),\n",
       " Text(0.638801261829653, 0.8035714285714286, 'X[1] <= 0.257\\ngini = 0.269\\nsamples = 444\\nvalue = [71, 373]'),\n",
       " Text(0.6151419558359621, 0.7678571428571429, 'X[3] <= 1.831\\ngini = 0.101\\nsamples = 338\\nvalue = [18, 320]'),\n",
       " Text(0.6088328075709779, 0.7321428571428571, 'X[10] <= 0.05\\ngini = 0.086\\nsamples = 335\\nvalue = [15, 320]'),\n",
       " Text(0.5899053627760252, 0.6964285714285714, 'X[1] <= 0.183\\ngini = 0.008\\nsamples = 236\\nvalue = [1, 235]'),\n",
       " Text(0.583596214511041, 0.6607142857142857, 'gini = 0.0\\nsamples = 229\\nvalue = [0, 229]'),\n",
       " Text(0.5962145110410094, 0.6607142857142857, 'X[11] <= 0.121\\ngini = 0.245\\nsamples = 7\\nvalue = [1, 6]'),\n",
       " Text(0.5899053627760252, 0.625, 'gini = 0.0\\nsamples = 1\\nvalue = [1, 0]'),\n",
       " Text(0.6025236593059937, 0.625, 'gini = 0.0\\nsamples = 6\\nvalue = [0, 6]'),\n",
       " Text(0.6277602523659306, 0.6964285714285714, 'X[6] <= 1.887\\ngini = 0.243\\nsamples = 99\\nvalue = [14, 85]'),\n",
       " Text(0.6214511041009464, 0.6607142857142857, 'X[10] <= 0.118\\ngini = 0.203\\nsamples = 96\\nvalue = [11, 85]'),\n",
       " Text(0.6151419558359621, 0.625, 'gini = 0.0\\nsamples = 2\\nvalue = [2, 0]'),\n",
       " Text(0.6277602523659306, 0.625, 'X[14] <= 1.624\\ngini = 0.173\\nsamples = 94\\nvalue = [9, 85]'),\n",
       " Text(0.6214511041009464, 0.5892857142857143, 'X[4] <= -0.859\\ngini = 0.141\\nsamples = 92\\nvalue = [7, 85]'),\n",
       " Text(0.6088328075709779, 0.5535714285714286, 'X[7] <= 0.812\\ngini = 0.494\\nsamples = 9\\nvalue = [4, 5]'),\n",
       " Text(0.6025236593059937, 0.5178571428571429, 'gini = 0.0\\nsamples = 3\\nvalue = [3, 0]'),\n",
       " Text(0.6151419558359621, 0.5178571428571429, 'X[16] <= -0.073\\ngini = 0.278\\nsamples = 6\\nvalue = [1, 5]'),\n",
       " Text(0.6088328075709779, 0.48214285714285715, 'gini = 0.0\\nsamples = 1\\nvalue = [1, 0]'),\n",
       " Text(0.6214511041009464, 0.48214285714285715, 'gini = 0.0\\nsamples = 5\\nvalue = [0, 5]'),\n",
       " Text(0.6340694006309149, 0.5535714285714286, 'X[11] <= -0.612\\ngini = 0.07\\nsamples = 83\\nvalue = [3, 80]'),\n",
       " Text(0.6277602523659306, 0.5178571428571429, 'gini = 0.0\\nsamples = 1\\nvalue = [1, 0]'),\n",
       " Text(0.6403785488958991, 0.5178571428571429, 'X[5] <= 1.635\\ngini = 0.048\\nsamples = 82\\nvalue = [2, 80]'),\n",
       " Text(0.6340694006309149, 0.48214285714285715, 'X[7] <= 0.758\\ngini = 0.024\\nsamples = 81\\nvalue = [1, 80]'),\n",
       " Text(0.6277602523659306, 0.44642857142857145, 'gini = 0.0\\nsamples = 71\\nvalue = [0, 71]'),\n",
       " Text(0.6403785488958991, 0.44642857142857145, 'X[17] <= 0.659\\ngini = 0.18\\nsamples = 10\\nvalue = [1, 9]'),\n",
       " Text(0.6340694006309149, 0.4107142857142857, 'gini = 0.0\\nsamples = 1\\nvalue = [1, 0]'),\n",
       " Text(0.6466876971608833, 0.4107142857142857, 'gini = 0.0\\nsamples = 9\\nvalue = [0, 9]'),\n",
       " Text(0.6466876971608833, 0.48214285714285715, 'gini = 0.0\\nsamples = 1\\nvalue = [1, 0]'),\n",
       " Text(0.6340694006309149, 0.5892857142857143, 'gini = 0.0\\nsamples = 2\\nvalue = [2, 0]'),\n",
       " Text(0.6340694006309149, 0.6607142857142857, 'gini = 0.0\\nsamples = 3\\nvalue = [3, 0]'),\n",
       " Text(0.6214511041009464, 0.7321428571428571, 'gini = 0.0\\nsamples = 3\\nvalue = [3, 0]'),\n",
       " Text(0.6624605678233438, 0.7678571428571429, 'X[10] <= -1.236\\ngini = 0.5\\nsamples = 106\\nvalue = [53, 53]'),\n",
       " Text(0.6466876971608833, 0.7321428571428571, 'X[3] <= -0.26\\ngini = 0.1\\nsamples = 38\\nvalue = [2, 36]'),\n",
       " Text(0.6403785488958991, 0.6964285714285714, 'gini = 0.0\\nsamples = 36\\nvalue = [0, 36]'),\n",
       " Text(0.6529968454258676, 0.6964285714285714, 'gini = 0.0\\nsamples = 2\\nvalue = [2, 0]'),\n",
       " Text(0.6782334384858044, 0.7321428571428571, 'X[1] <= 0.576\\ngini = 0.375\\nsamples = 68\\nvalue = [51, 17]'),\n",
       " Text(0.6656151419558359, 0.6964285714285714, 'X[4] <= -0.802\\ngini = 0.48\\nsamples = 25\\nvalue = [10, 15]'),\n",
       " Text(0.6593059936908517, 0.6607142857142857, 'gini = 0.0\\nsamples = 8\\nvalue = [8, 0]'),\n",
       " Text(0.6719242902208202, 0.6607142857142857, 'X[12] <= 0.961\\ngini = 0.208\\nsamples = 17\\nvalue = [2, 15]'),\n",
       " Text(0.6656151419558359, 0.625, 'gini = 0.0\\nsamples = 15\\nvalue = [0, 15]'),\n",
       " Text(0.6782334384858044, 0.625, 'gini = 0.0\\nsamples = 2\\nvalue = [2, 0]'),\n",
       " Text(0.6908517350157729, 0.6964285714285714, 'X[14] <= -0.699\\ngini = 0.089\\nsamples = 43\\nvalue = [41, 2]'),\n",
       " Text(0.6845425867507886, 0.6607142857142857, 'gini = 0.0\\nsamples = 2\\nvalue = [0, 2]'),\n",
       " Text(0.6971608832807571, 0.6607142857142857, 'gini = 0.0\\nsamples = 41\\nvalue = [41, 0]'),\n",
       " Text(0.7570977917981072, 0.875, 'X[1] <= -0.573\\ngini = 0.5\\nsamples = 384\\nvalue = [187, 197]'),\n",
       " Text(0.7350157728706624, 0.8392857142857143, 'X[10] <= -0.19\\ngini = 0.267\\nsamples = 214\\nvalue = [34, 180]'),\n",
       " Text(0.722397476340694, 0.8035714285714286, 'X[13] <= 2.379\\ngini = 0.111\\nsamples = 169\\nvalue = [10, 159]'),\n",
       " Text(0.7160883280757098, 0.7678571428571429, 'X[9] <= 1.841\\ngini = 0.081\\nsamples = 166\\nvalue = [7, 159]'),\n",
       " Text(0.7097791798107256, 0.7321428571428571, 'X[4] <= -0.887\\ngini = 0.059\\nsamples = 164\\nvalue = [5, 159]'),\n",
       " Text(0.7034700315457413, 0.6964285714285714, 'gini = 0.0\\nsamples = 2\\nvalue = [2, 0]'),\n",
       " Text(0.7160883280757098, 0.6964285714285714, 'X[11] <= -0.583\\ngini = 0.036\\nsamples = 162\\nvalue = [3, 159]'),\n",
       " Text(0.7097791798107256, 0.6607142857142857, 'gini = 0.0\\nsamples = 1\\nvalue = [1, 0]'),\n",
       " Text(0.722397476340694, 0.6607142857142857, 'X[13] <= 2.363\\ngini = 0.025\\nsamples = 161\\nvalue = [2, 159]'),\n",
       " Text(0.7097791798107256, 0.625, 'X[5] <= 1.919\\ngini = 0.013\\nsamples = 158\\nvalue = [1, 157]'),\n",
       " Text(0.7034700315457413, 0.5892857142857143, 'gini = 0.0\\nsamples = 152\\nvalue = [0, 152]'),\n",
       " Text(0.7160883280757098, 0.5892857142857143, 'X[14] <= -0.541\\ngini = 0.278\\nsamples = 6\\nvalue = [1, 5]'),\n",
       " Text(0.7097791798107256, 0.5535714285714286, 'gini = 0.0\\nsamples = 5\\nvalue = [0, 5]'),\n",
       " Text(0.722397476340694, 0.5535714285714286, 'gini = 0.0\\nsamples = 1\\nvalue = [1, 0]'),\n",
       " Text(0.7350157728706624, 0.625, 'X[16] <= 0.461\\ngini = 0.444\\nsamples = 3\\nvalue = [1, 2]'),\n",
       " Text(0.7287066246056783, 0.5892857142857143, 'gini = 0.0\\nsamples = 2\\nvalue = [0, 2]'),\n",
       " Text(0.7413249211356467, 0.5892857142857143, 'gini = 0.0\\nsamples = 1\\nvalue = [1, 0]'),\n",
       " Text(0.722397476340694, 0.7321428571428571, 'gini = 0.0\\nsamples = 2\\nvalue = [2, 0]'),\n",
       " Text(0.7287066246056783, 0.7678571428571429, 'gini = 0.0\\nsamples = 3\\nvalue = [3, 0]'),\n",
       " Text(0.7476340694006309, 0.8035714285714286, 'X[6] <= -0.603\\ngini = 0.498\\nsamples = 45\\nvalue = [24, 21]'),\n",
       " Text(0.7413249211356467, 0.7678571428571429, 'X[14] <= 1.272\\ngini = 0.219\\nsamples = 24\\nvalue = [3, 21]'),\n",
       " Text(0.7350157728706624, 0.7321428571428571, 'gini = 0.0\\nsamples = 21\\nvalue = [0, 21]'),\n",
       " Text(0.7476340694006309, 0.7321428571428571, 'gini = 0.0\\nsamples = 3\\nvalue = [3, 0]'),\n",
       " Text(0.7539432176656151, 0.7678571428571429, 'gini = 0.0\\nsamples = 21\\nvalue = [21, 0]'),\n",
       " Text(0.7791798107255521, 0.8392857142857143, 'X[16] <= -0.741\\ngini = 0.18\\nsamples = 170\\nvalue = [153, 17]'),\n",
       " Text(0.7728706624605678, 0.8035714285714286, 'X[4] <= -0.746\\ngini = 0.498\\nsamples = 32\\nvalue = [15, 17]'),\n",
       " Text(0.7665615141955836, 0.7678571428571429, 'gini = 0.0\\nsamples = 9\\nvalue = [9, 0]'),\n",
       " Text(0.7791798107255521, 0.7678571428571429, 'X[8] <= -0.447\\ngini = 0.386\\nsamples = 23\\nvalue = [6, 17]'),\n",
       " Text(0.7728706624605678, 0.7321428571428571, 'gini = 0.0\\nsamples = 4\\nvalue = [4, 0]'),\n",
       " Text(0.7854889589905363, 0.7321428571428571, 'X[17] <= 0.288\\ngini = 0.188\\nsamples = 19\\nvalue = [2, 17]'),\n",
       " Text(0.7791798107255521, 0.6964285714285714, 'gini = 0.0\\nsamples = 17\\nvalue = [0, 17]'),\n",
       " Text(0.7917981072555205, 0.6964285714285714, 'gini = 0.0\\nsamples = 2\\nvalue = [2, 0]'),\n",
       " Text(0.7854889589905363, 0.8035714285714286, 'gini = 0.0\\nsamples = 138\\nvalue = [138, 0]'),\n",
       " Text(0.919558359621451, 0.9464285714285714, 'X[17] <= -0.269\\ngini = 0.351\\nsamples = 5773\\nvalue = [4464, 1309]'),\n",
       " Text(0.8769716088328076, 0.9107142857142857, 'X[16] <= -0.407\\ngini = 0.461\\nsamples = 2679\\nvalue = [1713, 966]'),\n",
       " Text(0.8706624605678234, 0.875, 'X[5] <= -0.748\\ngini = 0.493\\nsamples = 2189\\nvalue = [1223, 966]'),\n",
       " Text(0.8422712933753943, 0.8392857142857143, 'X[11] <= -0.689\\ngini = 0.36\\nsamples = 1523\\nvalue = [1165, 358]'),\n",
       " Text(0.8296529968454258, 0.8035714285714286, 'X[9] <= -0.748\\ngini = 0.467\\nsamples = 890\\nvalue = [559, 331]'),\n",
       " Text(0.8233438485804416, 0.7678571428571429, 'X[10] <= 0.128\\ngini = 0.491\\nsamples = 585\\nvalue = [254, 331]'),\n",
       " Text(0.8107255520504731, 0.7321428571428571, 'X[8] <= -0.601\\ngini = 0.366\\nsamples = 411\\nvalue = [99, 312]'),\n",
       " Text(0.804416403785489, 0.6964285714285714, 'X[3] <= 0.127\\ngini = 0.315\\nsamples = 388\\nvalue = [76, 312]'),\n",
       " Text(0.7981072555205048, 0.6607142857142857, 'X[7] <= 0.758\\ngini = 0.277\\nsamples = 374\\nvalue = [62, 312]'),\n",
       " Text(0.7917981072555205, 0.625, 'X[14] <= 0.642\\ngini = 0.245\\nsamples = 364\\nvalue = [52, 312]'),\n",
       " Text(0.7854889589905363, 0.5892857142857143, 'X[15] <= 1.61\\ngini = 0.22\\nsamples = 357\\nvalue = [45, 312]'),\n",
       " Text(0.7791798107255521, 0.5535714285714286, 'X[17] <= -1.011\\ngini = 0.201\\nsamples = 352\\nvalue = [40, 312]'),\n",
       " Text(0.750788643533123, 0.5178571428571429, 'X[10] <= -1.266\\ngini = 0.318\\nsamples = 121\\nvalue = [24, 97]'),\n",
       " Text(0.7444794952681388, 0.48214285714285715, 'gini = 0.0\\nsamples = 6\\nvalue = [6, 0]'),\n",
       " Text(0.7570977917981072, 0.48214285714285715, 'X[8] <= -0.924\\ngini = 0.264\\nsamples = 115\\nvalue = [18, 97]'),\n",
       " Text(0.750788643533123, 0.44642857142857145, 'X[4] <= 1.501\\ngini = 0.22\\nsamples = 111\\nvalue = [14, 97]'),\n",
       " Text(0.7381703470031545, 0.4107142857142857, 'X[11] <= -0.93\\ngini = 0.157\\nsamples = 105\\nvalue = [9, 96]'),\n",
       " Text(0.7318611987381703, 0.375, 'X[7] <= -1.226\\ngini = 0.127\\nsamples = 103\\nvalue = [7, 96]'),\n",
       " Text(0.7255520504731862, 0.3392857142857143, 'gini = 0.0\\nsamples = 2\\nvalue = [2, 0]'),\n",
       " Text(0.7381703470031545, 0.3392857142857143, 'X[7] <= 0.501\\ngini = 0.094\\nsamples = 101\\nvalue = [5, 96]'),\n",
       " Text(0.7318611987381703, 0.30357142857142855, 'X[13] <= -0.69\\ngini = 0.077\\nsamples = 100\\nvalue = [4, 96]'),\n",
       " Text(0.7255520504731862, 0.26785714285714285, 'X[10] <= -0.5\\ngini = 0.059\\nsamples = 99\\nvalue = [3, 96]'),\n",
       " Text(0.7192429022082019, 0.23214285714285715, 'X[0] <= -1.04\\ngini = 0.18\\nsamples = 30\\nvalue = [3, 27]'),\n",
       " Text(0.7129337539432177, 0.19642857142857142, 'gini = 0.0\\nsamples = 2\\nvalue = [2, 0]'),\n",
       " Text(0.7255520504731862, 0.19642857142857142, 'X[0] <= -0.898\\ngini = 0.069\\nsamples = 28\\nvalue = [1, 27]'),\n",
       " Text(0.7192429022082019, 0.16071428571428573, 'gini = 0.0\\nsamples = 27\\nvalue = [0, 27]'),\n",
       " Text(0.7318611987381703, 0.16071428571428573, 'gini = 0.0\\nsamples = 1\\nvalue = [1, 0]'),\n",
       " Text(0.7318611987381703, 0.23214285714285715, 'gini = 0.0\\nsamples = 69\\nvalue = [0, 69]'),\n",
       " Text(0.7381703470031545, 0.26785714285714285, 'gini = 0.0\\nsamples = 1\\nvalue = [1, 0]'),\n",
       " Text(0.7444794952681388, 0.30357142857142855, 'gini = 0.0\\nsamples = 1\\nvalue = [1, 0]'),\n",
       " Text(0.7444794952681388, 0.375, 'gini = 0.0\\nsamples = 2\\nvalue = [2, 0]'),\n",
       " Text(0.7634069400630915, 0.4107142857142857, 'X[14] <= -1.169\\ngini = 0.278\\nsamples = 6\\nvalue = [5, 1]'),\n",
       " Text(0.7570977917981072, 0.375, 'gini = 0.0\\nsamples = 1\\nvalue = [0, 1]'),\n",
       " Text(0.7697160883280757, 0.375, 'gini = 0.0\\nsamples = 5\\nvalue = [5, 0]'),\n",
       " Text(0.7634069400630915, 0.44642857142857145, 'gini = 0.0\\nsamples = 4\\nvalue = [4, 0]'),\n",
       " Text(0.807570977917981, 0.5178571428571429, 'X[6] <= -0.762\\ngini = 0.129\\nsamples = 231\\nvalue = [16, 215]'),\n",
       " Text(0.8012618296529969, 0.48214285714285715, 'X[0] <= -0.791\\ngini = 0.122\\nsamples = 230\\nvalue = [15, 215]'),\n",
       " Text(0.7949526813880127, 0.44642857142857145, 'X[2] <= -0.892\\ngini = 0.115\\nsamples = 229\\nvalue = [14, 215]'),\n",
       " Text(0.7886435331230284, 0.4107142857142857, 'gini = 0.0\\nsamples = 1\\nvalue = [1, 0]'),\n",
       " Text(0.8012618296529969, 0.4107142857142857, 'X[9] <= -0.751\\ngini = 0.108\\nsamples = 228\\nvalue = [13, 215]'),\n",
       " Text(0.7823343848580442, 0.375, 'X[13] <= -1.107\\ngini = 0.07\\nsamples = 194\\nvalue = [7, 187]'),\n",
       " Text(0.7760252365930599, 0.3392857142857143, 'gini = 0.0\\nsamples = 1\\nvalue = [1, 0]'),\n",
       " Text(0.7886435331230284, 0.3392857142857143, 'X[5] <= -1.062\\ngini = 0.06\\nsamples = 193\\nvalue = [6, 187]'),\n",
       " Text(0.7823343848580442, 0.30357142857142855, 'gini = 0.0\\nsamples = 1\\nvalue = [1, 0]'),\n",
       " Text(0.7949526813880127, 0.30357142857142855, 'X[3] <= -0.671\\ngini = 0.051\\nsamples = 192\\nvalue = [5, 187]'),\n",
       " Text(0.7823343848580442, 0.26785714285714285, 'X[0] <= -1.076\\ngini = 0.012\\nsamples = 168\\nvalue = [1, 167]'),\n",
       " Text(0.7760252365930599, 0.23214285714285715, 'X[2] <= -0.593\\ngini = 0.32\\nsamples = 5\\nvalue = [1, 4]'),\n",
       " Text(0.7697160883280757, 0.19642857142857142, 'gini = 0.0\\nsamples = 4\\nvalue = [0, 4]'),\n",
       " Text(0.7823343848580442, 0.19642857142857142, 'gini = 0.0\\nsamples = 1\\nvalue = [1, 0]'),\n",
       " Text(0.7886435331230284, 0.23214285714285715, 'gini = 0.0\\nsamples = 163\\nvalue = [0, 163]'),\n",
       " Text(0.807570977917981, 0.26785714285714285, 'X[13] <= -0.821\\ngini = 0.278\\nsamples = 24\\nvalue = [4, 20]'),\n",
       " Text(0.8012618296529969, 0.23214285714285715, 'X[6] <= -0.921\\ngini = 0.091\\nsamples = 21\\nvalue = [1, 20]'),\n",
       " Text(0.7949526813880127, 0.19642857142857142, 'gini = 0.0\\nsamples = 1\\nvalue = [1, 0]'),\n",
       " Text(0.807570977917981, 0.19642857142857142, 'gini = 0.0\\nsamples = 20\\nvalue = [0, 20]'),\n",
       " Text(0.8138801261829653, 0.23214285714285715, 'gini = 0.0\\nsamples = 3\\nvalue = [3, 0]'),\n",
       " Text(0.8201892744479495, 0.375, 'X[10] <= -1.014\\ngini = 0.291\\nsamples = 34\\nvalue = [6, 28]'),\n",
       " Text(0.8138801261829653, 0.3392857142857143, 'X[2] <= -0.219\\ngini = 0.124\\nsamples = 30\\nvalue = [2, 28]'),\n",
       " Text(0.807570977917981, 0.30357142857142855, 'gini = 0.0\\nsamples = 28\\nvalue = [0, 28]'),\n",
       " Text(0.8201892744479495, 0.30357142857142855, 'gini = 0.0\\nsamples = 2\\nvalue = [2, 0]'),\n",
       " Text(0.8264984227129337, 0.3392857142857143, 'gini = 0.0\\nsamples = 4\\nvalue = [4, 0]'),\n",
       " Text(0.807570977917981, 0.44642857142857145, 'gini = 0.0\\nsamples = 1\\nvalue = [1, 0]'),\n",
       " Text(0.8138801261829653, 0.48214285714285715, 'gini = 0.0\\nsamples = 1\\nvalue = [1, 0]'),\n",
       " Text(0.7917981072555205, 0.5535714285714286, 'gini = 0.0\\nsamples = 5\\nvalue = [5, 0]'),\n",
       " Text(0.7981072555205048, 0.5892857142857143, 'gini = 0.0\\nsamples = 7\\nvalue = [7, 0]'),\n",
       " Text(0.804416403785489, 0.625, 'gini = 0.0\\nsamples = 10\\nvalue = [10, 0]'),\n",
       " Text(0.8107255520504731, 0.6607142857142857, 'gini = 0.0\\nsamples = 14\\nvalue = [14, 0]'),\n",
       " Text(0.8170347003154574, 0.6964285714285714, 'gini = 0.0\\nsamples = 23\\nvalue = [23, 0]'),\n",
       " Text(0.8359621451104101, 0.7321428571428571, 'X[11] <= -0.708\\ngini = 0.195\\nsamples = 174\\nvalue = [155, 19]'),\n",
       " Text(0.8296529968454258, 0.6964285714285714, 'gini = 0.0\\nsamples = 150\\nvalue = [150, 0]'),\n",
       " Text(0.8422712933753943, 0.6964285714285714, 'X[1] <= -0.535\\ngini = 0.33\\nsamples = 24\\nvalue = [5, 19]'),\n",
       " Text(0.8359621451104101, 0.6607142857142857, 'gini = 0.0\\nsamples = 19\\nvalue = [0, 19]'),\n",
       " Text(0.8485804416403786, 0.6607142857142857, 'gini = 0.0\\nsamples = 5\\nvalue = [5, 0]'),\n",
       " Text(0.8359621451104101, 0.7678571428571429, 'gini = 0.0\\nsamples = 305\\nvalue = [305, 0]'),\n",
       " Text(0.8548895899053628, 0.8035714285714286, 'X[0] <= -0.756\\ngini = 0.082\\nsamples = 633\\nvalue = [606, 27]'),\n",
       " Text(0.8485804416403786, 0.7678571428571429, 'gini = 0.0\\nsamples = 604\\nvalue = [604, 0]'),\n",
       " Text(0.861198738170347, 0.7678571428571429, 'X[14] <= 0.955\\ngini = 0.128\\nsamples = 29\\nvalue = [2, 27]'),\n",
       " Text(0.8548895899053628, 0.7321428571428571, 'gini = 0.0\\nsamples = 27\\nvalue = [0, 27]'),\n",
       " Text(0.8675078864353313, 0.7321428571428571, 'gini = 0.0\\nsamples = 2\\nvalue = [2, 0]'),\n",
       " Text(0.8990536277602523, 0.8392857142857143, 'X[14] <= 0.829\\ngini = 0.159\\nsamples = 666\\nvalue = [58, 608]'),\n",
       " Text(0.8927444794952681, 0.8035714285714286, 'X[15] <= 1.263\\ngini = 0.076\\nsamples = 633\\nvalue = [25, 608]'),\n",
       " Text(0.886435331230284, 0.7678571428571429, 'X[13] <= 2.252\\ngini = 0.016\\nsamples = 613\\nvalue = [5, 608]'),\n",
       " Text(0.8801261829652997, 0.7321428571428571, 'gini = 0.0\\nsamples = 608\\nvalue = [0, 608]'),\n",
       " Text(0.8927444794952681, 0.7321428571428571, 'gini = 0.0\\nsamples = 5\\nvalue = [5, 0]'),\n",
       " Text(0.8990536277602523, 0.7678571428571429, 'gini = 0.0\\nsamples = 20\\nvalue = [20, 0]'),\n",
       " Text(0.9053627760252366, 0.8035714285714286, 'gini = 0.0\\nsamples = 33\\nvalue = [33, 0]'),\n",
       " Text(0.8832807570977917, 0.875, 'gini = 0.0\\nsamples = 490\\nvalue = [490, 0]'),\n",
       " Text(0.9621451104100947, 0.9107142857142857, 'X[11] <= -0.689\\ngini = 0.197\\nsamples = 3094\\nvalue = [2751, 343]'),\n",
       " Text(0.9558359621451105, 0.875, 'X[9] <= -0.079\\ngini = 0.402\\nsamples = 1231\\nvalue = [888, 343]'),\n",
       " Text(0.9495268138801262, 0.8392857142857143, 'X[10] <= 0.115\\ngini = 0.496\\nsamples = 753\\nvalue = [410, 343]'),\n",
       " Text(0.9242902208201893, 0.8035714285714286, 'X[8] <= -0.847\\ngini = 0.457\\nsamples = 464\\nvalue = [164, 300]'),\n",
       " Text(0.9116719242902208, 0.7678571428571429, 'X[11] <= -2.367\\ngini = 0.391\\nsamples = 402\\nvalue = [107, 295]'),\n",
       " Text(0.9053627760252366, 0.7321428571428571, 'gini = 0.0\\nsamples = 16\\nvalue = [16, 0]'),\n",
       " Text(0.917981072555205, 0.7321428571428571, 'X[7] <= 0.695\\ngini = 0.36\\nsamples = 386\\nvalue = [91, 295]'),\n",
       " Text(0.9116719242902208, 0.6964285714285714, 'X[17] <= 1.587\\ngini = 0.328\\nsamples = 372\\nvalue = [77, 295]'),\n",
       " Text(0.9053627760252366, 0.6607142857142857, 'X[14] <= 0.773\\ngini = 0.299\\nsamples = 361\\nvalue = [66, 295]'),\n",
       " Text(0.8990536277602523, 0.625, 'X[14] <= -1.31\\ngini = 0.278\\nsamples = 354\\nvalue = [59, 295]'),\n",
       " Text(0.8927444794952681, 0.5892857142857143, 'gini = 0.0\\nsamples = 5\\nvalue = [5, 0]'),\n",
       " Text(0.9053627760252366, 0.5892857142857143, 'X[3] <= -1.375\\ngini = 0.262\\nsamples = 349\\nvalue = [54, 295]'),\n",
       " Text(0.8990536277602523, 0.5535714285714286, 'gini = 0.0\\nsamples = 3\\nvalue = [3, 0]'),\n",
       " Text(0.9116719242902208, 0.5535714285714286, 'X[3] <= 0.172\\ngini = 0.251\\nsamples = 346\\nvalue = [51, 295]'),\n",
       " Text(0.9053627760252366, 0.5178571428571429, 'X[1] <= -1.59\\ngini = 0.241\\nsamples = 343\\nvalue = [48, 295]'),\n",
       " Text(0.8990536277602523, 0.48214285714285715, 'gini = 0.0\\nsamples = 2\\nvalue = [2, 0]'),\n",
       " Text(0.9116719242902208, 0.48214285714285715, 'X[2] <= -0.892\\ngini = 0.233\\nsamples = 341\\nvalue = [46, 295]'),\n",
       " Text(0.9053627760252366, 0.44642857142857145, 'gini = 0.0\\nsamples = 2\\nvalue = [2, 0]'),\n",
       " Text(0.917981072555205, 0.44642857142857145, 'X[1] <= 0.676\\ngini = 0.226\\nsamples = 339\\nvalue = [44, 295]'),\n",
       " Text(0.8722397476340694, 0.4107142857142857, 'X[1] <= -0.286\\ngini = 0.273\\nsamples = 245\\nvalue = [40, 205]'),\n",
       " Text(0.8501577287066246, 0.375, 'X[10] <= -1.498\\ngini = 0.198\\nsamples = 179\\nvalue = [20, 159]'),\n",
       " Text(0.8438485804416404, 0.3392857142857143, 'gini = 0.0\\nsamples = 2\\nvalue = [2, 0]'),\n",
       " Text(0.8564668769716088, 0.3392857142857143, 'X[15] <= -1.521\\ngini = 0.183\\nsamples = 177\\nvalue = [18, 159]'),\n",
       " Text(0.8501577287066246, 0.30357142857142855, 'gini = 0.0\\nsamples = 2\\nvalue = [2, 0]'),\n",
       " Text(0.862776025236593, 0.30357142857142855, 'X[5] <= -0.842\\ngini = 0.166\\nsamples = 175\\nvalue = [16, 159]'),\n",
       " Text(0.8564668769716088, 0.26785714285714285, 'X[16] <= -1.075\\ngini = 0.158\\nsamples = 174\\nvalue = [15, 159]'),\n",
       " Text(0.8501577287066246, 0.23214285714285715, 'gini = 0.0\\nsamples = 1\\nvalue = [1, 0]'),\n",
       " Text(0.862776025236593, 0.23214285714285715, 'X[13] <= -0.867\\ngini = 0.149\\nsamples = 173\\nvalue = [14, 159]'),\n",
       " Text(0.8375394321766562, 0.19642857142857142, 'X[16] <= -1.009\\ngini = 0.088\\nsamples = 130\\nvalue = [6, 124]'),\n",
       " Text(0.831230283911672, 0.16071428571428573, 'gini = 0.0\\nsamples = 1\\nvalue = [1, 0]'),\n",
       " Text(0.8438485804416404, 0.16071428571428573, 'X[15] <= 0.915\\ngini = 0.075\\nsamples = 129\\nvalue = [5, 124]'),\n",
       " Text(0.831230283911672, 0.125, 'X[16] <= -0.541\\ngini = 0.033\\nsamples = 118\\nvalue = [2, 116]'),\n",
       " Text(0.8249211356466877, 0.08928571428571429, 'X[17] <= 1.216\\ngini = 0.017\\nsamples = 117\\nvalue = [1, 116]'),\n",
       " Text(0.8186119873817035, 0.05357142857142857, 'gini = 0.0\\nsamples = 107\\nvalue = [0, 107]'),\n",
       " Text(0.831230283911672, 0.05357142857142857, 'X[12] <= 0.465\\ngini = 0.18\\nsamples = 10\\nvalue = [1, 9]'),\n",
       " Text(0.8249211356466877, 0.017857142857142856, 'gini = 0.0\\nsamples = 9\\nvalue = [0, 9]'),\n",
       " Text(0.8375394321766562, 0.017857142857142856, 'gini = 0.0\\nsamples = 1\\nvalue = [1, 0]'),\n",
       " Text(0.8375394321766562, 0.08928571428571429, 'gini = 0.0\\nsamples = 1\\nvalue = [1, 0]'),\n",
       " Text(0.8564668769716088, 0.125, 'X[11] <= -1.605\\ngini = 0.397\\nsamples = 11\\nvalue = [3, 8]'),\n",
       " Text(0.8501577287066246, 0.08928571428571429, 'gini = 0.0\\nsamples = 3\\nvalue = [3, 0]'),\n",
       " Text(0.862776025236593, 0.08928571428571429, 'gini = 0.0\\nsamples = 8\\nvalue = [0, 8]'),\n",
       " Text(0.88801261829653, 0.19642857142857142, 'X[13] <= -0.847\\ngini = 0.303\\nsamples = 43\\nvalue = [8, 35]'),\n",
       " Text(0.8817034700315457, 0.16071428571428573, 'gini = 0.0\\nsamples = 3\\nvalue = [3, 0]'),\n",
       " Text(0.8943217665615142, 0.16071428571428573, 'X[3] <= -0.783\\ngini = 0.219\\nsamples = 40\\nvalue = [5, 35]'),\n",
       " Text(0.8817034700315457, 0.125, 'X[5] <= -1.062\\ngini = 0.105\\nsamples = 36\\nvalue = [2, 34]'),\n",
       " Text(0.8753943217665615, 0.08928571428571429, 'gini = 0.0\\nsamples = 1\\nvalue = [1, 0]'),\n",
       " Text(0.88801261829653, 0.08928571428571429, 'X[2] <= -0.593\\ngini = 0.056\\nsamples = 35\\nvalue = [1, 34]'),\n",
       " Text(0.8817034700315457, 0.05357142857142857, 'gini = 0.0\\nsamples = 1\\nvalue = [1, 0]'),\n",
       " Text(0.8943217665615142, 0.05357142857142857, 'gini = 0.0\\nsamples = 34\\nvalue = [0, 34]'),\n",
       " Text(0.9069400630914827, 0.125, 'X[14] <= -1.092\\ngini = 0.375\\nsamples = 4\\nvalue = [3, 1]'),\n",
       " Text(0.9006309148264984, 0.08928571428571429, 'gini = 0.0\\nsamples = 1\\nvalue = [0, 1]'),\n",
       " Text(0.9132492113564669, 0.08928571428571429, 'gini = 0.0\\nsamples = 3\\nvalue = [3, 0]'),\n",
       " Text(0.8690851735015773, 0.26785714285714285, 'gini = 0.0\\nsamples = 1\\nvalue = [1, 0]'),\n",
       " Text(0.8943217665615142, 0.375, 'X[3] <= -1.1\\ngini = 0.422\\nsamples = 66\\nvalue = [20, 46]'),\n",
       " Text(0.88801261829653, 0.3392857142857143, 'gini = 0.0\\nsamples = 9\\nvalue = [9, 0]'),\n",
       " Text(0.9006309148264984, 0.3392857142857143, 'X[7] <= -1.172\\ngini = 0.311\\nsamples = 57\\nvalue = [11, 46]'),\n",
       " Text(0.88801261829653, 0.30357142857142855, 'X[10] <= -1.589\\ngini = 0.397\\nsamples = 11\\nvalue = [8, 3]'),\n",
       " Text(0.8817034700315457, 0.26785714285714285, 'gini = 0.0\\nsamples = 3\\nvalue = [0, 3]'),\n",
       " Text(0.8943217665615142, 0.26785714285714285, 'gini = 0.0\\nsamples = 8\\nvalue = [8, 0]'),\n",
       " Text(0.9132492113564669, 0.30357142857142855, 'X[17] <= 1.216\\ngini = 0.122\\nsamples = 46\\nvalue = [3, 43]'),\n",
       " Text(0.9069400630914827, 0.26785714285714285, 'X[10] <= 0.028\\ngini = 0.044\\nsamples = 44\\nvalue = [1, 43]'),\n",
       " Text(0.9006309148264984, 0.23214285714285715, 'gini = 0.0\\nsamples = 43\\nvalue = [0, 43]'),\n",
       " Text(0.9132492113564669, 0.23214285714285715, 'gini = 0.0\\nsamples = 1\\nvalue = [1, 0]'),\n",
       " Text(0.919558359621451, 0.26785714285714285, 'gini = 0.0\\nsamples = 2\\nvalue = [2, 0]'),\n",
       " Text(0.9637223974763407, 0.4107142857142857, 'X[3] <= -0.346\\ngini = 0.081\\nsamples = 94\\nvalue = [4, 90]'),\n",
       " Text(0.9574132492113565, 0.375, 'X[16] <= -0.474\\ngini = 0.062\\nsamples = 93\\nvalue = [3, 90]'),\n",
       " Text(0.9511041009463722, 0.3392857142857143, 'X[11] <= -2.3\\ngini = 0.043\\nsamples = 92\\nvalue = [2, 90]'),\n",
       " Text(0.9384858044164038, 0.30357142857142855, 'X[15] <= -0.129\\ngini = 0.32\\nsamples = 5\\nvalue = [1, 4]'),\n",
       " Text(0.9321766561514195, 0.26785714285714285, 'gini = 0.0\\nsamples = 1\\nvalue = [1, 0]'),\n",
       " Text(0.944794952681388, 0.26785714285714285, 'gini = 0.0\\nsamples = 4\\nvalue = [0, 4]'),\n",
       " Text(0.9637223974763407, 0.30357142857142855, 'X[12] <= 1.292\\ngini = 0.023\\nsamples = 87\\nvalue = [1, 86]'),\n",
       " Text(0.9574132492113565, 0.26785714285714285, 'gini = 0.0\\nsamples = 76\\nvalue = [0, 76]'),\n",
       " Text(0.9700315457413249, 0.26785714285714285, 'X[6] <= -0.956\\ngini = 0.165\\nsamples = 11\\nvalue = [1, 10]'),\n",
       " Text(0.9637223974763407, 0.23214285714285715, 'gini = 0.0\\nsamples = 10\\nvalue = [0, 10]'),\n",
       " Text(0.9763406940063092, 0.23214285714285715, 'gini = 0.0\\nsamples = 1\\nvalue = [1, 0]'),\n",
       " Text(0.9637223974763407, 0.3392857142857143, 'gini = 0.0\\nsamples = 1\\nvalue = [1, 0]'),\n",
       " Text(0.9700315457413249, 0.375, 'gini = 0.0\\nsamples = 1\\nvalue = [1, 0]'),\n",
       " Text(0.917981072555205, 0.5178571428571429, 'gini = 0.0\\nsamples = 3\\nvalue = [3, 0]'),\n",
       " Text(0.9116719242902208, 0.625, 'gini = 0.0\\nsamples = 7\\nvalue = [7, 0]'),\n",
       " Text(0.917981072555205, 0.6607142857142857, 'gini = 0.0\\nsamples = 11\\nvalue = [11, 0]'),\n",
       " Text(0.9242902208201893, 0.6964285714285714, 'gini = 0.0\\nsamples = 14\\nvalue = [14, 0]'),\n",
       " Text(0.9369085173501577, 0.7678571428571429, 'X[10] <= -0.017\\ngini = 0.148\\nsamples = 62\\nvalue = [57, 5]'),\n",
       " Text(0.9305993690851735, 0.7321428571428571, 'gini = 0.0\\nsamples = 57\\nvalue = [57, 0]'),\n",
       " Text(0.943217665615142, 0.7321428571428571, 'gini = 0.0\\nsamples = 5\\nvalue = [0, 5]'),\n",
       " Text(0.9747634069400631, 0.8035714285714286, 'X[11] <= -0.708\\ngini = 0.253\\nsamples = 289\\nvalue = [246, 43]'),\n",
       " Text(0.9621451104100947, 0.7678571428571429, 'X[1] <= -1.602\\ngini = 0.055\\nsamples = 246\\nvalue = [239, 7]'),\n",
       " Text(0.9558359621451105, 0.7321428571428571, 'gini = 0.0\\nsamples = 7\\nvalue = [0, 7]'),\n",
       " Text(0.9684542586750788, 0.7321428571428571, 'gini = 0.0\\nsamples = 239\\nvalue = [239, 0]'),\n",
       " Text(0.9873817034700315, 0.7678571428571429, 'X[12] <= -0.363\\ngini = 0.273\\nsamples = 43\\nvalue = [7, 36]'),\n",
       " Text(0.9810725552050473, 0.7321428571428571, 'gini = 0.0\\nsamples = 36\\nvalue = [0, 36]'),\n",
       " Text(0.9936908517350158, 0.7321428571428571, 'gini = 0.0\\nsamples = 7\\nvalue = [7, 0]'),\n",
       " Text(0.9621451104100947, 0.8392857142857143, 'gini = 0.0\\nsamples = 478\\nvalue = [478, 0]'),\n",
       " Text(0.9684542586750788, 0.875, 'gini = 0.0\\nsamples = 1863\\nvalue = [1863, 0]')]"
      ]
     },
     "execution_count": 154,
     "metadata": {},
     "output_type": "execute_result"
    },
    {
     "data": {
      "image/png": "[encoded data removed]",
      "text/plain": [
       "<Figure size 432x288 with 1 Axes>"
      ]
     },
     "metadata": {
      "needs_background": "light"
     },
     "output_type": "display_data"
    }
   ],
   "source": [
    "tree.plot_tree(regr.fit(x_train,y_train))"
   ]
  },
  {
   "cell_type": "markdown",
   "id": "70f5cf20",
   "metadata": {},
   "source": [
    "# TRAIN DATA "
   ]
  },
  {
   "cell_type": "code",
   "execution_count": 155,
   "id": "21f0f2c0",
   "metadata": {},
   "outputs": [
    {
     "data": {
      "image/png": "[encoded data removed]",
      "text/plain": [
       "<Figure size 432x288 with 1 Axes>"
      ]
     },
     "metadata": {
      "needs_background": "light"
     },
     "output_type": "display_data"
    }
   ],
   "source": [
    "plt.figure()\n",
    "plt.scatter(y_train,test_train,s=30,edgecolor='black',\n",
    "           c='darkorange',label='pred vs actual train')\n",
    "plt.xlabel('y_train')\n",
    "plt.ylabel('y_estimated train')\n",
    "plt.title('decision tree regression tree')\n",
    "plt.legend()\n",
    "plt.show()"
   ]
  },
  {
   "cell_type": "markdown",
   "id": "c41004ed",
   "metadata": {},
   "source": [
    "# RANDOM SEARCH(RANDOM FOREST)"
   ]
  },
  {
   "cell_type": "code",
   "execution_count": 156,
   "id": "e68f1465",
   "metadata": {},
   "outputs": [],
   "source": [
    "from sklearn.model_selection import train_test_split"
   ]
  },
  {
   "cell_type": "code",
   "execution_count": 157,
   "id": "17df4443",
   "metadata": {},
   "outputs": [],
   "source": [
    "x_train,x_test,y_train,y_test=train_test_split(x,y,test_size=0.20,random_state=44)"
   ]
  },
  {
   "cell_type": "code",
   "execution_count": 158,
   "id": "62a2a55a",
   "metadata": {},
   "outputs": [],
   "source": [
    "from sklearn.model_selection import RandomizedSearchCV\n",
    "from sklearn import datasets\n",
    "from sklearn.ensemble import RandomForestClassifier"
   ]
  },
  {
   "cell_type": "code",
   "execution_count": 159,
   "id": "86db07c3",
   "metadata": {},
   "outputs": [],
   "source": [
    "model_params={\n",
    "    'n_estimators':[50,150,250],\n",
    "    'max_features':['sqrt',0.25,0.5,0,75,1.0],\n",
    "    'min_samples_split':[2,4,6]\n",
    "}"
   ]
  },
  {
   "cell_type": "code",
   "execution_count": 160,
   "id": "dcc28f80",
   "metadata": {},
   "outputs": [
    {
     "name": "stderr",
     "output_type": "stream",
     "text": [
      "C:\\Users\\Bhuvaneshvaran k\\AppData\\Local\\Temp\\ipykernel_16396\\2975544097.py:4: DataConversionWarning: A column-vector y was passed when a 1d array was expected. Please change the shape of y to (n_samples,), for example using ravel().\n",
      "  rf_model.fit(x_train,y_train)\n"
     ]
    },
    {
     "data": {
      "text/plain": [
       "RandomForestClassifier(random_state=1)"
      ]
     },
     "execution_count": 160,
     "metadata": {},
     "output_type": "execute_result"
    }
   ],
   "source": [
    "#model building with grid search\n",
    "# define rf \n",
    "rf_model=RandomForestClassifier(random_state=1)\n",
    "rf_model.fit(x_train,y_train)"
   ]
  },
  {
   "cell_type": "code",
   "execution_count": 161,
   "id": "3484d7bc",
   "metadata": {},
   "outputs": [],
   "source": [
    "#set up grid search\n",
    "clf=RandomizedSearchCV(rf_model,model_params,cv=5)"
   ]
  },
  {
   "cell_type": "code",
   "execution_count": 162,
   "id": "8c8dade2",
   "metadata": {},
   "outputs": [
    {
     "name": "stderr",
     "output_type": "stream",
     "text": [
      "C:\\Users\\Bhuvaneshvaran k\\anaconda3\\lib\\site-packages\\sklearn\\model_selection\\_validation.py:680: DataConversionWarning: A column-vector y was passed when a 1d array was expected. Please change the shape of y to (n_samples,), for example using ravel().\n",
      "  estimator.fit(X_train, y_train, **fit_params)\n",
      "C:\\Users\\Bhuvaneshvaran k\\anaconda3\\lib\\site-packages\\sklearn\\model_selection\\_validation.py:680: DataConversionWarning: A column-vector y was passed when a 1d array was expected. Please change the shape of y to (n_samples,), for example using ravel().\n",
      "  estimator.fit(X_train, y_train, **fit_params)\n",
      "C:\\Users\\Bhuvaneshvaran k\\anaconda3\\lib\\site-packages\\sklearn\\model_selection\\_validation.py:680: DataConversionWarning: A column-vector y was passed when a 1d array was expected. Please change the shape of y to (n_samples,), for example using ravel().\n",
      "  estimator.fit(X_train, y_train, **fit_params)\n",
      "C:\\Users\\Bhuvaneshvaran k\\anaconda3\\lib\\site-packages\\sklearn\\model_selection\\_validation.py:680: DataConversionWarning: A column-vector y was passed when a 1d array was expected. Please change the shape of y to (n_samples,), for example using ravel().\n",
      "  estimator.fit(X_train, y_train, **fit_params)\n",
      "C:\\Users\\Bhuvaneshvaran k\\anaconda3\\lib\\site-packages\\sklearn\\model_selection\\_validation.py:680: DataConversionWarning: A column-vector y was passed when a 1d array was expected. Please change the shape of y to (n_samples,), for example using ravel().\n",
      "  estimator.fit(X_train, y_train, **fit_params)\n",
      "C:\\Users\\Bhuvaneshvaran k\\anaconda3\\lib\\site-packages\\sklearn\\model_selection\\_validation.py:680: DataConversionWarning: A column-vector y was passed when a 1d array was expected. Please change the shape of y to (n_samples,), for example using ravel().\n",
      "  estimator.fit(X_train, y_train, **fit_params)\n",
      "C:\\Users\\Bhuvaneshvaran k\\anaconda3\\lib\\site-packages\\sklearn\\model_selection\\_validation.py:680: DataConversionWarning: A column-vector y was passed when a 1d array was expected. Please change the shape of y to (n_samples,), for example using ravel().\n",
      "  estimator.fit(X_train, y_train, **fit_params)\n",
      "C:\\Users\\Bhuvaneshvaran k\\anaconda3\\lib\\site-packages\\sklearn\\model_selection\\_validation.py:680: DataConversionWarning: A column-vector y was passed when a 1d array was expected. Please change the shape of y to (n_samples,), for example using ravel().\n",
      "  estimator.fit(X_train, y_train, **fit_params)\n",
      "C:\\Users\\Bhuvaneshvaran k\\anaconda3\\lib\\site-packages\\sklearn\\model_selection\\_validation.py:680: DataConversionWarning: A column-vector y was passed when a 1d array was expected. Please change the shape of y to (n_samples,), for example using ravel().\n",
      "  estimator.fit(X_train, y_train, **fit_params)\n",
      "C:\\Users\\Bhuvaneshvaran k\\anaconda3\\lib\\site-packages\\sklearn\\model_selection\\_validation.py:680: DataConversionWarning: A column-vector y was passed when a 1d array was expected. Please change the shape of y to (n_samples,), for example using ravel().\n",
      "  estimator.fit(X_train, y_train, **fit_params)\n",
      "C:\\Users\\Bhuvaneshvaran k\\anaconda3\\lib\\site-packages\\sklearn\\model_selection\\_validation.py:680: DataConversionWarning: A column-vector y was passed when a 1d array was expected. Please change the shape of y to (n_samples,), for example using ravel().\n",
      "  estimator.fit(X_train, y_train, **fit_params)\n",
      "C:\\Users\\Bhuvaneshvaran k\\anaconda3\\lib\\site-packages\\sklearn\\model_selection\\_validation.py:680: DataConversionWarning: A column-vector y was passed when a 1d array was expected. Please change the shape of y to (n_samples,), for example using ravel().\n",
      "  estimator.fit(X_train, y_train, **fit_params)\n",
      "C:\\Users\\Bhuvaneshvaran k\\anaconda3\\lib\\site-packages\\sklearn\\model_selection\\_validation.py:680: DataConversionWarning: A column-vector y was passed when a 1d array was expected. Please change the shape of y to (n_samples,), for example using ravel().\n",
      "  estimator.fit(X_train, y_train, **fit_params)\n",
      "C:\\Users\\Bhuvaneshvaran k\\anaconda3\\lib\\site-packages\\sklearn\\model_selection\\_validation.py:680: DataConversionWarning: A column-vector y was passed when a 1d array was expected. Please change the shape of y to (n_samples,), for example using ravel().\n",
      "  estimator.fit(X_train, y_train, **fit_params)\n",
      "C:\\Users\\Bhuvaneshvaran k\\anaconda3\\lib\\site-packages\\sklearn\\model_selection\\_validation.py:680: DataConversionWarning: A column-vector y was passed when a 1d array was expected. Please change the shape of y to (n_samples,), for example using ravel().\n",
      "  estimator.fit(X_train, y_train, **fit_params)\n",
      "C:\\Users\\Bhuvaneshvaran k\\anaconda3\\lib\\site-packages\\sklearn\\model_selection\\_validation.py:680: DataConversionWarning: A column-vector y was passed when a 1d array was expected. Please change the shape of y to (n_samples,), for example using ravel().\n",
      "  estimator.fit(X_train, y_train, **fit_params)\n",
      "C:\\Users\\Bhuvaneshvaran k\\anaconda3\\lib\\site-packages\\sklearn\\model_selection\\_validation.py:680: DataConversionWarning: A column-vector y was passed when a 1d array was expected. Please change the shape of y to (n_samples,), for example using ravel().\n",
      "  estimator.fit(X_train, y_train, **fit_params)\n",
      "C:\\Users\\Bhuvaneshvaran k\\anaconda3\\lib\\site-packages\\sklearn\\model_selection\\_validation.py:680: DataConversionWarning: A column-vector y was passed when a 1d array was expected. Please change the shape of y to (n_samples,), for example using ravel().\n",
      "  estimator.fit(X_train, y_train, **fit_params)\n",
      "C:\\Users\\Bhuvaneshvaran k\\anaconda3\\lib\\site-packages\\sklearn\\model_selection\\_validation.py:680: DataConversionWarning: A column-vector y was passed when a 1d array was expected. Please change the shape of y to (n_samples,), for example using ravel().\n",
      "  estimator.fit(X_train, y_train, **fit_params)\n",
      "C:\\Users\\Bhuvaneshvaran k\\anaconda3\\lib\\site-packages\\sklearn\\model_selection\\_validation.py:680: DataConversionWarning: A column-vector y was passed when a 1d array was expected. Please change the shape of y to (n_samples,), for example using ravel().\n",
      "  estimator.fit(X_train, y_train, **fit_params)\n",
      "C:\\Users\\Bhuvaneshvaran k\\anaconda3\\lib\\site-packages\\sklearn\\model_selection\\_validation.py:680: DataConversionWarning: A column-vector y was passed when a 1d array was expected. Please change the shape of y to (n_samples,), for example using ravel().\n",
      "  estimator.fit(X_train, y_train, **fit_params)\n",
      "C:\\Users\\Bhuvaneshvaran k\\anaconda3\\lib\\site-packages\\sklearn\\model_selection\\_validation.py:680: DataConversionWarning: A column-vector y was passed when a 1d array was expected. Please change the shape of y to (n_samples,), for example using ravel().\n",
      "  estimator.fit(X_train, y_train, **fit_params)\n",
      "C:\\Users\\Bhuvaneshvaran k\\anaconda3\\lib\\site-packages\\sklearn\\model_selection\\_validation.py:680: DataConversionWarning: A column-vector y was passed when a 1d array was expected. Please change the shape of y to (n_samples,), for example using ravel().\n",
      "  estimator.fit(X_train, y_train, **fit_params)\n",
      "C:\\Users\\Bhuvaneshvaran k\\anaconda3\\lib\\site-packages\\sklearn\\model_selection\\_validation.py:680: DataConversionWarning: A column-vector y was passed when a 1d array was expected. Please change the shape of y to (n_samples,), for example using ravel().\n",
      "  estimator.fit(X_train, y_train, **fit_params)\n",
      "C:\\Users\\Bhuvaneshvaran k\\anaconda3\\lib\\site-packages\\sklearn\\model_selection\\_validation.py:680: DataConversionWarning: A column-vector y was passed when a 1d array was expected. Please change the shape of y to (n_samples,), for example using ravel().\n",
      "  estimator.fit(X_train, y_train, **fit_params)\n",
      "C:\\Users\\Bhuvaneshvaran k\\anaconda3\\lib\\site-packages\\sklearn\\model_selection\\_validation.py:680: DataConversionWarning: A column-vector y was passed when a 1d array was expected. Please change the shape of y to (n_samples,), for example using ravel().\n",
      "  estimator.fit(X_train, y_train, **fit_params)\n",
      "C:\\Users\\Bhuvaneshvaran k\\anaconda3\\lib\\site-packages\\sklearn\\model_selection\\_validation.py:680: DataConversionWarning: A column-vector y was passed when a 1d array was expected. Please change the shape of y to (n_samples,), for example using ravel().\n",
      "  estimator.fit(X_train, y_train, **fit_params)\n",
      "C:\\Users\\Bhuvaneshvaran k\\anaconda3\\lib\\site-packages\\sklearn\\model_selection\\_validation.py:680: DataConversionWarning: A column-vector y was passed when a 1d array was expected. Please change the shape of y to (n_samples,), for example using ravel().\n",
      "  estimator.fit(X_train, y_train, **fit_params)\n",
      "C:\\Users\\Bhuvaneshvaran k\\anaconda3\\lib\\site-packages\\sklearn\\model_selection\\_validation.py:680: DataConversionWarning: A column-vector y was passed when a 1d array was expected. Please change the shape of y to (n_samples,), for example using ravel().\n",
      "  estimator.fit(X_train, y_train, **fit_params)\n",
      "C:\\Users\\Bhuvaneshvaran k\\anaconda3\\lib\\site-packages\\sklearn\\model_selection\\_validation.py:680: DataConversionWarning: A column-vector y was passed when a 1d array was expected. Please change the shape of y to (n_samples,), for example using ravel().\n",
      "  estimator.fit(X_train, y_train, **fit_params)\n",
      "C:\\Users\\Bhuvaneshvaran k\\anaconda3\\lib\\site-packages\\sklearn\\model_selection\\_validation.py:680: DataConversionWarning: A column-vector y was passed when a 1d array was expected. Please change the shape of y to (n_samples,), for example using ravel().\n",
      "  estimator.fit(X_train, y_train, **fit_params)\n",
      "C:\\Users\\Bhuvaneshvaran k\\anaconda3\\lib\\site-packages\\sklearn\\model_selection\\_validation.py:680: DataConversionWarning: A column-vector y was passed when a 1d array was expected. Please change the shape of y to (n_samples,), for example using ravel().\n",
      "  estimator.fit(X_train, y_train, **fit_params)\n",
      "C:\\Users\\Bhuvaneshvaran k\\anaconda3\\lib\\site-packages\\sklearn\\model_selection\\_validation.py:680: DataConversionWarning: A column-vector y was passed when a 1d array was expected. Please change the shape of y to (n_samples,), for example using ravel().\n",
      "  estimator.fit(X_train, y_train, **fit_params)\n",
      "C:\\Users\\Bhuvaneshvaran k\\anaconda3\\lib\\site-packages\\sklearn\\model_selection\\_validation.py:680: DataConversionWarning: A column-vector y was passed when a 1d array was expected. Please change the shape of y to (n_samples,), for example using ravel().\n",
      "  estimator.fit(X_train, y_train, **fit_params)\n",
      "C:\\Users\\Bhuvaneshvaran k\\anaconda3\\lib\\site-packages\\sklearn\\model_selection\\_validation.py:680: DataConversionWarning: A column-vector y was passed when a 1d array was expected. Please change the shape of y to (n_samples,), for example using ravel().\n",
      "  estimator.fit(X_train, y_train, **fit_params)\n",
      "C:\\Users\\Bhuvaneshvaran k\\anaconda3\\lib\\site-packages\\sklearn\\model_selection\\_validation.py:680: DataConversionWarning: A column-vector y was passed when a 1d array was expected. Please change the shape of y to (n_samples,), for example using ravel().\n",
      "  estimator.fit(X_train, y_train, **fit_params)\n",
      "C:\\Users\\Bhuvaneshvaran k\\anaconda3\\lib\\site-packages\\sklearn\\model_selection\\_validation.py:680: DataConversionWarning: A column-vector y was passed when a 1d array was expected. Please change the shape of y to (n_samples,), for example using ravel().\n",
      "  estimator.fit(X_train, y_train, **fit_params)\n",
      "C:\\Users\\Bhuvaneshvaran k\\anaconda3\\lib\\site-packages\\sklearn\\model_selection\\_validation.py:680: DataConversionWarning: A column-vector y was passed when a 1d array was expected. Please change the shape of y to (n_samples,), for example using ravel().\n",
      "  estimator.fit(X_train, y_train, **fit_params)\n",
      "C:\\Users\\Bhuvaneshvaran k\\anaconda3\\lib\\site-packages\\sklearn\\model_selection\\_validation.py:680: DataConversionWarning: A column-vector y was passed when a 1d array was expected. Please change the shape of y to (n_samples,), for example using ravel().\n",
      "  estimator.fit(X_train, y_train, **fit_params)\n",
      "C:\\Users\\Bhuvaneshvaran k\\anaconda3\\lib\\site-packages\\sklearn\\model_selection\\_validation.py:680: DataConversionWarning: A column-vector y was passed when a 1d array was expected. Please change the shape of y to (n_samples,), for example using ravel().\n",
      "  estimator.fit(X_train, y_train, **fit_params)\n",
      "C:\\Users\\Bhuvaneshvaran k\\anaconda3\\lib\\site-packages\\sklearn\\model_selection\\_validation.py:680: DataConversionWarning: A column-vector y was passed when a 1d array was expected. Please change the shape of y to (n_samples,), for example using ravel().\n",
      "  estimator.fit(X_train, y_train, **fit_params)\n",
      "C:\\Users\\Bhuvaneshvaran k\\anaconda3\\lib\\site-packages\\sklearn\\model_selection\\_validation.py:680: DataConversionWarning: A column-vector y was passed when a 1d array was expected. Please change the shape of y to (n_samples,), for example using ravel().\n",
      "  estimator.fit(X_train, y_train, **fit_params)\n",
      "C:\\Users\\Bhuvaneshvaran k\\anaconda3\\lib\\site-packages\\sklearn\\model_selection\\_validation.py:680: DataConversionWarning: A column-vector y was passed when a 1d array was expected. Please change the shape of y to (n_samples,), for example using ravel().\n",
      "  estimator.fit(X_train, y_train, **fit_params)\n",
      "C:\\Users\\Bhuvaneshvaran k\\anaconda3\\lib\\site-packages\\sklearn\\model_selection\\_validation.py:680: DataConversionWarning: A column-vector y was passed when a 1d array was expected. Please change the shape of y to (n_samples,), for example using ravel().\n",
      "  estimator.fit(X_train, y_train, **fit_params)\n",
      "C:\\Users\\Bhuvaneshvaran k\\anaconda3\\lib\\site-packages\\sklearn\\model_selection\\_validation.py:680: DataConversionWarning: A column-vector y was passed when a 1d array was expected. Please change the shape of y to (n_samples,), for example using ravel().\n",
      "  estimator.fit(X_train, y_train, **fit_params)\n",
      "C:\\Users\\Bhuvaneshvaran k\\anaconda3\\lib\\site-packages\\sklearn\\model_selection\\_validation.py:680: DataConversionWarning: A column-vector y was passed when a 1d array was expected. Please change the shape of y to (n_samples,), for example using ravel().\n",
      "  estimator.fit(X_train, y_train, **fit_params)\n",
      "C:\\Users\\Bhuvaneshvaran k\\anaconda3\\lib\\site-packages\\sklearn\\model_selection\\_validation.py:680: DataConversionWarning: A column-vector y was passed when a 1d array was expected. Please change the shape of y to (n_samples,), for example using ravel().\n",
      "  estimator.fit(X_train, y_train, **fit_params)\n",
      "C:\\Users\\Bhuvaneshvaran k\\anaconda3\\lib\\site-packages\\sklearn\\model_selection\\_validation.py:680: DataConversionWarning: A column-vector y was passed when a 1d array was expected. Please change the shape of y to (n_samples,), for example using ravel().\n",
      "  estimator.fit(X_train, y_train, **fit_params)\n",
      "C:\\Users\\Bhuvaneshvaran k\\anaconda3\\lib\\site-packages\\sklearn\\model_selection\\_validation.py:680: DataConversionWarning: A column-vector y was passed when a 1d array was expected. Please change the shape of y to (n_samples,), for example using ravel().\n",
      "  estimator.fit(X_train, y_train, **fit_params)\n",
      "C:\\Users\\Bhuvaneshvaran k\\anaconda3\\lib\\site-packages\\sklearn\\model_selection\\_validation.py:680: DataConversionWarning: A column-vector y was passed when a 1d array was expected. Please change the shape of y to (n_samples,), for example using ravel().\n",
      "  estimator.fit(X_train, y_train, **fit_params)\n",
      "C:\\Users\\Bhuvaneshvaran k\\anaconda3\\lib\\site-packages\\sklearn\\model_selection\\_validation.py:680: DataConversionWarning: A column-vector y was passed when a 1d array was expected. Please change the shape of y to (n_samples,), for example using ravel().\n",
      "  estimator.fit(X_train, y_train, **fit_params)\n",
      "C:\\Users\\Bhuvaneshvaran k\\anaconda3\\lib\\site-packages\\sklearn\\model_selection\\_validation.py:680: DataConversionWarning: A column-vector y was passed when a 1d array was expected. Please change the shape of y to (n_samples,), for example using ravel().\n",
      "  estimator.fit(X_train, y_train, **fit_params)\n",
      "C:\\Users\\Bhuvaneshvaran k\\anaconda3\\lib\\site-packages\\sklearn\\model_selection\\_validation.py:680: DataConversionWarning: A column-vector y was passed when a 1d array was expected. Please change the shape of y to (n_samples,), for example using ravel().\n",
      "  estimator.fit(X_train, y_train, **fit_params)\n",
      "C:\\Users\\Bhuvaneshvaran k\\anaconda3\\lib\\site-packages\\sklearn\\model_selection\\_validation.py:680: DataConversionWarning: A column-vector y was passed when a 1d array was expected. Please change the shape of y to (n_samples,), for example using ravel().\n",
      "  estimator.fit(X_train, y_train, **fit_params)\n",
      "C:\\Users\\Bhuvaneshvaran k\\anaconda3\\lib\\site-packages\\sklearn\\model_selection\\_validation.py:680: DataConversionWarning: A column-vector y was passed when a 1d array was expected. Please change the shape of y to (n_samples,), for example using ravel().\n",
      "  estimator.fit(X_train, y_train, **fit_params)\n",
      "C:\\Users\\Bhuvaneshvaran k\\anaconda3\\lib\\site-packages\\sklearn\\model_selection\\_validation.py:680: DataConversionWarning: A column-vector y was passed when a 1d array was expected. Please change the shape of y to (n_samples,), for example using ravel().\n",
      "  estimator.fit(X_train, y_train, **fit_params)\n",
      "C:\\Users\\Bhuvaneshvaran k\\anaconda3\\lib\\site-packages\\sklearn\\model_selection\\_validation.py:680: DataConversionWarning: A column-vector y was passed when a 1d array was expected. Please change the shape of y to (n_samples,), for example using ravel().\n",
      "  estimator.fit(X_train, y_train, **fit_params)\n",
      "C:\\Users\\Bhuvaneshvaran k\\anaconda3\\lib\\site-packages\\sklearn\\model_selection\\_validation.py:680: DataConversionWarning: A column-vector y was passed when a 1d array was expected. Please change the shape of y to (n_samples,), for example using ravel().\n",
      "  estimator.fit(X_train, y_train, **fit_params)\n",
      "C:\\Users\\Bhuvaneshvaran k\\anaconda3\\lib\\site-packages\\sklearn\\model_selection\\_validation.py:680: DataConversionWarning: A column-vector y was passed when a 1d array was expected. Please change the shape of y to (n_samples,), for example using ravel().\n",
      "  estimator.fit(X_train, y_train, **fit_params)\n",
      "C:\\Users\\Bhuvaneshvaran k\\anaconda3\\lib\\site-packages\\sklearn\\model_selection\\_validation.py:680: DataConversionWarning: A column-vector y was passed when a 1d array was expected. Please change the shape of y to (n_samples,), for example using ravel().\n",
      "  estimator.fit(X_train, y_train, **fit_params)\n",
      "C:\\Users\\Bhuvaneshvaran k\\anaconda3\\lib\\site-packages\\sklearn\\model_selection\\_validation.py:680: DataConversionWarning: A column-vector y was passed when a 1d array was expected. Please change the shape of y to (n_samples,), for example using ravel().\n",
      "  estimator.fit(X_train, y_train, **fit_params)\n",
      "C:\\Users\\Bhuvaneshvaran k\\anaconda3\\lib\\site-packages\\sklearn\\model_selection\\_validation.py:680: DataConversionWarning: A column-vector y was passed when a 1d array was expected. Please change the shape of y to (n_samples,), for example using ravel().\n",
      "  estimator.fit(X_train, y_train, **fit_params)\n",
      "C:\\Users\\Bhuvaneshvaran k\\anaconda3\\lib\\site-packages\\sklearn\\model_selection\\_validation.py:680: DataConversionWarning: A column-vector y was passed when a 1d array was expected. Please change the shape of y to (n_samples,), for example using ravel().\n",
      "  estimator.fit(X_train, y_train, **fit_params)\n",
      "C:\\Users\\Bhuvaneshvaran k\\anaconda3\\lib\\site-packages\\sklearn\\model_selection\\_validation.py:680: DataConversionWarning: A column-vector y was passed when a 1d array was expected. Please change the shape of y to (n_samples,), for example using ravel().\n",
      "  estimator.fit(X_train, y_train, **fit_params)\n",
      "C:\\Users\\Bhuvaneshvaran k\\anaconda3\\lib\\site-packages\\sklearn\\model_selection\\_validation.py:680: DataConversionWarning: A column-vector y was passed when a 1d array was expected. Please change the shape of y to (n_samples,), for example using ravel().\n",
      "  estimator.fit(X_train, y_train, **fit_params)\n",
      "C:\\Users\\Bhuvaneshvaran k\\anaconda3\\lib\\site-packages\\sklearn\\model_selection\\_validation.py:680: DataConversionWarning: A column-vector y was passed when a 1d array was expected. Please change the shape of y to (n_samples,), for example using ravel().\n",
      "  estimator.fit(X_train, y_train, **fit_params)\n",
      "C:\\Users\\Bhuvaneshvaran k\\anaconda3\\lib\\site-packages\\sklearn\\model_selection\\_validation.py:680: DataConversionWarning: A column-vector y was passed when a 1d array was expected. Please change the shape of y to (n_samples,), for example using ravel().\n",
      "  estimator.fit(X_train, y_train, **fit_params)\n",
      "C:\\Users\\Bhuvaneshvaran k\\anaconda3\\lib\\site-packages\\sklearn\\model_selection\\_validation.py:680: DataConversionWarning: A column-vector y was passed when a 1d array was expected. Please change the shape of y to (n_samples,), for example using ravel().\n",
      "  estimator.fit(X_train, y_train, **fit_params)\n",
      "C:\\Users\\Bhuvaneshvaran k\\anaconda3\\lib\\site-packages\\sklearn\\model_selection\\_validation.py:680: DataConversionWarning: A column-vector y was passed when a 1d array was expected. Please change the shape of y to (n_samples,), for example using ravel().\n",
      "  estimator.fit(X_train, y_train, **fit_params)\n",
      "C:\\Users\\Bhuvaneshvaran k\\anaconda3\\lib\\site-packages\\sklearn\\model_selection\\_validation.py:680: DataConversionWarning: A column-vector y was passed when a 1d array was expected. Please change the shape of y to (n_samples,), for example using ravel().\n",
      "  estimator.fit(X_train, y_train, **fit_params)\n",
      "C:\\Users\\Bhuvaneshvaran k\\anaconda3\\lib\\site-packages\\sklearn\\model_selection\\_validation.py:680: DataConversionWarning: A column-vector y was passed when a 1d array was expected. Please change the shape of y to (n_samples,), for example using ravel().\n",
      "  estimator.fit(X_train, y_train, **fit_params)\n",
      "C:\\Users\\Bhuvaneshvaran k\\anaconda3\\lib\\site-packages\\sklearn\\model_selection\\_validation.py:680: DataConversionWarning: A column-vector y was passed when a 1d array was expected. Please change the shape of y to (n_samples,), for example using ravel().\n",
      "  estimator.fit(X_train, y_train, **fit_params)\n",
      "C:\\Users\\Bhuvaneshvaran k\\anaconda3\\lib\\site-packages\\sklearn\\model_selection\\_validation.py:680: DataConversionWarning: A column-vector y was passed when a 1d array was expected. Please change the shape of y to (n_samples,), for example using ravel().\n",
      "  estimator.fit(X_train, y_train, **fit_params)\n",
      "C:\\Users\\Bhuvaneshvaran k\\anaconda3\\lib\\site-packages\\sklearn\\model_selection\\_validation.py:680: DataConversionWarning: A column-vector y was passed when a 1d array was expected. Please change the shape of y to (n_samples,), for example using ravel().\n",
      "  estimator.fit(X_train, y_train, **fit_params)\n",
      "C:\\Users\\Bhuvaneshvaran k\\anaconda3\\lib\\site-packages\\sklearn\\model_selection\\_validation.py:680: DataConversionWarning: A column-vector y was passed when a 1d array was expected. Please change the shape of y to (n_samples,), for example using ravel().\n",
      "  estimator.fit(X_train, y_train, **fit_params)\n",
      "C:\\Users\\Bhuvaneshvaran k\\anaconda3\\lib\\site-packages\\sklearn\\model_selection\\_validation.py:680: DataConversionWarning: A column-vector y was passed when a 1d array was expected. Please change the shape of y to (n_samples,), for example using ravel().\n",
      "  estimator.fit(X_train, y_train, **fit_params)\n",
      "C:\\Users\\Bhuvaneshvaran k\\anaconda3\\lib\\site-packages\\sklearn\\model_selection\\_validation.py:680: DataConversionWarning: A column-vector y was passed when a 1d array was expected. Please change the shape of y to (n_samples,), for example using ravel().\n",
      "  estimator.fit(X_train, y_train, **fit_params)\n",
      "C:\\Users\\Bhuvaneshvaran k\\anaconda3\\lib\\site-packages\\sklearn\\model_selection\\_validation.py:680: DataConversionWarning: A column-vector y was passed when a 1d array was expected. Please change the shape of y to (n_samples,), for example using ravel().\n",
      "  estimator.fit(X_train, y_train, **fit_params)\n",
      "C:\\Users\\Bhuvaneshvaran k\\anaconda3\\lib\\site-packages\\sklearn\\model_selection\\_validation.py:680: DataConversionWarning: A column-vector y was passed when a 1d array was expected. Please change the shape of y to (n_samples,), for example using ravel().\n",
      "  estimator.fit(X_train, y_train, **fit_params)\n",
      "C:\\Users\\Bhuvaneshvaran k\\anaconda3\\lib\\site-packages\\sklearn\\model_selection\\_validation.py:680: DataConversionWarning: A column-vector y was passed when a 1d array was expected. Please change the shape of y to (n_samples,), for example using ravel().\n",
      "  estimator.fit(X_train, y_train, **fit_params)\n",
      "C:\\Users\\Bhuvaneshvaran k\\anaconda3\\lib\\site-packages\\sklearn\\model_selection\\_validation.py:680: DataConversionWarning: A column-vector y was passed when a 1d array was expected. Please change the shape of y to (n_samples,), for example using ravel().\n",
      "  estimator.fit(X_train, y_train, **fit_params)\n",
      "C:\\Users\\Bhuvaneshvaran k\\anaconda3\\lib\\site-packages\\sklearn\\model_selection\\_validation.py:680: DataConversionWarning: A column-vector y was passed when a 1d array was expected. Please change the shape of y to (n_samples,), for example using ravel().\n",
      "  estimator.fit(X_train, y_train, **fit_params)\n",
      "C:\\Users\\Bhuvaneshvaran k\\anaconda3\\lib\\site-packages\\sklearn\\model_selection\\_validation.py:680: DataConversionWarning: A column-vector y was passed when a 1d array was expected. Please change the shape of y to (n_samples,), for example using ravel().\n",
      "  estimator.fit(X_train, y_train, **fit_params)\n",
      "C:\\Users\\Bhuvaneshvaran k\\anaconda3\\lib\\site-packages\\sklearn\\model_selection\\_validation.py:680: DataConversionWarning: A column-vector y was passed when a 1d array was expected. Please change the shape of y to (n_samples,), for example using ravel().\n",
      "  estimator.fit(X_train, y_train, **fit_params)\n",
      "C:\\Users\\Bhuvaneshvaran k\\anaconda3\\lib\\site-packages\\sklearn\\model_selection\\_validation.py:680: DataConversionWarning: A column-vector y was passed when a 1d array was expected. Please change the shape of y to (n_samples,), for example using ravel().\n",
      "  estimator.fit(X_train, y_train, **fit_params)\n",
      "C:\\Users\\Bhuvaneshvaran k\\anaconda3\\lib\\site-packages\\sklearn\\model_selection\\_validation.py:680: DataConversionWarning: A column-vector y was passed when a 1d array was expected. Please change the shape of y to (n_samples,), for example using ravel().\n",
      "  estimator.fit(X_train, y_train, **fit_params)\n",
      "C:\\Users\\Bhuvaneshvaran k\\anaconda3\\lib\\site-packages\\sklearn\\model_selection\\_validation.py:680: DataConversionWarning: A column-vector y was passed when a 1d array was expected. Please change the shape of y to (n_samples,), for example using ravel().\n",
      "  estimator.fit(X_train, y_train, **fit_params)\n",
      "C:\\Users\\Bhuvaneshvaran k\\anaconda3\\lib\\site-packages\\sklearn\\model_selection\\_validation.py:680: DataConversionWarning: A column-vector y was passed when a 1d array was expected. Please change the shape of y to (n_samples,), for example using ravel().\n",
      "  estimator.fit(X_train, y_train, **fit_params)\n",
      "C:\\Users\\Bhuvaneshvaran k\\anaconda3\\lib\\site-packages\\sklearn\\model_selection\\_validation.py:680: DataConversionWarning: A column-vector y was passed when a 1d array was expected. Please change the shape of y to (n_samples,), for example using ravel().\n",
      "  estimator.fit(X_train, y_train, **fit_params)\n",
      "C:\\Users\\Bhuvaneshvaran k\\anaconda3\\lib\\site-packages\\sklearn\\model_selection\\_validation.py:680: DataConversionWarning: A column-vector y was passed when a 1d array was expected. Please change the shape of y to (n_samples,), for example using ravel().\n",
      "  estimator.fit(X_train, y_train, **fit_params)\n",
      "C:\\Users\\Bhuvaneshvaran k\\anaconda3\\lib\\site-packages\\sklearn\\model_selection\\_validation.py:680: DataConversionWarning: A column-vector y was passed when a 1d array was expected. Please change the shape of y to (n_samples,), for example using ravel().\n",
      "  estimator.fit(X_train, y_train, **fit_params)\n",
      "C:\\Users\\Bhuvaneshvaran k\\anaconda3\\lib\\site-packages\\sklearn\\model_selection\\_validation.py:680: DataConversionWarning: A column-vector y was passed when a 1d array was expected. Please change the shape of y to (n_samples,), for example using ravel().\n",
      "  estimator.fit(X_train, y_train, **fit_params)\n",
      "C:\\Users\\Bhuvaneshvaran k\\anaconda3\\lib\\site-packages\\sklearn\\model_selection\\_validation.py:680: DataConversionWarning: A column-vector y was passed when a 1d array was expected. Please change the shape of y to (n_samples,), for example using ravel().\n",
      "  estimator.fit(X_train, y_train, **fit_params)\n",
      "C:\\Users\\Bhuvaneshvaran k\\anaconda3\\lib\\site-packages\\sklearn\\model_selection\\_validation.py:680: DataConversionWarning: A column-vector y was passed when a 1d array was expected. Please change the shape of y to (n_samples,), for example using ravel().\n",
      "  estimator.fit(X_train, y_train, **fit_params)\n",
      "C:\\Users\\Bhuvaneshvaran k\\anaconda3\\lib\\site-packages\\sklearn\\model_selection\\_validation.py:680: DataConversionWarning: A column-vector y was passed when a 1d array was expected. Please change the shape of y to (n_samples,), for example using ravel().\n",
      "  estimator.fit(X_train, y_train, **fit_params)\n",
      "C:\\Users\\Bhuvaneshvaran k\\anaconda3\\lib\\site-packages\\sklearn\\model_selection\\_validation.py:680: DataConversionWarning: A column-vector y was passed when a 1d array was expected. Please change the shape of y to (n_samples,), for example using ravel().\n",
      "  estimator.fit(X_train, y_train, **fit_params)\n",
      "C:\\Users\\Bhuvaneshvaran k\\anaconda3\\lib\\site-packages\\sklearn\\model_selection\\_validation.py:680: DataConversionWarning: A column-vector y was passed when a 1d array was expected. Please change the shape of y to (n_samples,), for example using ravel().\n",
      "  estimator.fit(X_train, y_train, **fit_params)\n",
      "C:\\Users\\Bhuvaneshvaran k\\anaconda3\\lib\\site-packages\\sklearn\\model_selection\\_validation.py:680: DataConversionWarning: A column-vector y was passed when a 1d array was expected. Please change the shape of y to (n_samples,), for example using ravel().\n",
      "  estimator.fit(X_train, y_train, **fit_params)\n",
      "C:\\Users\\Bhuvaneshvaran k\\anaconda3\\lib\\site-packages\\sklearn\\model_selection\\_validation.py:680: DataConversionWarning: A column-vector y was passed when a 1d array was expected. Please change the shape of y to (n_samples,), for example using ravel().\n",
      "  estimator.fit(X_train, y_train, **fit_params)\n",
      "C:\\Users\\Bhuvaneshvaran k\\anaconda3\\lib\\site-packages\\sklearn\\model_selection\\_validation.py:680: DataConversionWarning: A column-vector y was passed when a 1d array was expected. Please change the shape of y to (n_samples,), for example using ravel().\n",
      "  estimator.fit(X_train, y_train, **fit_params)\n",
      "C:\\Users\\Bhuvaneshvaran k\\anaconda3\\lib\\site-packages\\sklearn\\model_selection\\_validation.py:372: FitFailedWarning: \n",
      "40 fits failed out of a total of 100.\n",
      "The score on these train-test partitions for these parameters will be set to nan.\n",
      "If these failures are not expected, you can try to debug them by setting error_score='raise'.\n",
      "\n",
      "Below are more details about the failures:\n",
      "--------------------------------------------------------------------------------\n",
      "40 fits failed with the following error:\n",
      "Traceback (most recent call last):\n",
      "  File \"C:\\Users\\Bhuvaneshvaran k\\anaconda3\\lib\\site-packages\\sklearn\\model_selection\\_validation.py\", line 680, in _fit_and_score\n",
      "    estimator.fit(X_train, y_train, **fit_params)\n",
      "  File \"C:\\Users\\Bhuvaneshvaran k\\anaconda3\\lib\\site-packages\\sklearn\\ensemble\\_forest.py\", line 450, in fit\n",
      "    trees = Parallel(\n",
      "  File \"C:\\Users\\Bhuvaneshvaran k\\anaconda3\\lib\\site-packages\\joblib\\parallel.py\", line 1085, in __call__\n",
      "    if self.dispatch_one_batch(iterator):\n",
      "  File \"C:\\Users\\Bhuvaneshvaran k\\anaconda3\\lib\\site-packages\\joblib\\parallel.py\", line 901, in dispatch_one_batch\n",
      "    self._dispatch(tasks)\n",
      "  File \"C:\\Users\\Bhuvaneshvaran k\\anaconda3\\lib\\site-packages\\joblib\\parallel.py\", line 819, in _dispatch\n",
      "    job = self._backend.apply_async(batch, callback=cb)\n",
      "  File \"C:\\Users\\Bhuvaneshvaran k\\anaconda3\\lib\\site-packages\\joblib\\_parallel_backends.py\", line 208, in apply_async\n",
      "    result = ImmediateResult(func)\n",
      "  File \"C:\\Users\\Bhuvaneshvaran k\\anaconda3\\lib\\site-packages\\joblib\\_parallel_backends.py\", line 597, in __init__\n",
      "    self.results = batch()\n",
      "  File \"C:\\Users\\Bhuvaneshvaran k\\anaconda3\\lib\\site-packages\\joblib\\parallel.py\", line 288, in __call__\n",
      "    return [func(*args, **kwargs)\n",
      "  File \"C:\\Users\\Bhuvaneshvaran k\\anaconda3\\lib\\site-packages\\joblib\\parallel.py\", line 288, in <listcomp>\n",
      "    return [func(*args, **kwargs)\n",
      "  File \"C:\\Users\\Bhuvaneshvaran k\\anaconda3\\lib\\site-packages\\sklearn\\utils\\fixes.py\", line 216, in __call__\n",
      "    return self.function(*args, **kwargs)\n",
      "  File \"C:\\Users\\Bhuvaneshvaran k\\anaconda3\\lib\\site-packages\\sklearn\\ensemble\\_forest.py\", line 185, in _parallel_build_trees\n",
      "    tree.fit(X, y, sample_weight=curr_sample_weight, check_input=False)\n",
      "  File \"C:\\Users\\Bhuvaneshvaran k\\anaconda3\\lib\\site-packages\\sklearn\\tree\\_classes.py\", line 937, in fit\n",
      "    super().fit(\n",
      "  File \"C:\\Users\\Bhuvaneshvaran k\\anaconda3\\lib\\site-packages\\sklearn\\tree\\_classes.py\", line 308, in fit\n",
      "    raise ValueError(\"max_features must be in (0, n_features]\")\n",
      "ValueError: max_features must be in (0, n_features]\n",
      "\n",
      "  warnings.warn(some_fits_failed_message, FitFailedWarning)\n",
      "C:\\Users\\Bhuvaneshvaran k\\anaconda3\\lib\\site-packages\\sklearn\\model_selection\\_search.py:969: UserWarning: One or more of the test scores are non-finite: [       nan        nan 0.98729443 0.98844175 0.98623623 0.98632441\n",
      "        nan 0.98755929 0.98685367        nan]\n",
      "  warnings.warn(\n",
      "C:\\Users\\Bhuvaneshvaran k\\anaconda3\\lib\\site-packages\\sklearn\\model_selection\\_search.py:926: DataConversionWarning: A column-vector y was passed when a 1d array was expected. Please change the shape of y to (n_samples,), for example using ravel().\n",
      "  self.best_estimator_.fit(X, y, **fit_params)\n"
     ]
    },
    {
     "data": {
      "text/plain": [
       "RandomizedSearchCV(cv=10, estimator=RandomForestClassifier(random_state=1),\n",
       "                   param_distributions={'max_features': ['sqrt', 0.25, 0.5, 0,\n",
       "                                                         75, 1.0],\n",
       "                                        'min_samples_split': [2, 4, 6],\n",
       "                                        'n_estimators': [50, 150, 250]},\n",
       "                   random_state=8)"
      ]
     },
     "execution_count": 162,
     "metadata": {},
     "output_type": "execute_result"
    }
   ],
   "source": [
    "from sklearn.model_selection import RandomizedSearchCV\n",
    "search = RandomizedSearchCV(rf_model,model_params,cv = 10,random_state = 8)\n",
    "search.fit(x_train,y_train)"
   ]
  },
  {
   "cell_type": "code",
   "execution_count": 163,
   "id": "6fcef322",
   "metadata": {},
   "outputs": [],
   "source": [
    "est=search.best_estimator_"
   ]
  },
  {
   "cell_type": "code",
   "execution_count": 164,
   "id": "45366673",
   "metadata": {},
   "outputs": [
    {
     "name": "stderr",
     "output_type": "stream",
     "text": [
      "C:\\Users\\Bhuvaneshvaran k\\AppData\\Local\\Temp\\ipykernel_16396\\2785416181.py:1: DataConversionWarning: A column-vector y was passed when a 1d array was expected. Please change the shape of y to (n_samples,), for example using ravel().\n",
      "  rf_model1=est.fit(x_train,y_train)\n"
     ]
    }
   ],
   "source": [
    "rf_model1=est.fit(x_train,y_train)"
   ]
  },
  {
   "cell_type": "code",
   "execution_count": 165,
   "id": "7139dbb9",
   "metadata": {},
   "outputs": [],
   "source": [
    "y_pred=rf_model1.predict(x_test)"
   ]
  },
  {
   "cell_type": "code",
   "execution_count": 166,
   "id": "8bb8ae30",
   "metadata": {},
   "outputs": [],
   "source": [
    "from sklearn.metrics import accuracy_score,classification_report,confusion_matrix,roc_curve,auc,roc_auc_score"
   ]
  },
  {
   "cell_type": "code",
   "execution_count": 167,
   "id": "7d77cb2a",
   "metadata": {},
   "outputs": [
    {
     "data": {
      "text/plain": [
       "0.9865913902611151"
      ]
     },
     "execution_count": 167,
     "metadata": {},
     "output_type": "execute_result"
    }
   ],
   "source": [
    "accuracy_score(y_pred,y_test)"
   ]
  },
  {
   "cell_type": "code",
   "execution_count": 168,
   "id": "91d833af",
   "metadata": {},
   "outputs": [
    {
     "name": "stdout",
     "output_type": "stream",
     "text": [
      "[[1352    0]\n",
      " [  38 1444]]\n"
     ]
    }
   ],
   "source": [
    "print(confusion_matrix(y_pred,y_test))"
   ]
  },
  {
   "cell_type": "code",
   "execution_count": 169,
   "id": "551bef2c",
   "metadata": {},
   "outputs": [
    {
     "name": "stdout",
     "output_type": "stream",
     "text": [
      "              precision    recall  f1-score   support\n",
      "\n",
      "           0       0.97      1.00      0.99      1352\n",
      "           1       1.00      0.97      0.99      1482\n",
      "\n",
      "    accuracy                           0.99      2834\n",
      "   macro avg       0.99      0.99      0.99      2834\n",
      "weighted avg       0.99      0.99      0.99      2834\n",
      "\n"
     ]
    }
   ],
   "source": [
    "print(classification_report(y_pred,y_test))"
   ]
  },
  {
   "cell_type": "code",
   "execution_count": 170,
   "id": "7f7f4bb9",
   "metadata": {},
   "outputs": [
    {
     "data": {
      "text/plain": [
       "0.9871794871794872"
      ]
     },
     "execution_count": 170,
     "metadata": {},
     "output_type": "execute_result"
    }
   ],
   "source": [
    "roc_auc_score(y_pred,y_test)"
   ]
  },
  {
   "cell_type": "code",
   "execution_count": 171,
   "id": "5de2cea6",
   "metadata": {},
   "outputs": [
    {
     "data": {
      "text/plain": [
       "0.9999285059487036"
      ]
     },
     "execution_count": 171,
     "metadata": {},
     "output_type": "execute_result"
    }
   ],
   "source": [
    "y_pred_prob = rf_model1.predict_proba(x_test)\n",
    "fpr,tpr,threshold = roc_curve(y_test,y_pred_prob[:,1])\n",
    "roc_auc = auc(fpr,tpr)\n",
    "roc_auc"
   ]
  },
  {
   "cell_type": "markdown",
   "id": "600e335e",
   "metadata": {},
   "source": [
    "# ADABOOSTING"
   ]
  },
  {
   "cell_type": "code",
   "execution_count": 172,
   "id": "fb4b63bc",
   "metadata": {},
   "outputs": [],
   "source": [
    "from sklearn.model_selection import train_test_split\n",
    "x_train,x_test,y_train,y_test=train_test_split(x,y,test_size=0.20,random_state=44)"
   ]
  },
  {
   "cell_type": "code",
   "execution_count": 173,
   "id": "f31cf4ef",
   "metadata": {},
   "outputs": [],
   "source": [
    "from sklearn.ensemble import AdaBoostClassifier\n",
    "from sklearn.tree import DecisionTreeClassifier"
   ]
  },
  {
   "cell_type": "code",
   "execution_count": 174,
   "id": "e0cda527",
   "metadata": {},
   "outputs": [],
   "source": [
    "ada = AdaBoostClassifier()\n",
    "params = {'n_estimators':range(1,250)}"
   ]
  },
  {
   "cell_type": "code",
   "execution_count": 175,
   "id": "ba106824",
   "metadata": {},
   "outputs": [],
   "source": [
    "from sklearn.model_selection import RandomizedSearchCV"
   ]
  },
  {
   "cell_type": "code",
   "execution_count": 176,
   "id": "3141fb94",
   "metadata": {},
   "outputs": [],
   "source": [
    "search=RandomizedSearchCV(ada,params,cv=10)"
   ]
  },
  {
   "cell_type": "code",
   "execution_count": 177,
   "id": "016933c9",
   "metadata": {},
   "outputs": [
    {
     "name": "stderr",
     "output_type": "stream",
     "text": [
      "C:\\Users\\Bhuvaneshvaran k\\anaconda3\\lib\\site-packages\\sklearn\\utils\\validation.py:993: DataConversionWarning: A column-vector y was passed when a 1d array was expected. Please change the shape of y to (n_samples, ), for example using ravel().\n",
      "  y = column_or_1d(y, warn=True)\n",
      "C:\\Users\\Bhuvaneshvaran k\\anaconda3\\lib\\site-packages\\sklearn\\utils\\validation.py:993: DataConversionWarning: A column-vector y was passed when a 1d array was expected. Please change the shape of y to (n_samples, ), for example using ravel().\n",
      "  y = column_or_1d(y, warn=True)\n",
      "C:\\Users\\Bhuvaneshvaran k\\anaconda3\\lib\\site-packages\\sklearn\\utils\\validation.py:993: DataConversionWarning: A column-vector y was passed when a 1d array was expected. Please change the shape of y to (n_samples, ), for example using ravel().\n",
      "  y = column_or_1d(y, warn=True)\n",
      "C:\\Users\\Bhuvaneshvaran k\\anaconda3\\lib\\site-packages\\sklearn\\utils\\validation.py:993: DataConversionWarning: A column-vector y was passed when a 1d array was expected. Please change the shape of y to (n_samples, ), for example using ravel().\n",
      "  y = column_or_1d(y, warn=True)\n",
      "C:\\Users\\Bhuvaneshvaran k\\anaconda3\\lib\\site-packages\\sklearn\\utils\\validation.py:993: DataConversionWarning: A column-vector y was passed when a 1d array was expected. Please change the shape of y to (n_samples, ), for example using ravel().\n",
      "  y = column_or_1d(y, warn=True)\n",
      "C:\\Users\\Bhuvaneshvaran k\\anaconda3\\lib\\site-packages\\sklearn\\utils\\validation.py:993: DataConversionWarning: A column-vector y was passed when a 1d array was expected. Please change the shape of y to (n_samples, ), for example using ravel().\n",
      "  y = column_or_1d(y, warn=True)\n",
      "C:\\Users\\Bhuvaneshvaran k\\anaconda3\\lib\\site-packages\\sklearn\\utils\\validation.py:993: DataConversionWarning: A column-vector y was passed when a 1d array was expected. Please change the shape of y to (n_samples, ), for example using ravel().\n",
      "  y = column_or_1d(y, warn=True)\n",
      "C:\\Users\\Bhuvaneshvaran k\\anaconda3\\lib\\site-packages\\sklearn\\utils\\validation.py:993: DataConversionWarning: A column-vector y was passed when a 1d array was expected. Please change the shape of y to (n_samples, ), for example using ravel().\n",
      "  y = column_or_1d(y, warn=True)\n",
      "C:\\Users\\Bhuvaneshvaran k\\anaconda3\\lib\\site-packages\\sklearn\\utils\\validation.py:993: DataConversionWarning: A column-vector y was passed when a 1d array was expected. Please change the shape of y to (n_samples, ), for example using ravel().\n",
      "  y = column_or_1d(y, warn=True)\n",
      "C:\\Users\\Bhuvaneshvaran k\\anaconda3\\lib\\site-packages\\sklearn\\utils\\validation.py:993: DataConversionWarning: A column-vector y was passed when a 1d array was expected. Please change the shape of y to (n_samples, ), for example using ravel().\n",
      "  y = column_or_1d(y, warn=True)\n",
      "C:\\Users\\Bhuvaneshvaran k\\anaconda3\\lib\\site-packages\\sklearn\\utils\\validation.py:993: DataConversionWarning: A column-vector y was passed when a 1d array was expected. Please change the shape of y to (n_samples, ), for example using ravel().\n",
      "  y = column_or_1d(y, warn=True)\n",
      "C:\\Users\\Bhuvaneshvaran k\\anaconda3\\lib\\site-packages\\sklearn\\utils\\validation.py:993: DataConversionWarning: A column-vector y was passed when a 1d array was expected. Please change the shape of y to (n_samples, ), for example using ravel().\n",
      "  y = column_or_1d(y, warn=True)\n",
      "C:\\Users\\Bhuvaneshvaran k\\anaconda3\\lib\\site-packages\\sklearn\\utils\\validation.py:993: DataConversionWarning: A column-vector y was passed when a 1d array was expected. Please change the shape of y to (n_samples, ), for example using ravel().\n",
      "  y = column_or_1d(y, warn=True)\n",
      "C:\\Users\\Bhuvaneshvaran k\\anaconda3\\lib\\site-packages\\sklearn\\utils\\validation.py:993: DataConversionWarning: A column-vector y was passed when a 1d array was expected. Please change the shape of y to (n_samples, ), for example using ravel().\n",
      "  y = column_or_1d(y, warn=True)\n",
      "C:\\Users\\Bhuvaneshvaran k\\anaconda3\\lib\\site-packages\\sklearn\\utils\\validation.py:993: DataConversionWarning: A column-vector y was passed when a 1d array was expected. Please change the shape of y to (n_samples, ), for example using ravel().\n",
      "  y = column_or_1d(y, warn=True)\n",
      "C:\\Users\\Bhuvaneshvaran k\\anaconda3\\lib\\site-packages\\sklearn\\utils\\validation.py:993: DataConversionWarning: A column-vector y was passed when a 1d array was expected. Please change the shape of y to (n_samples, ), for example using ravel().\n",
      "  y = column_or_1d(y, warn=True)\n",
      "C:\\Users\\Bhuvaneshvaran k\\anaconda3\\lib\\site-packages\\sklearn\\utils\\validation.py:993: DataConversionWarning: A column-vector y was passed when a 1d array was expected. Please change the shape of y to (n_samples, ), for example using ravel().\n",
      "  y = column_or_1d(y, warn=True)\n",
      "C:\\Users\\Bhuvaneshvaran k\\anaconda3\\lib\\site-packages\\sklearn\\utils\\validation.py:993: DataConversionWarning: A column-vector y was passed when a 1d array was expected. Please change the shape of y to (n_samples, ), for example using ravel().\n",
      "  y = column_or_1d(y, warn=True)\n",
      "C:\\Users\\Bhuvaneshvaran k\\anaconda3\\lib\\site-packages\\sklearn\\utils\\validation.py:993: DataConversionWarning: A column-vector y was passed when a 1d array was expected. Please change the shape of y to (n_samples, ), for example using ravel().\n",
      "  y = column_or_1d(y, warn=True)\n",
      "C:\\Users\\Bhuvaneshvaran k\\anaconda3\\lib\\site-packages\\sklearn\\utils\\validation.py:993: DataConversionWarning: A column-vector y was passed when a 1d array was expected. Please change the shape of y to (n_samples, ), for example using ravel().\n",
      "  y = column_or_1d(y, warn=True)\n",
      "C:\\Users\\Bhuvaneshvaran k\\anaconda3\\lib\\site-packages\\sklearn\\utils\\validation.py:993: DataConversionWarning: A column-vector y was passed when a 1d array was expected. Please change the shape of y to (n_samples, ), for example using ravel().\n",
      "  y = column_or_1d(y, warn=True)\n",
      "C:\\Users\\Bhuvaneshvaran k\\anaconda3\\lib\\site-packages\\sklearn\\utils\\validation.py:993: DataConversionWarning: A column-vector y was passed when a 1d array was expected. Please change the shape of y to (n_samples, ), for example using ravel().\n",
      "  y = column_or_1d(y, warn=True)\n",
      "C:\\Users\\Bhuvaneshvaran k\\anaconda3\\lib\\site-packages\\sklearn\\utils\\validation.py:993: DataConversionWarning: A column-vector y was passed when a 1d array was expected. Please change the shape of y to (n_samples, ), for example using ravel().\n",
      "  y = column_or_1d(y, warn=True)\n",
      "C:\\Users\\Bhuvaneshvaran k\\anaconda3\\lib\\site-packages\\sklearn\\utils\\validation.py:993: DataConversionWarning: A column-vector y was passed when a 1d array was expected. Please change the shape of y to (n_samples, ), for example using ravel().\n",
      "  y = column_or_1d(y, warn=True)\n",
      "C:\\Users\\Bhuvaneshvaran k\\anaconda3\\lib\\site-packages\\sklearn\\utils\\validation.py:993: DataConversionWarning: A column-vector y was passed when a 1d array was expected. Please change the shape of y to (n_samples, ), for example using ravel().\n",
      "  y = column_or_1d(y, warn=True)\n",
      "C:\\Users\\Bhuvaneshvaran k\\anaconda3\\lib\\site-packages\\sklearn\\utils\\validation.py:993: DataConversionWarning: A column-vector y was passed when a 1d array was expected. Please change the shape of y to (n_samples, ), for example using ravel().\n",
      "  y = column_or_1d(y, warn=True)\n",
      "C:\\Users\\Bhuvaneshvaran k\\anaconda3\\lib\\site-packages\\sklearn\\utils\\validation.py:993: DataConversionWarning: A column-vector y was passed when a 1d array was expected. Please change the shape of y to (n_samples, ), for example using ravel().\n",
      "  y = column_or_1d(y, warn=True)\n",
      "C:\\Users\\Bhuvaneshvaran k\\anaconda3\\lib\\site-packages\\sklearn\\utils\\validation.py:993: DataConversionWarning: A column-vector y was passed when a 1d array was expected. Please change the shape of y to (n_samples, ), for example using ravel().\n",
      "  y = column_or_1d(y, warn=True)\n",
      "C:\\Users\\Bhuvaneshvaran k\\anaconda3\\lib\\site-packages\\sklearn\\utils\\validation.py:993: DataConversionWarning: A column-vector y was passed when a 1d array was expected. Please change the shape of y to (n_samples, ), for example using ravel().\n",
      "  y = column_or_1d(y, warn=True)\n",
      "C:\\Users\\Bhuvaneshvaran k\\anaconda3\\lib\\site-packages\\sklearn\\utils\\validation.py:993: DataConversionWarning: A column-vector y was passed when a 1d array was expected. Please change the shape of y to (n_samples, ), for example using ravel().\n",
      "  y = column_or_1d(y, warn=True)\n",
      "C:\\Users\\Bhuvaneshvaran k\\anaconda3\\lib\\site-packages\\sklearn\\utils\\validation.py:993: DataConversionWarning: A column-vector y was passed when a 1d array was expected. Please change the shape of y to (n_samples, ), for example using ravel().\n",
      "  y = column_or_1d(y, warn=True)\n",
      "C:\\Users\\Bhuvaneshvaran k\\anaconda3\\lib\\site-packages\\sklearn\\utils\\validation.py:993: DataConversionWarning: A column-vector y was passed when a 1d array was expected. Please change the shape of y to (n_samples, ), for example using ravel().\n",
      "  y = column_or_1d(y, warn=True)\n",
      "C:\\Users\\Bhuvaneshvaran k\\anaconda3\\lib\\site-packages\\sklearn\\utils\\validation.py:993: DataConversionWarning: A column-vector y was passed when a 1d array was expected. Please change the shape of y to (n_samples, ), for example using ravel().\n",
      "  y = column_or_1d(y, warn=True)\n",
      "C:\\Users\\Bhuvaneshvaran k\\anaconda3\\lib\\site-packages\\sklearn\\utils\\validation.py:993: DataConversionWarning: A column-vector y was passed when a 1d array was expected. Please change the shape of y to (n_samples, ), for example using ravel().\n",
      "  y = column_or_1d(y, warn=True)\n",
      "C:\\Users\\Bhuvaneshvaran k\\anaconda3\\lib\\site-packages\\sklearn\\utils\\validation.py:993: DataConversionWarning: A column-vector y was passed when a 1d array was expected. Please change the shape of y to (n_samples, ), for example using ravel().\n",
      "  y = column_or_1d(y, warn=True)\n",
      "C:\\Users\\Bhuvaneshvaran k\\anaconda3\\lib\\site-packages\\sklearn\\utils\\validation.py:993: DataConversionWarning: A column-vector y was passed when a 1d array was expected. Please change the shape of y to (n_samples, ), for example using ravel().\n",
      "  y = column_or_1d(y, warn=True)\n",
      "C:\\Users\\Bhuvaneshvaran k\\anaconda3\\lib\\site-packages\\sklearn\\utils\\validation.py:993: DataConversionWarning: A column-vector y was passed when a 1d array was expected. Please change the shape of y to (n_samples, ), for example using ravel().\n",
      "  y = column_or_1d(y, warn=True)\n",
      "C:\\Users\\Bhuvaneshvaran k\\anaconda3\\lib\\site-packages\\sklearn\\utils\\validation.py:993: DataConversionWarning: A column-vector y was passed when a 1d array was expected. Please change the shape of y to (n_samples, ), for example using ravel().\n",
      "  y = column_or_1d(y, warn=True)\n",
      "C:\\Users\\Bhuvaneshvaran k\\anaconda3\\lib\\site-packages\\sklearn\\utils\\validation.py:993: DataConversionWarning: A column-vector y was passed when a 1d array was expected. Please change the shape of y to (n_samples, ), for example using ravel().\n",
      "  y = column_or_1d(y, warn=True)\n",
      "C:\\Users\\Bhuvaneshvaran k\\anaconda3\\lib\\site-packages\\sklearn\\utils\\validation.py:993: DataConversionWarning: A column-vector y was passed when a 1d array was expected. Please change the shape of y to (n_samples, ), for example using ravel().\n",
      "  y = column_or_1d(y, warn=True)\n",
      "C:\\Users\\Bhuvaneshvaran k\\anaconda3\\lib\\site-packages\\sklearn\\utils\\validation.py:993: DataConversionWarning: A column-vector y was passed when a 1d array was expected. Please change the shape of y to (n_samples, ), for example using ravel().\n",
      "  y = column_or_1d(y, warn=True)\n",
      "C:\\Users\\Bhuvaneshvaran k\\anaconda3\\lib\\site-packages\\sklearn\\utils\\validation.py:993: DataConversionWarning: A column-vector y was passed when a 1d array was expected. Please change the shape of y to (n_samples, ), for example using ravel().\n",
      "  y = column_or_1d(y, warn=True)\n",
      "C:\\Users\\Bhuvaneshvaran k\\anaconda3\\lib\\site-packages\\sklearn\\utils\\validation.py:993: DataConversionWarning: A column-vector y was passed when a 1d array was expected. Please change the shape of y to (n_samples, ), for example using ravel().\n",
      "  y = column_or_1d(y, warn=True)\n",
      "C:\\Users\\Bhuvaneshvaran k\\anaconda3\\lib\\site-packages\\sklearn\\utils\\validation.py:993: DataConversionWarning: A column-vector y was passed when a 1d array was expected. Please change the shape of y to (n_samples, ), for example using ravel().\n",
      "  y = column_or_1d(y, warn=True)\n",
      "C:\\Users\\Bhuvaneshvaran k\\anaconda3\\lib\\site-packages\\sklearn\\utils\\validation.py:993: DataConversionWarning: A column-vector y was passed when a 1d array was expected. Please change the shape of y to (n_samples, ), for example using ravel().\n",
      "  y = column_or_1d(y, warn=True)\n",
      "C:\\Users\\Bhuvaneshvaran k\\anaconda3\\lib\\site-packages\\sklearn\\utils\\validation.py:993: DataConversionWarning: A column-vector y was passed when a 1d array was expected. Please change the shape of y to (n_samples, ), for example using ravel().\n",
      "  y = column_or_1d(y, warn=True)\n",
      "C:\\Users\\Bhuvaneshvaran k\\anaconda3\\lib\\site-packages\\sklearn\\utils\\validation.py:993: DataConversionWarning: A column-vector y was passed when a 1d array was expected. Please change the shape of y to (n_samples, ), for example using ravel().\n",
      "  y = column_or_1d(y, warn=True)\n",
      "C:\\Users\\Bhuvaneshvaran k\\anaconda3\\lib\\site-packages\\sklearn\\utils\\validation.py:993: DataConversionWarning: A column-vector y was passed when a 1d array was expected. Please change the shape of y to (n_samples, ), for example using ravel().\n",
      "  y = column_or_1d(y, warn=True)\n",
      "C:\\Users\\Bhuvaneshvaran k\\anaconda3\\lib\\site-packages\\sklearn\\utils\\validation.py:993: DataConversionWarning: A column-vector y was passed when a 1d array was expected. Please change the shape of y to (n_samples, ), for example using ravel().\n",
      "  y = column_or_1d(y, warn=True)\n",
      "C:\\Users\\Bhuvaneshvaran k\\anaconda3\\lib\\site-packages\\sklearn\\utils\\validation.py:993: DataConversionWarning: A column-vector y was passed when a 1d array was expected. Please change the shape of y to (n_samples, ), for example using ravel().\n",
      "  y = column_or_1d(y, warn=True)\n",
      "C:\\Users\\Bhuvaneshvaran k\\anaconda3\\lib\\site-packages\\sklearn\\utils\\validation.py:993: DataConversionWarning: A column-vector y was passed when a 1d array was expected. Please change the shape of y to (n_samples, ), for example using ravel().\n",
      "  y = column_or_1d(y, warn=True)\n",
      "C:\\Users\\Bhuvaneshvaran k\\anaconda3\\lib\\site-packages\\sklearn\\utils\\validation.py:993: DataConversionWarning: A column-vector y was passed when a 1d array was expected. Please change the shape of y to (n_samples, ), for example using ravel().\n",
      "  y = column_or_1d(y, warn=True)\n",
      "C:\\Users\\Bhuvaneshvaran k\\anaconda3\\lib\\site-packages\\sklearn\\utils\\validation.py:993: DataConversionWarning: A column-vector y was passed when a 1d array was expected. Please change the shape of y to (n_samples, ), for example using ravel().\n",
      "  y = column_or_1d(y, warn=True)\n",
      "C:\\Users\\Bhuvaneshvaran k\\anaconda3\\lib\\site-packages\\sklearn\\utils\\validation.py:993: DataConversionWarning: A column-vector y was passed when a 1d array was expected. Please change the shape of y to (n_samples, ), for example using ravel().\n",
      "  y = column_or_1d(y, warn=True)\n",
      "C:\\Users\\Bhuvaneshvaran k\\anaconda3\\lib\\site-packages\\sklearn\\utils\\validation.py:993: DataConversionWarning: A column-vector y was passed when a 1d array was expected. Please change the shape of y to (n_samples, ), for example using ravel().\n",
      "  y = column_or_1d(y, warn=True)\n",
      "C:\\Users\\Bhuvaneshvaran k\\anaconda3\\lib\\site-packages\\sklearn\\utils\\validation.py:993: DataConversionWarning: A column-vector y was passed when a 1d array was expected. Please change the shape of y to (n_samples, ), for example using ravel().\n",
      "  y = column_or_1d(y, warn=True)\n",
      "C:\\Users\\Bhuvaneshvaran k\\anaconda3\\lib\\site-packages\\sklearn\\utils\\validation.py:993: DataConversionWarning: A column-vector y was passed when a 1d array was expected. Please change the shape of y to (n_samples, ), for example using ravel().\n",
      "  y = column_or_1d(y, warn=True)\n",
      "C:\\Users\\Bhuvaneshvaran k\\anaconda3\\lib\\site-packages\\sklearn\\utils\\validation.py:993: DataConversionWarning: A column-vector y was passed when a 1d array was expected. Please change the shape of y to (n_samples, ), for example using ravel().\n",
      "  y = column_or_1d(y, warn=True)\n",
      "C:\\Users\\Bhuvaneshvaran k\\anaconda3\\lib\\site-packages\\sklearn\\utils\\validation.py:993: DataConversionWarning: A column-vector y was passed when a 1d array was expected. Please change the shape of y to (n_samples, ), for example using ravel().\n",
      "  y = column_or_1d(y, warn=True)\n",
      "C:\\Users\\Bhuvaneshvaran k\\anaconda3\\lib\\site-packages\\sklearn\\utils\\validation.py:993: DataConversionWarning: A column-vector y was passed when a 1d array was expected. Please change the shape of y to (n_samples, ), for example using ravel().\n",
      "  y = column_or_1d(y, warn=True)\n",
      "C:\\Users\\Bhuvaneshvaran k\\anaconda3\\lib\\site-packages\\sklearn\\utils\\validation.py:993: DataConversionWarning: A column-vector y was passed when a 1d array was expected. Please change the shape of y to (n_samples, ), for example using ravel().\n",
      "  y = column_or_1d(y, warn=True)\n",
      "C:\\Users\\Bhuvaneshvaran k\\anaconda3\\lib\\site-packages\\sklearn\\utils\\validation.py:993: DataConversionWarning: A column-vector y was passed when a 1d array was expected. Please change the shape of y to (n_samples, ), for example using ravel().\n",
      "  y = column_or_1d(y, warn=True)\n",
      "C:\\Users\\Bhuvaneshvaran k\\anaconda3\\lib\\site-packages\\sklearn\\utils\\validation.py:993: DataConversionWarning: A column-vector y was passed when a 1d array was expected. Please change the shape of y to (n_samples, ), for example using ravel().\n",
      "  y = column_or_1d(y, warn=True)\n",
      "C:\\Users\\Bhuvaneshvaran k\\anaconda3\\lib\\site-packages\\sklearn\\utils\\validation.py:993: DataConversionWarning: A column-vector y was passed when a 1d array was expected. Please change the shape of y to (n_samples, ), for example using ravel().\n",
      "  y = column_or_1d(y, warn=True)\n",
      "C:\\Users\\Bhuvaneshvaran k\\anaconda3\\lib\\site-packages\\sklearn\\utils\\validation.py:993: DataConversionWarning: A column-vector y was passed when a 1d array was expected. Please change the shape of y to (n_samples, ), for example using ravel().\n",
      "  y = column_or_1d(y, warn=True)\n",
      "C:\\Users\\Bhuvaneshvaran k\\anaconda3\\lib\\site-packages\\sklearn\\utils\\validation.py:993: DataConversionWarning: A column-vector y was passed when a 1d array was expected. Please change the shape of y to (n_samples, ), for example using ravel().\n",
      "  y = column_or_1d(y, warn=True)\n",
      "C:\\Users\\Bhuvaneshvaran k\\anaconda3\\lib\\site-packages\\sklearn\\utils\\validation.py:993: DataConversionWarning: A column-vector y was passed when a 1d array was expected. Please change the shape of y to (n_samples, ), for example using ravel().\n",
      "  y = column_or_1d(y, warn=True)\n",
      "C:\\Users\\Bhuvaneshvaran k\\anaconda3\\lib\\site-packages\\sklearn\\utils\\validation.py:993: DataConversionWarning: A column-vector y was passed when a 1d array was expected. Please change the shape of y to (n_samples, ), for example using ravel().\n",
      "  y = column_or_1d(y, warn=True)\n",
      "C:\\Users\\Bhuvaneshvaran k\\anaconda3\\lib\\site-packages\\sklearn\\utils\\validation.py:993: DataConversionWarning: A column-vector y was passed when a 1d array was expected. Please change the shape of y to (n_samples, ), for example using ravel().\n",
      "  y = column_or_1d(y, warn=True)\n",
      "C:\\Users\\Bhuvaneshvaran k\\anaconda3\\lib\\site-packages\\sklearn\\utils\\validation.py:993: DataConversionWarning: A column-vector y was passed when a 1d array was expected. Please change the shape of y to (n_samples, ), for example using ravel().\n",
      "  y = column_or_1d(y, warn=True)\n",
      "C:\\Users\\Bhuvaneshvaran k\\anaconda3\\lib\\site-packages\\sklearn\\utils\\validation.py:993: DataConversionWarning: A column-vector y was passed when a 1d array was expected. Please change the shape of y to (n_samples, ), for example using ravel().\n",
      "  y = column_or_1d(y, warn=True)\n",
      "C:\\Users\\Bhuvaneshvaran k\\anaconda3\\lib\\site-packages\\sklearn\\utils\\validation.py:993: DataConversionWarning: A column-vector y was passed when a 1d array was expected. Please change the shape of y to (n_samples, ), for example using ravel().\n",
      "  y = column_or_1d(y, warn=True)\n",
      "C:\\Users\\Bhuvaneshvaran k\\anaconda3\\lib\\site-packages\\sklearn\\utils\\validation.py:993: DataConversionWarning: A column-vector y was passed when a 1d array was expected. Please change the shape of y to (n_samples, ), for example using ravel().\n",
      "  y = column_or_1d(y, warn=True)\n",
      "C:\\Users\\Bhuvaneshvaran k\\anaconda3\\lib\\site-packages\\sklearn\\utils\\validation.py:993: DataConversionWarning: A column-vector y was passed when a 1d array was expected. Please change the shape of y to (n_samples, ), for example using ravel().\n",
      "  y = column_or_1d(y, warn=True)\n",
      "C:\\Users\\Bhuvaneshvaran k\\anaconda3\\lib\\site-packages\\sklearn\\utils\\validation.py:993: DataConversionWarning: A column-vector y was passed when a 1d array was expected. Please change the shape of y to (n_samples, ), for example using ravel().\n",
      "  y = column_or_1d(y, warn=True)\n",
      "C:\\Users\\Bhuvaneshvaran k\\anaconda3\\lib\\site-packages\\sklearn\\utils\\validation.py:993: DataConversionWarning: A column-vector y was passed when a 1d array was expected. Please change the shape of y to (n_samples, ), for example using ravel().\n",
      "  y = column_or_1d(y, warn=True)\n",
      "C:\\Users\\Bhuvaneshvaran k\\anaconda3\\lib\\site-packages\\sklearn\\utils\\validation.py:993: DataConversionWarning: A column-vector y was passed when a 1d array was expected. Please change the shape of y to (n_samples, ), for example using ravel().\n",
      "  y = column_or_1d(y, warn=True)\n",
      "C:\\Users\\Bhuvaneshvaran k\\anaconda3\\lib\\site-packages\\sklearn\\utils\\validation.py:993: DataConversionWarning: A column-vector y was passed when a 1d array was expected. Please change the shape of y to (n_samples, ), for example using ravel().\n",
      "  y = column_or_1d(y, warn=True)\n",
      "C:\\Users\\Bhuvaneshvaran k\\anaconda3\\lib\\site-packages\\sklearn\\utils\\validation.py:993: DataConversionWarning: A column-vector y was passed when a 1d array was expected. Please change the shape of y to (n_samples, ), for example using ravel().\n",
      "  y = column_or_1d(y, warn=True)\n",
      "C:\\Users\\Bhuvaneshvaran k\\anaconda3\\lib\\site-packages\\sklearn\\utils\\validation.py:993: DataConversionWarning: A column-vector y was passed when a 1d array was expected. Please change the shape of y to (n_samples, ), for example using ravel().\n",
      "  y = column_or_1d(y, warn=True)\n",
      "C:\\Users\\Bhuvaneshvaran k\\anaconda3\\lib\\site-packages\\sklearn\\utils\\validation.py:993: DataConversionWarning: A column-vector y was passed when a 1d array was expected. Please change the shape of y to (n_samples, ), for example using ravel().\n",
      "  y = column_or_1d(y, warn=True)\n",
      "C:\\Users\\Bhuvaneshvaran k\\anaconda3\\lib\\site-packages\\sklearn\\utils\\validation.py:993: DataConversionWarning: A column-vector y was passed when a 1d array was expected. Please change the shape of y to (n_samples, ), for example using ravel().\n",
      "  y = column_or_1d(y, warn=True)\n",
      "C:\\Users\\Bhuvaneshvaran k\\anaconda3\\lib\\site-packages\\sklearn\\utils\\validation.py:993: DataConversionWarning: A column-vector y was passed when a 1d array was expected. Please change the shape of y to (n_samples, ), for example using ravel().\n",
      "  y = column_or_1d(y, warn=True)\n",
      "C:\\Users\\Bhuvaneshvaran k\\anaconda3\\lib\\site-packages\\sklearn\\utils\\validation.py:993: DataConversionWarning: A column-vector y was passed when a 1d array was expected. Please change the shape of y to (n_samples, ), for example using ravel().\n",
      "  y = column_or_1d(y, warn=True)\n",
      "C:\\Users\\Bhuvaneshvaran k\\anaconda3\\lib\\site-packages\\sklearn\\utils\\validation.py:993: DataConversionWarning: A column-vector y was passed when a 1d array was expected. Please change the shape of y to (n_samples, ), for example using ravel().\n",
      "  y = column_or_1d(y, warn=True)\n",
      "C:\\Users\\Bhuvaneshvaran k\\anaconda3\\lib\\site-packages\\sklearn\\utils\\validation.py:993: DataConversionWarning: A column-vector y was passed when a 1d array was expected. Please change the shape of y to (n_samples, ), for example using ravel().\n",
      "  y = column_or_1d(y, warn=True)\n",
      "C:\\Users\\Bhuvaneshvaran k\\anaconda3\\lib\\site-packages\\sklearn\\utils\\validation.py:993: DataConversionWarning: A column-vector y was passed when a 1d array was expected. Please change the shape of y to (n_samples, ), for example using ravel().\n",
      "  y = column_or_1d(y, warn=True)\n",
      "C:\\Users\\Bhuvaneshvaran k\\anaconda3\\lib\\site-packages\\sklearn\\utils\\validation.py:993: DataConversionWarning: A column-vector y was passed when a 1d array was expected. Please change the shape of y to (n_samples, ), for example using ravel().\n",
      "  y = column_or_1d(y, warn=True)\n",
      "C:\\Users\\Bhuvaneshvaran k\\anaconda3\\lib\\site-packages\\sklearn\\utils\\validation.py:993: DataConversionWarning: A column-vector y was passed when a 1d array was expected. Please change the shape of y to (n_samples, ), for example using ravel().\n",
      "  y = column_or_1d(y, warn=True)\n",
      "C:\\Users\\Bhuvaneshvaran k\\anaconda3\\lib\\site-packages\\sklearn\\utils\\validation.py:993: DataConversionWarning: A column-vector y was passed when a 1d array was expected. Please change the shape of y to (n_samples, ), for example using ravel().\n",
      "  y = column_or_1d(y, warn=True)\n",
      "C:\\Users\\Bhuvaneshvaran k\\anaconda3\\lib\\site-packages\\sklearn\\utils\\validation.py:993: DataConversionWarning: A column-vector y was passed when a 1d array was expected. Please change the shape of y to (n_samples, ), for example using ravel().\n",
      "  y = column_or_1d(y, warn=True)\n",
      "C:\\Users\\Bhuvaneshvaran k\\anaconda3\\lib\\site-packages\\sklearn\\utils\\validation.py:993: DataConversionWarning: A column-vector y was passed when a 1d array was expected. Please change the shape of y to (n_samples, ), for example using ravel().\n",
      "  y = column_or_1d(y, warn=True)\n",
      "C:\\Users\\Bhuvaneshvaran k\\anaconda3\\lib\\site-packages\\sklearn\\utils\\validation.py:993: DataConversionWarning: A column-vector y was passed when a 1d array was expected. Please change the shape of y to (n_samples, ), for example using ravel().\n",
      "  y = column_or_1d(y, warn=True)\n",
      "C:\\Users\\Bhuvaneshvaran k\\anaconda3\\lib\\site-packages\\sklearn\\utils\\validation.py:993: DataConversionWarning: A column-vector y was passed when a 1d array was expected. Please change the shape of y to (n_samples, ), for example using ravel().\n",
      "  y = column_or_1d(y, warn=True)\n",
      "C:\\Users\\Bhuvaneshvaran k\\anaconda3\\lib\\site-packages\\sklearn\\utils\\validation.py:993: DataConversionWarning: A column-vector y was passed when a 1d array was expected. Please change the shape of y to (n_samples, ), for example using ravel().\n",
      "  y = column_or_1d(y, warn=True)\n",
      "C:\\Users\\Bhuvaneshvaran k\\anaconda3\\lib\\site-packages\\sklearn\\utils\\validation.py:993: DataConversionWarning: A column-vector y was passed when a 1d array was expected. Please change the shape of y to (n_samples, ), for example using ravel().\n",
      "  y = column_or_1d(y, warn=True)\n",
      "C:\\Users\\Bhuvaneshvaran k\\anaconda3\\lib\\site-packages\\sklearn\\utils\\validation.py:993: DataConversionWarning: A column-vector y was passed when a 1d array was expected. Please change the shape of y to (n_samples, ), for example using ravel().\n",
      "  y = column_or_1d(y, warn=True)\n",
      "C:\\Users\\Bhuvaneshvaran k\\anaconda3\\lib\\site-packages\\sklearn\\utils\\validation.py:993: DataConversionWarning: A column-vector y was passed when a 1d array was expected. Please change the shape of y to (n_samples, ), for example using ravel().\n",
      "  y = column_or_1d(y, warn=True)\n",
      "C:\\Users\\Bhuvaneshvaran k\\anaconda3\\lib\\site-packages\\sklearn\\utils\\validation.py:993: DataConversionWarning: A column-vector y was passed when a 1d array was expected. Please change the shape of y to (n_samples, ), for example using ravel().\n",
      "  y = column_or_1d(y, warn=True)\n",
      "C:\\Users\\Bhuvaneshvaran k\\anaconda3\\lib\\site-packages\\sklearn\\utils\\validation.py:993: DataConversionWarning: A column-vector y was passed when a 1d array was expected. Please change the shape of y to (n_samples, ), for example using ravel().\n",
      "  y = column_or_1d(y, warn=True)\n",
      "C:\\Users\\Bhuvaneshvaran k\\anaconda3\\lib\\site-packages\\sklearn\\utils\\validation.py:993: DataConversionWarning: A column-vector y was passed when a 1d array was expected. Please change the shape of y to (n_samples, ), for example using ravel().\n",
      "  y = column_or_1d(y, warn=True)\n"
     ]
    },
    {
     "data": {
      "text/plain": [
       "RandomizedSearchCV(cv=10, estimator=AdaBoostClassifier(),\n",
       "                   param_distributions={'n_estimators': range(1, 250)})"
      ]
     },
     "execution_count": 177,
     "metadata": {},
     "output_type": "execute_result"
    }
   ],
   "source": [
    "search.fit(x_train,y_train)"
   ]
  },
  {
   "cell_type": "code",
   "execution_count": 178,
   "id": "3fba4f54",
   "metadata": {},
   "outputs": [
    {
     "data": {
      "text/plain": [
       "AdaBoostClassifier(n_estimators=227)"
      ]
     },
     "execution_count": 178,
     "metadata": {},
     "output_type": "execute_result"
    }
   ],
   "source": [
    "search.best_estimator_"
   ]
  },
  {
   "cell_type": "code",
   "execution_count": 179,
   "id": "d8e18ccd",
   "metadata": {},
   "outputs": [],
   "source": [
    "dtree = DecisionTreeClassifier(criterion= 'gini', max_depth = None)\n",
    "ada2 = AdaBoostClassifier(dtree,n_estimators=222)"
   ]
  },
  {
   "cell_type": "code",
   "execution_count": 180,
   "id": "b1bc64e0",
   "metadata": {},
   "outputs": [
    {
     "name": "stderr",
     "output_type": "stream",
     "text": [
      "C:\\Users\\Bhuvaneshvaran k\\anaconda3\\lib\\site-packages\\sklearn\\utils\\validation.py:993: DataConversionWarning: A column-vector y was passed when a 1d array was expected. Please change the shape of y to (n_samples, ), for example using ravel().\n",
      "  y = column_or_1d(y, warn=True)\n"
     ]
    }
   ],
   "source": [
    "model_ada=ada2.fit(x_train,y_train)"
   ]
  },
  {
   "cell_type": "code",
   "execution_count": 181,
   "id": "1a4b8c7b",
   "metadata": {},
   "outputs": [
    {
     "name": "stderr",
     "output_type": "stream",
     "text": [
      "C:\\Users\\Bhuvaneshvaran k\\anaconda3\\lib\\site-packages\\sklearn\\utils\\validation.py:993: DataConversionWarning: A column-vector y was passed when a 1d array was expected. Please change the shape of y to (n_samples, ), for example using ravel().\n",
      "  y = column_or_1d(y, warn=True)\n"
     ]
    }
   ],
   "source": [
    "y_pred=ada2.fit(x_train,y_train)"
   ]
  },
  {
   "cell_type": "code",
   "execution_count": 182,
   "id": "347f737c",
   "metadata": {},
   "outputs": [],
   "source": [
    "from sklearn.metrics import accuracy_score,classification_report,confusion_matrix,roc_curve,auc,roc_auc_score"
   ]
  },
  {
   "cell_type": "markdown",
   "id": "2090487f",
   "metadata": {},
   "source": [
    "# SVM(Support vector machine)"
   ]
  },
  {
   "cell_type": "code",
   "execution_count": 186,
   "id": "271a6e8d",
   "metadata": {},
   "outputs": [],
   "source": [
    "from sklearn.model_selection import train_test_split\n",
    "x_train,x_test,y_train,y_test=train_test_split(x,y,test_size=0.20,random_state=44)"
   ]
  },
  {
   "cell_type": "code",
   "execution_count": 187,
   "id": "9f308783",
   "metadata": {},
   "outputs": [],
   "source": [
    "from sklearn import svm"
   ]
  },
  {
   "cell_type": "code",
   "execution_count": 188,
   "id": "4147a9fb",
   "metadata": {},
   "outputs": [
    {
     "name": "stderr",
     "output_type": "stream",
     "text": [
      "C:\\Users\\Bhuvaneshvaran k\\anaconda3\\lib\\site-packages\\sklearn\\utils\\validation.py:993: DataConversionWarning: A column-vector y was passed when a 1d array was expected. Please change the shape of y to (n_samples, ), for example using ravel().\n",
      "  y = column_or_1d(y, warn=True)\n"
     ]
    },
    {
     "data": {
      "text/plain": [
       "{'C': 1.0,\n",
       " 'break_ties': False,\n",
       " 'cache_size': 200,\n",
       " 'class_weight': 'balanced',\n",
       " 'coef0': 0.0,\n",
       " 'decision_function_shape': 'ovr',\n",
       " 'degree': 3,\n",
       " 'gamma': 'scale',\n",
       " 'kernel': 'rbf',\n",
       " 'max_iter': -1,\n",
       " 'probability': True,\n",
       " 'random_state': None,\n",
       " 'shrinking': True,\n",
       " 'tol': 0.001,\n",
       " 'verbose': False}"
      ]
     },
     "execution_count": 188,
     "metadata": {},
     "output_type": "execute_result"
    }
   ],
   "source": [
    "svc = svm.SVC(class_weight='balanced', probability=True)\n",
    "model_svc = svc.fit(x_train,y_train)\n",
    "model_svc.get_params()"
   ]
  },
  {
   "cell_type": "code",
   "execution_count": 189,
   "id": "5771eb33",
   "metadata": {},
   "outputs": [
    {
     "data": {
      "text/plain": [
       "2834"
      ]
     },
     "execution_count": 189,
     "metadata": {},
     "output_type": "execute_result"
    }
   ],
   "source": [
    "y_pred = model_svc.predict(x_test)\n",
    "len(y_pred)"
   ]
  },
  {
   "cell_type": "code",
   "execution_count": 190,
   "id": "51811e55",
   "metadata": {},
   "outputs": [
    {
     "data": {
      "text/plain": [
       "0.9573041637261821"
      ]
     },
     "execution_count": 190,
     "metadata": {},
     "output_type": "execute_result"
    }
   ],
   "source": [
    "accuracy_score(y_test,y_pred)"
   ]
  },
  {
   "cell_type": "code",
   "execution_count": 191,
   "id": "8dc15c88",
   "metadata": {},
   "outputs": [
    {
     "name": "stdout",
     "output_type": "stream",
     "text": [
      "[[1293   97]\n",
      " [  24 1420]]\n"
     ]
    }
   ],
   "source": [
    "print(confusion_matrix(y_test,y_pred))"
   ]
  },
  {
   "cell_type": "code",
   "execution_count": 192,
   "id": "60fba1d5",
   "metadata": {},
   "outputs": [
    {
     "name": "stdout",
     "output_type": "stream",
     "text": [
      "              precision    recall  f1-score   support\n",
      "\n",
      "           0       0.98      0.93      0.96      1390\n",
      "           1       0.94      0.98      0.96      1444\n",
      "\n",
      "    accuracy                           0.96      2834\n",
      "   macro avg       0.96      0.96      0.96      2834\n",
      "weighted avg       0.96      0.96      0.96      2834\n",
      "\n"
     ]
    }
   ],
   "source": [
    "print(classification_report(y_test,y_pred))"
   ]
  },
  {
   "cell_type": "code",
   "execution_count": 193,
   "id": "2809bcf9",
   "metadata": {},
   "outputs": [
    {
     "data": {
      "text/plain": [
       "0.9567976643615856"
      ]
     },
     "execution_count": 193,
     "metadata": {},
     "output_type": "execute_result"
    }
   ],
   "source": [
    "roc_auc_score(y_test,y_pred)"
   ]
  },
  {
   "cell_type": "markdown",
   "id": "e7df66c9",
   "metadata": {},
   "source": [
    "# KNN (K NEAREST NEIGHBOUR)"
   ]
  },
  {
   "cell_type": "code",
   "execution_count": 194,
   "id": "288798d2",
   "metadata": {},
   "outputs": [
    {
     "name": "stdout",
     "output_type": "stream",
     "text": [
      "KNeighborsClassifier(n_neighbors=13)\n",
      "KNeighborsClassifier(n_neighbors=13)\n"
     ]
    },
    {
     "name": "stderr",
     "output_type": "stream",
     "text": [
      "C:\\Users\\Bhuvaneshvaran k\\anaconda3\\lib\\site-packages\\sklearn\\neighbors\\_classification.py:198: DataConversionWarning: A column-vector y was passed when a 1d array was expected. Please change the shape of y to (n_samples,), for example using ravel().\n",
      "  return self._fit(X, y)\n"
     ]
    }
   ],
   "source": [
    "from sklearn.neighbors import KNeighborsClassifier\n",
    "knn=KNeighborsClassifier(n_neighbors=13)\n",
    "print(knn)\n",
    "mpm_knn=knn.fit(x_train,y_train)\n",
    "print(mpm_knn)"
   ]
  },
  {
   "cell_type": "code",
   "execution_count": 195,
   "id": "80389194",
   "metadata": {},
   "outputs": [
    {
     "name": "stdout",
     "output_type": "stream",
     "text": [
      "[0 1 1 ... 1 1 1]\n"
     ]
    }
   ],
   "source": [
    "#Applying on Test data for prediction\n",
    "y_pred = mpm_knn.predict(x_test)\n",
    "print(y_pred)"
   ]
  },
  {
   "cell_type": "code",
   "execution_count": 196,
   "id": "b84247cf",
   "metadata": {},
   "outputs": [
    {
     "data": {
      "text/plain": [
       "0.8835568101623148"
      ]
     },
     "execution_count": 196,
     "metadata": {},
     "output_type": "execute_result"
    }
   ],
   "source": [
    "# prediction score\n",
    "mpm_knn.score(x_test,y_test)"
   ]
  },
  {
   "cell_type": "code",
   "execution_count": 197,
   "id": "4f526e7f",
   "metadata": {},
   "outputs": [
    {
     "data": {
      "text/plain": [
       "0.8835568101623148"
      ]
     },
     "execution_count": 197,
     "metadata": {},
     "output_type": "execute_result"
    }
   ],
   "source": [
    "from sklearn.metrics import accuracy_score\n",
    "accuracy_score(y_test,y_pred)"
   ]
  },
  {
   "cell_type": "code",
   "execution_count": 198,
   "id": "aa9f715d",
   "metadata": {},
   "outputs": [],
   "source": [
    "# find optimal number of n neighbors\n",
    "error_rate=[]"
   ]
  },
  {
   "cell_type": "markdown",
   "id": "57cf0450",
   "metadata": {},
   "source": [
    "# NAVIEBAYES "
   ]
  },
  {
   "cell_type": "code",
   "execution_count": 199,
   "id": "ca40aca0",
   "metadata": {},
   "outputs": [],
   "source": [
    "from sklearn.model_selection import train_test_split"
   ]
  },
  {
   "cell_type": "code",
   "execution_count": 200,
   "id": "ba49038a",
   "metadata": {},
   "outputs": [],
   "source": [
    "x_tarin,x_test,y_train,y_test= train_test_split(x,y,test_size=0.2,random_state=8)"
   ]
  },
  {
   "cell_type": "code",
   "execution_count": 201,
   "id": "6b790d7a",
   "metadata": {},
   "outputs": [
    {
     "name": "stderr",
     "output_type": "stream",
     "text": [
      "C:\\Users\\Bhuvaneshvaran k\\anaconda3\\lib\\site-packages\\sklearn\\utils\\validation.py:993: DataConversionWarning: A column-vector y was passed when a 1d array was expected. Please change the shape of y to (n_samples, ), for example using ravel().\n",
      "  y = column_or_1d(y, warn=True)\n"
     ]
    },
    {
     "data": {
      "text/plain": [
       "GaussianNB()"
      ]
     },
     "execution_count": 201,
     "metadata": {},
     "output_type": "execute_result"
    }
   ],
   "source": [
    "from sklearn.naive_bayes import GaussianNB\n",
    "gnb=GaussianNB()\n",
    "model=gnb.fit(x_train,y_train)\n",
    "model"
   ]
  },
  {
   "cell_type": "code",
   "execution_count": 202,
   "id": "6396606e",
   "metadata": {},
   "outputs": [],
   "source": [
    "y_pred=model.predict(x_test)\n"
   ]
  },
  {
   "cell_type": "code",
   "execution_count": 203,
   "id": "2db23012",
   "metadata": {},
   "outputs": [],
   "source": [
    "from sklearn.metrics import classification_report,confusion_matrix,accuracy_score"
   ]
  },
  {
   "cell_type": "code",
   "execution_count": 204,
   "id": "5e421292",
   "metadata": {},
   "outputs": [
    {
     "data": {
      "text/plain": [
       "array([[578, 968],\n",
       "       [812, 476]], dtype=int64)"
      ]
     },
     "execution_count": 204,
     "metadata": {},
     "output_type": "execute_result"
    }
   ],
   "source": [
    "confusion_matrix(y_pred,y_test)"
   ]
  },
  {
   "cell_type": "code",
   "execution_count": 205,
   "id": "2a3da1c2",
   "metadata": {},
   "outputs": [
    {
     "name": "stdout",
     "output_type": "stream",
     "text": [
      "              precision    recall  f1-score   support\n",
      "\n",
      "           0       0.42      0.37      0.39      1546\n",
      "           1       0.33      0.37      0.35      1288\n",
      "\n",
      "    accuracy                           0.37      2834\n",
      "   macro avg       0.37      0.37      0.37      2834\n",
      "weighted avg       0.38      0.37      0.37      2834\n",
      "\n"
     ]
    }
   ],
   "source": [
    "print(classification_report(y_pred,y_test))\n"
   ]
  },
  {
   "cell_type": "code",
   "execution_count": 206,
   "id": "23cba9c9",
   "metadata": {},
   "outputs": [
    {
     "name": "stdout",
     "output_type": "stream",
     "text": [
      "37.191249117854625\n"
     ]
    }
   ],
   "source": [
    "print(accuracy_score(y_test,y_pred)*100)"
   ]
  },
  {
   "cell_type": "code",
   "execution_count": null,
   "id": "b4307f5a",
   "metadata": {},
   "outputs": [],
   "source": []
  }
 ],
 "metadata": {
  "kernelspec": {
   "display_name": "Python 3 (ipykernel)",
   "language": "python",
   "name": "python3"
  },
  "language_info": {
   "codemirror_mode": {
    "name": "ipython",
    "version": 3
   },
   "file_extension": ".py",
   "mimetype": "text/x-python",
   "name": "python",
   "nbconvert_exporter": "python",
   "pygments_lexer": "ipython3",
   "version": "3.9.12"
  }
 },
 "nbformat": 4,
 "nbformat_minor": 5
}
